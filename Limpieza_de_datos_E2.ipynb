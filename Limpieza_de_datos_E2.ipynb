{
  "nbformat": 4,
  "nbformat_minor": 0,
  "metadata": {
    "colab": {
      "name": "Limpieza_de_datos_E2.ipynb",
      "provenance": [],
      "collapsed_sections": []
    },
    "kernelspec": {
      "name": "python3",
      "display_name": "Python 3"
    },
    "language_info": {
      "name": "python"
    }
  },
  "cells": [
    {
      "cell_type": "markdown",
      "source": [
        "#Limpieza de datos\n",
        "William Andres Talero Bermudez\n",
        "Juan Sebastian Velasquez Castañda"
      ],
      "metadata": {
        "id": "4hmqJJ7CUNMZ"
      }
    },
    {
      "cell_type": "markdown",
      "source": [
        "#*Importar librerias*"
      ],
      "metadata": {
        "id": "j8Vv0GBtwFa0"
      }
    },
    {
      "cell_type": "code",
      "source": [
        "import pandas as pd\n",
        "import numpy as np\n",
        "pd.set_option('display.max_columns', None) #Mostrar todas las columnas"
      ],
      "metadata": {
        "id": "LO6psZtBwHww"
      },
      "execution_count": 1,
      "outputs": []
    },
    {
      "cell_type": "markdown",
      "source": [
        "#*Importar datos*"
      ],
      "metadata": {
        "id": "2Us_qxvgwVEy"
      }
    },
    {
      "cell_type": "code",
      "source": [
        "from google.colab import drive\n",
        "drive.mount('/content/drive')"
      ],
      "metadata": {
        "colab": {
          "base_uri": "https://localhost:8080/"
        },
        "id": "y1wlfxE_wc1S",
        "outputId": "555048c4-1a01-4966-975d-00d8b721c849"
      },
      "execution_count": 3,
      "outputs": [
        {
          "output_type": "stream",
          "name": "stdout",
          "text": [
            "Mounted at /content/drive\n"
          ]
        }
      ]
    },
    {
      "cell_type": "code",
      "source": [
        "df_extranjeros = pd.read_csv('/content/drive/MyDrive/Base_Proyecto/Entradas_de_extranjeros_a_Colombia.csv', \n",
        "                 sep = ',',\n",
        "                 thousands=',', decimal='.',\n",
        "                 skip_blank_lines=True,\n",
        "                 low_memory = False)\n",
        "df_extranjeros"
      ],
      "metadata": {
        "colab": {
          "base_uri": "https://localhost:8080/",
          "height": 424
        },
        "id": "003jI89kwtw6",
        "outputId": "becce2ae-b764-4805-efd9-2c0b2d0cd1c9"
      },
      "execution_count": 4,
      "outputs": [
        {
          "output_type": "execute_result",
          "data": {
            "text/plain": [
              "         Año        Mes                                       Nacionalidad  \\\n",
              "0       2012      Enero                            Islas Alboran y Perejil   \n",
              "1       2012      Enero                                            Albania   \n",
              "2       2012      Enero                                           Alemania   \n",
              "3       2012      Enero                                           Alemania   \n",
              "4       2012      Enero                                           Alemania   \n",
              "...      ...        ...                                                ...   \n",
              "112288  2021  Diciembre           Anguila/Territorio Británico de Ultramar   \n",
              "112289  2021  Diciembre           Anguila/Territorio Británico de Ultramar   \n",
              "112290  2021  Diciembre  Islas Turcas y Caicos/Territorio Británico de ...   \n",
              "112291  2021  Diciembre                                        Desconocido   \n",
              "112292  2021  Diciembre                                        Desconocido   \n",
              "\n",
              "        Codigo Iso 3166  Femenino  Masculino  Indefinido  Total  \\\n",
              "0                 99999         1          0         NaN      1   \n",
              "1                     8         1          2         NaN      3   \n",
              "2                   276        11         16         NaN     27   \n",
              "3                   276         1          1         NaN      2   \n",
              "4                   276        63        102         NaN    165   \n",
              "...                 ...       ...        ...         ...    ...   \n",
              "112288              660         0          1         NaN      1   \n",
              "112289              660         1          1         NaN      2   \n",
              "112290              796         0          2         NaN      2   \n",
              "112291            99999        31         41         NaN     72   \n",
              "112292            99999         0          2         NaN      2   \n",
              "\n",
              "            Latitud - Longitud  \n",
              "0        (4.697144,-74.140516)  \n",
              "1        (4.697144,-74.140516)  \n",
              "2       (-4.197703,-69.941278)  \n",
              "3         (0.25129,-76.875963)  \n",
              "4        (0.814836,-77.662532)  \n",
              "...                        ...  \n",
              "112288   (3.541112,-76.384584)  \n",
              "112289   (4.697144,-74.140516)  \n",
              "112290  (10.445761,-75.516429)  \n",
              "112291   (4.697144,-74.140516)  \n",
              "112292   (7.818934,-72.453226)  \n",
              "\n",
              "[112293 rows x 9 columns]"
            ],
            "text/html": [
              "\n",
              "  <div id=\"df-f3706945-9af8-41f5-8ea0-1e397bdf45e5\">\n",
              "    <div class=\"colab-df-container\">\n",
              "      <div>\n",
              "<style scoped>\n",
              "    .dataframe tbody tr th:only-of-type {\n",
              "        vertical-align: middle;\n",
              "    }\n",
              "\n",
              "    .dataframe tbody tr th {\n",
              "        vertical-align: top;\n",
              "    }\n",
              "\n",
              "    .dataframe thead th {\n",
              "        text-align: right;\n",
              "    }\n",
              "</style>\n",
              "<table border=\"1\" class=\"dataframe\">\n",
              "  <thead>\n",
              "    <tr style=\"text-align: right;\">\n",
              "      <th></th>\n",
              "      <th>Año</th>\n",
              "      <th>Mes</th>\n",
              "      <th>Nacionalidad</th>\n",
              "      <th>Codigo Iso 3166</th>\n",
              "      <th>Femenino</th>\n",
              "      <th>Masculino</th>\n",
              "      <th>Indefinido</th>\n",
              "      <th>Total</th>\n",
              "      <th>Latitud - Longitud</th>\n",
              "    </tr>\n",
              "  </thead>\n",
              "  <tbody>\n",
              "    <tr>\n",
              "      <th>0</th>\n",
              "      <td>2012</td>\n",
              "      <td>Enero</td>\n",
              "      <td>Islas Alboran y Perejil</td>\n",
              "      <td>99999</td>\n",
              "      <td>1</td>\n",
              "      <td>0</td>\n",
              "      <td>NaN</td>\n",
              "      <td>1</td>\n",
              "      <td>(4.697144,-74.140516)</td>\n",
              "    </tr>\n",
              "    <tr>\n",
              "      <th>1</th>\n",
              "      <td>2012</td>\n",
              "      <td>Enero</td>\n",
              "      <td>Albania</td>\n",
              "      <td>8</td>\n",
              "      <td>1</td>\n",
              "      <td>2</td>\n",
              "      <td>NaN</td>\n",
              "      <td>3</td>\n",
              "      <td>(4.697144,-74.140516)</td>\n",
              "    </tr>\n",
              "    <tr>\n",
              "      <th>2</th>\n",
              "      <td>2012</td>\n",
              "      <td>Enero</td>\n",
              "      <td>Alemania</td>\n",
              "      <td>276</td>\n",
              "      <td>11</td>\n",
              "      <td>16</td>\n",
              "      <td>NaN</td>\n",
              "      <td>27</td>\n",
              "      <td>(-4.197703,-69.941278)</td>\n",
              "    </tr>\n",
              "    <tr>\n",
              "      <th>3</th>\n",
              "      <td>2012</td>\n",
              "      <td>Enero</td>\n",
              "      <td>Alemania</td>\n",
              "      <td>276</td>\n",
              "      <td>1</td>\n",
              "      <td>1</td>\n",
              "      <td>NaN</td>\n",
              "      <td>2</td>\n",
              "      <td>(0.25129,-76.875963)</td>\n",
              "    </tr>\n",
              "    <tr>\n",
              "      <th>4</th>\n",
              "      <td>2012</td>\n",
              "      <td>Enero</td>\n",
              "      <td>Alemania</td>\n",
              "      <td>276</td>\n",
              "      <td>63</td>\n",
              "      <td>102</td>\n",
              "      <td>NaN</td>\n",
              "      <td>165</td>\n",
              "      <td>(0.814836,-77.662532)</td>\n",
              "    </tr>\n",
              "    <tr>\n",
              "      <th>...</th>\n",
              "      <td>...</td>\n",
              "      <td>...</td>\n",
              "      <td>...</td>\n",
              "      <td>...</td>\n",
              "      <td>...</td>\n",
              "      <td>...</td>\n",
              "      <td>...</td>\n",
              "      <td>...</td>\n",
              "      <td>...</td>\n",
              "    </tr>\n",
              "    <tr>\n",
              "      <th>112288</th>\n",
              "      <td>2021</td>\n",
              "      <td>Diciembre</td>\n",
              "      <td>Anguila/Territorio Británico de Ultramar</td>\n",
              "      <td>660</td>\n",
              "      <td>0</td>\n",
              "      <td>1</td>\n",
              "      <td>NaN</td>\n",
              "      <td>1</td>\n",
              "      <td>(3.541112,-76.384584)</td>\n",
              "    </tr>\n",
              "    <tr>\n",
              "      <th>112289</th>\n",
              "      <td>2021</td>\n",
              "      <td>Diciembre</td>\n",
              "      <td>Anguila/Territorio Británico de Ultramar</td>\n",
              "      <td>660</td>\n",
              "      <td>1</td>\n",
              "      <td>1</td>\n",
              "      <td>NaN</td>\n",
              "      <td>2</td>\n",
              "      <td>(4.697144,-74.140516)</td>\n",
              "    </tr>\n",
              "    <tr>\n",
              "      <th>112290</th>\n",
              "      <td>2021</td>\n",
              "      <td>Diciembre</td>\n",
              "      <td>Islas Turcas y Caicos/Territorio Británico de ...</td>\n",
              "      <td>796</td>\n",
              "      <td>0</td>\n",
              "      <td>2</td>\n",
              "      <td>NaN</td>\n",
              "      <td>2</td>\n",
              "      <td>(10.445761,-75.516429)</td>\n",
              "    </tr>\n",
              "    <tr>\n",
              "      <th>112291</th>\n",
              "      <td>2021</td>\n",
              "      <td>Diciembre</td>\n",
              "      <td>Desconocido</td>\n",
              "      <td>99999</td>\n",
              "      <td>31</td>\n",
              "      <td>41</td>\n",
              "      <td>NaN</td>\n",
              "      <td>72</td>\n",
              "      <td>(4.697144,-74.140516)</td>\n",
              "    </tr>\n",
              "    <tr>\n",
              "      <th>112292</th>\n",
              "      <td>2021</td>\n",
              "      <td>Diciembre</td>\n",
              "      <td>Desconocido</td>\n",
              "      <td>99999</td>\n",
              "      <td>0</td>\n",
              "      <td>2</td>\n",
              "      <td>NaN</td>\n",
              "      <td>2</td>\n",
              "      <td>(7.818934,-72.453226)</td>\n",
              "    </tr>\n",
              "  </tbody>\n",
              "</table>\n",
              "<p>112293 rows × 9 columns</p>\n",
              "</div>\n",
              "      <button class=\"colab-df-convert\" onclick=\"convertToInteractive('df-f3706945-9af8-41f5-8ea0-1e397bdf45e5')\"\n",
              "              title=\"Convert this dataframe to an interactive table.\"\n",
              "              style=\"display:none;\">\n",
              "        \n",
              "  <svg xmlns=\"http://www.w3.org/2000/svg\" height=\"24px\"viewBox=\"0 0 24 24\"\n",
              "       width=\"24px\">\n",
              "    <path d=\"M0 0h24v24H0V0z\" fill=\"none\"/>\n",
              "    <path d=\"M18.56 5.44l.94 2.06.94-2.06 2.06-.94-2.06-.94-.94-2.06-.94 2.06-2.06.94zm-11 1L8.5 8.5l.94-2.06 2.06-.94-2.06-.94L8.5 2.5l-.94 2.06-2.06.94zm10 10l.94 2.06.94-2.06 2.06-.94-2.06-.94-.94-2.06-.94 2.06-2.06.94z\"/><path d=\"M17.41 7.96l-1.37-1.37c-.4-.4-.92-.59-1.43-.59-.52 0-1.04.2-1.43.59L10.3 9.45l-7.72 7.72c-.78.78-.78 2.05 0 2.83L4 21.41c.39.39.9.59 1.41.59.51 0 1.02-.2 1.41-.59l7.78-7.78 2.81-2.81c.8-.78.8-2.07 0-2.86zM5.41 20L4 18.59l7.72-7.72 1.47 1.35L5.41 20z\"/>\n",
              "  </svg>\n",
              "      </button>\n",
              "      \n",
              "  <style>\n",
              "    .colab-df-container {\n",
              "      display:flex;\n",
              "      flex-wrap:wrap;\n",
              "      gap: 12px;\n",
              "    }\n",
              "\n",
              "    .colab-df-convert {\n",
              "      background-color: #E8F0FE;\n",
              "      border: none;\n",
              "      border-radius: 50%;\n",
              "      cursor: pointer;\n",
              "      display: none;\n",
              "      fill: #1967D2;\n",
              "      height: 32px;\n",
              "      padding: 0 0 0 0;\n",
              "      width: 32px;\n",
              "    }\n",
              "\n",
              "    .colab-df-convert:hover {\n",
              "      background-color: #E2EBFA;\n",
              "      box-shadow: 0px 1px 2px rgba(60, 64, 67, 0.3), 0px 1px 3px 1px rgba(60, 64, 67, 0.15);\n",
              "      fill: #174EA6;\n",
              "    }\n",
              "\n",
              "    [theme=dark] .colab-df-convert {\n",
              "      background-color: #3B4455;\n",
              "      fill: #D2E3FC;\n",
              "    }\n",
              "\n",
              "    [theme=dark] .colab-df-convert:hover {\n",
              "      background-color: #434B5C;\n",
              "      box-shadow: 0px 1px 3px 1px rgba(0, 0, 0, 0.15);\n",
              "      filter: drop-shadow(0px 1px 2px rgba(0, 0, 0, 0.3));\n",
              "      fill: #FFFFFF;\n",
              "    }\n",
              "  </style>\n",
              "\n",
              "      <script>\n",
              "        const buttonEl =\n",
              "          document.querySelector('#df-f3706945-9af8-41f5-8ea0-1e397bdf45e5 button.colab-df-convert');\n",
              "        buttonEl.style.display =\n",
              "          google.colab.kernel.accessAllowed ? 'block' : 'none';\n",
              "\n",
              "        async function convertToInteractive(key) {\n",
              "          const element = document.querySelector('#df-f3706945-9af8-41f5-8ea0-1e397bdf45e5');\n",
              "          const dataTable =\n",
              "            await google.colab.kernel.invokeFunction('convertToInteractive',\n",
              "                                                     [key], {});\n",
              "          if (!dataTable) return;\n",
              "\n",
              "          const docLinkHtml = 'Like what you see? Visit the ' +\n",
              "            '<a target=\"_blank\" href=https://colab.research.google.com/notebooks/data_table.ipynb>data table notebook</a>'\n",
              "            + ' to learn more about interactive tables.';\n",
              "          element.innerHTML = '';\n",
              "          dataTable['output_type'] = 'display_data';\n",
              "          await google.colab.output.renderOutput(dataTable, element);\n",
              "          const docLink = document.createElement('div');\n",
              "          docLink.innerHTML = docLinkHtml;\n",
              "          element.appendChild(docLink);\n",
              "        }\n",
              "      </script>\n",
              "    </div>\n",
              "  </div>\n",
              "  "
            ]
          },
          "metadata": {},
          "execution_count": 4
        }
      ]
    },
    {
      "cell_type": "code",
      "source": [
        "df_extranjeros.dtypes"
      ],
      "metadata": {
        "colab": {
          "base_uri": "https://localhost:8080/"
        },
        "id": "78fddsEZxRm3",
        "outputId": "c7878e0a-73ee-4274-b99a-f93c9438dd97"
      },
      "execution_count": null,
      "outputs": [
        {
          "output_type": "execute_result",
          "data": {
            "text/plain": [
              "Año                     int64\n",
              "Mes                    object\n",
              "Nacionalidad           object\n",
              "Codigo Iso 3166         int64\n",
              "Femenino                int64\n",
              "Masculino               int64\n",
              "Indefinido            float64\n",
              "Total                   int64\n",
              "Latitud - Longitud     object\n",
              "dtype: object"
            ]
          },
          "metadata": {},
          "execution_count": 6
        }
      ]
    },
    {
      "cell_type": "markdown",
      "source": [
        "#*Agregar 2 nuevas variables: Continente y Ciudad*"
      ],
      "metadata": {
        "id": "K8yS-kw9xvOY"
      }
    },
    {
      "cell_type": "markdown",
      "source": [
        "## *Ciudad*"
      ],
      "metadata": {
        "id": "a2xB3Qrf6cIa"
      }
    },
    {
      "cell_type": "code",
      "source": [
        "df_extranjeros['Ciudad']=df_extranjeros[\"Latitud - Longitud\"]"
      ],
      "metadata": {
        "id": "lw1gTUPbx1Su"
      },
      "execution_count": 5,
      "outputs": []
    },
    {
      "cell_type": "markdown",
      "source": [
        "#Ciudades principales"
      ],
      "metadata": {
        "id": "CcCJiubrwRvv"
      }
    },
    {
      "cell_type": "code",
      "source": [
        "df_extranjeros['Ciudad']=df_extranjeros[\"Ciudad\"].replace([\"(4.697144,-74.140516)\",\"(6.171601,-75.427454)\",\"(7.818934,-72.453226)\",\"(7.916725,-72.462544)\",\"(7.088729,-70.740253)\",\"(10.445761,-75.516429)\",\"(10.408582,-75.538003)\",\"(0.814836,-77.662532)\",\"(0.25129,-76.875963)\",\"(3.541112,-76.384584)\"],[\"Bogotá\",\"Medellin\",\"Cúcuta\",\"Cúcuta\",\"Cúcuta\",\"Cartagena\",\"Cartagena\",\"Pasto\",\"Pasto\",\"Cali\"])"
      ],
      "metadata": {
        "id": "LOsCo7D86BwF"
      },
      "execution_count": 6,
      "outputs": []
    },
    {
      "cell_type": "code",
      "source": [
        "(df_extranjeros \n",
        "  .groupby(\"Ciudad\")\n",
        "  .agg(frequency=(\"Total\", \"sum\")))"
      ],
      "metadata": {
        "colab": {
          "base_uri": "https://localhost:8080/",
          "height": 1000
        },
        "id": "UySLWHQC6MsP",
        "outputId": "5fb6b21a-9eda-4e91-95ec-0e132343ad62"
      },
      "execution_count": 7,
      "outputs": [
        {
          "output_type": "execute_result",
          "data": {
            "text/plain": [
              "                         frequency\n",
              "Ciudad                            \n",
              "(-0.193180,-74.784874)        1697\n",
              "(-4.197703,-69.941278)       54947\n",
              "(-4.223468,-69.945098)       12683\n",
              "(0.812436,-77.847006)          878\n",
              "(1.397318,-77.290564)           29\n",
              "(1.812361,-78.751529)           10\n",
              "(1.813928,-78.763924)        12258\n",
              "(10.433609,-73.247863)         420\n",
              "(10.886611,-74.776708)      324134\n",
              "(10.971302,-74.765397)        5528\n",
              "(11.117806,-74.232622)        2407\n",
              "(11.247723,-74.213989)        9348\n",
              "(11.360009,-72.129330)      836902\n",
              "(11.528919,-72.919681)        3903\n",
              "(12.165168,-71.983761)         161\n",
              "(12.2205723,-71.989035)          2\n",
              "(12.5744111,-81.703935)       4255\n",
              "(12.586067,-81.702563)      261189\n",
              "(13.3387613,-81.372937)       2435\n",
              "(2.947286,-75.29321)             9\n",
              "(3.866713,-67.927521)         3833\n",
              "(3.893038,-77.067921)         3972\n",
              "(4.077098,-73.565239)            1\n",
              "(4.16909,-73.612469)            25\n",
              "(4.253669,-74.642361)          248\n",
              "(4.452882,-75.766298)        42345\n",
              "(4.815061,-75.736532)        85200\n",
              "(6.17134,-75.427194)           192\n",
              "(6.185799,-67.483929)        36507\n",
              "(6.228046,-77.404104)          521\n",
              "(7.102626,-77.762647)          677\n",
              "(7.128456,-73.183637)        30661\n",
              "(7.927209,-72.507910)        48000\n",
              "(8.066966,-76.735404)          359\n",
              "(8.36068,-72.409396)        132850\n",
              "(8.635765,-77.346578)        20683\n",
              "(9.402978,-75.681599)         1816\n",
              "Bogotá                    14254483\n",
              "Cali                        891875\n",
              "Cartagena                  2017288\n",
              "Cúcuta                     2343540\n",
              "Medellin                   2281951\n",
              "NoAplica,NoAplica              106\n",
              "Pasto                       945279"
            ],
            "text/html": [
              "\n",
              "  <div id=\"df-80c26de0-b89c-4613-abfa-bf4079e2edeb\">\n",
              "    <div class=\"colab-df-container\">\n",
              "      <div>\n",
              "<style scoped>\n",
              "    .dataframe tbody tr th:only-of-type {\n",
              "        vertical-align: middle;\n",
              "    }\n",
              "\n",
              "    .dataframe tbody tr th {\n",
              "        vertical-align: top;\n",
              "    }\n",
              "\n",
              "    .dataframe thead th {\n",
              "        text-align: right;\n",
              "    }\n",
              "</style>\n",
              "<table border=\"1\" class=\"dataframe\">\n",
              "  <thead>\n",
              "    <tr style=\"text-align: right;\">\n",
              "      <th></th>\n",
              "      <th>frequency</th>\n",
              "    </tr>\n",
              "    <tr>\n",
              "      <th>Ciudad</th>\n",
              "      <th></th>\n",
              "    </tr>\n",
              "  </thead>\n",
              "  <tbody>\n",
              "    <tr>\n",
              "      <th>(-0.193180,-74.784874)</th>\n",
              "      <td>1697</td>\n",
              "    </tr>\n",
              "    <tr>\n",
              "      <th>(-4.197703,-69.941278)</th>\n",
              "      <td>54947</td>\n",
              "    </tr>\n",
              "    <tr>\n",
              "      <th>(-4.223468,-69.945098)</th>\n",
              "      <td>12683</td>\n",
              "    </tr>\n",
              "    <tr>\n",
              "      <th>(0.812436,-77.847006)</th>\n",
              "      <td>878</td>\n",
              "    </tr>\n",
              "    <tr>\n",
              "      <th>(1.397318,-77.290564)</th>\n",
              "      <td>29</td>\n",
              "    </tr>\n",
              "    <tr>\n",
              "      <th>(1.812361,-78.751529)</th>\n",
              "      <td>10</td>\n",
              "    </tr>\n",
              "    <tr>\n",
              "      <th>(1.813928,-78.763924)</th>\n",
              "      <td>12258</td>\n",
              "    </tr>\n",
              "    <tr>\n",
              "      <th>(10.433609,-73.247863)</th>\n",
              "      <td>420</td>\n",
              "    </tr>\n",
              "    <tr>\n",
              "      <th>(10.886611,-74.776708)</th>\n",
              "      <td>324134</td>\n",
              "    </tr>\n",
              "    <tr>\n",
              "      <th>(10.971302,-74.765397)</th>\n",
              "      <td>5528</td>\n",
              "    </tr>\n",
              "    <tr>\n",
              "      <th>(11.117806,-74.232622)</th>\n",
              "      <td>2407</td>\n",
              "    </tr>\n",
              "    <tr>\n",
              "      <th>(11.247723,-74.213989)</th>\n",
              "      <td>9348</td>\n",
              "    </tr>\n",
              "    <tr>\n",
              "      <th>(11.360009,-72.129330)</th>\n",
              "      <td>836902</td>\n",
              "    </tr>\n",
              "    <tr>\n",
              "      <th>(11.528919,-72.919681)</th>\n",
              "      <td>3903</td>\n",
              "    </tr>\n",
              "    <tr>\n",
              "      <th>(12.165168,-71.983761)</th>\n",
              "      <td>161</td>\n",
              "    </tr>\n",
              "    <tr>\n",
              "      <th>(12.2205723,-71.989035)</th>\n",
              "      <td>2</td>\n",
              "    </tr>\n",
              "    <tr>\n",
              "      <th>(12.5744111,-81.703935)</th>\n",
              "      <td>4255</td>\n",
              "    </tr>\n",
              "    <tr>\n",
              "      <th>(12.586067,-81.702563)</th>\n",
              "      <td>261189</td>\n",
              "    </tr>\n",
              "    <tr>\n",
              "      <th>(13.3387613,-81.372937)</th>\n",
              "      <td>2435</td>\n",
              "    </tr>\n",
              "    <tr>\n",
              "      <th>(2.947286,-75.29321)</th>\n",
              "      <td>9</td>\n",
              "    </tr>\n",
              "    <tr>\n",
              "      <th>(3.866713,-67.927521)</th>\n",
              "      <td>3833</td>\n",
              "    </tr>\n",
              "    <tr>\n",
              "      <th>(3.893038,-77.067921)</th>\n",
              "      <td>3972</td>\n",
              "    </tr>\n",
              "    <tr>\n",
              "      <th>(4.077098,-73.565239)</th>\n",
              "      <td>1</td>\n",
              "    </tr>\n",
              "    <tr>\n",
              "      <th>(4.16909,-73.612469)</th>\n",
              "      <td>25</td>\n",
              "    </tr>\n",
              "    <tr>\n",
              "      <th>(4.253669,-74.642361)</th>\n",
              "      <td>248</td>\n",
              "    </tr>\n",
              "    <tr>\n",
              "      <th>(4.452882,-75.766298)</th>\n",
              "      <td>42345</td>\n",
              "    </tr>\n",
              "    <tr>\n",
              "      <th>(4.815061,-75.736532)</th>\n",
              "      <td>85200</td>\n",
              "    </tr>\n",
              "    <tr>\n",
              "      <th>(6.17134,-75.427194)</th>\n",
              "      <td>192</td>\n",
              "    </tr>\n",
              "    <tr>\n",
              "      <th>(6.185799,-67.483929)</th>\n",
              "      <td>36507</td>\n",
              "    </tr>\n",
              "    <tr>\n",
              "      <th>(6.228046,-77.404104)</th>\n",
              "      <td>521</td>\n",
              "    </tr>\n",
              "    <tr>\n",
              "      <th>(7.102626,-77.762647)</th>\n",
              "      <td>677</td>\n",
              "    </tr>\n",
              "    <tr>\n",
              "      <th>(7.128456,-73.183637)</th>\n",
              "      <td>30661</td>\n",
              "    </tr>\n",
              "    <tr>\n",
              "      <th>(7.927209,-72.507910)</th>\n",
              "      <td>48000</td>\n",
              "    </tr>\n",
              "    <tr>\n",
              "      <th>(8.066966,-76.735404)</th>\n",
              "      <td>359</td>\n",
              "    </tr>\n",
              "    <tr>\n",
              "      <th>(8.36068,-72.409396)</th>\n",
              "      <td>132850</td>\n",
              "    </tr>\n",
              "    <tr>\n",
              "      <th>(8.635765,-77.346578)</th>\n",
              "      <td>20683</td>\n",
              "    </tr>\n",
              "    <tr>\n",
              "      <th>(9.402978,-75.681599)</th>\n",
              "      <td>1816</td>\n",
              "    </tr>\n",
              "    <tr>\n",
              "      <th>Bogotá</th>\n",
              "      <td>14254483</td>\n",
              "    </tr>\n",
              "    <tr>\n",
              "      <th>Cali</th>\n",
              "      <td>891875</td>\n",
              "    </tr>\n",
              "    <tr>\n",
              "      <th>Cartagena</th>\n",
              "      <td>2017288</td>\n",
              "    </tr>\n",
              "    <tr>\n",
              "      <th>Cúcuta</th>\n",
              "      <td>2343540</td>\n",
              "    </tr>\n",
              "    <tr>\n",
              "      <th>Medellin</th>\n",
              "      <td>2281951</td>\n",
              "    </tr>\n",
              "    <tr>\n",
              "      <th>NoAplica,NoAplica</th>\n",
              "      <td>106</td>\n",
              "    </tr>\n",
              "    <tr>\n",
              "      <th>Pasto</th>\n",
              "      <td>945279</td>\n",
              "    </tr>\n",
              "  </tbody>\n",
              "</table>\n",
              "</div>\n",
              "      <button class=\"colab-df-convert\" onclick=\"convertToInteractive('df-80c26de0-b89c-4613-abfa-bf4079e2edeb')\"\n",
              "              title=\"Convert this dataframe to an interactive table.\"\n",
              "              style=\"display:none;\">\n",
              "        \n",
              "  <svg xmlns=\"http://www.w3.org/2000/svg\" height=\"24px\"viewBox=\"0 0 24 24\"\n",
              "       width=\"24px\">\n",
              "    <path d=\"M0 0h24v24H0V0z\" fill=\"none\"/>\n",
              "    <path d=\"M18.56 5.44l.94 2.06.94-2.06 2.06-.94-2.06-.94-.94-2.06-.94 2.06-2.06.94zm-11 1L8.5 8.5l.94-2.06 2.06-.94-2.06-.94L8.5 2.5l-.94 2.06-2.06.94zm10 10l.94 2.06.94-2.06 2.06-.94-2.06-.94-.94-2.06-.94 2.06-2.06.94z\"/><path d=\"M17.41 7.96l-1.37-1.37c-.4-.4-.92-.59-1.43-.59-.52 0-1.04.2-1.43.59L10.3 9.45l-7.72 7.72c-.78.78-.78 2.05 0 2.83L4 21.41c.39.39.9.59 1.41.59.51 0 1.02-.2 1.41-.59l7.78-7.78 2.81-2.81c.8-.78.8-2.07 0-2.86zM5.41 20L4 18.59l7.72-7.72 1.47 1.35L5.41 20z\"/>\n",
              "  </svg>\n",
              "      </button>\n",
              "      \n",
              "  <style>\n",
              "    .colab-df-container {\n",
              "      display:flex;\n",
              "      flex-wrap:wrap;\n",
              "      gap: 12px;\n",
              "    }\n",
              "\n",
              "    .colab-df-convert {\n",
              "      background-color: #E8F0FE;\n",
              "      border: none;\n",
              "      border-radius: 50%;\n",
              "      cursor: pointer;\n",
              "      display: none;\n",
              "      fill: #1967D2;\n",
              "      height: 32px;\n",
              "      padding: 0 0 0 0;\n",
              "      width: 32px;\n",
              "    }\n",
              "\n",
              "    .colab-df-convert:hover {\n",
              "      background-color: #E2EBFA;\n",
              "      box-shadow: 0px 1px 2px rgba(60, 64, 67, 0.3), 0px 1px 3px 1px rgba(60, 64, 67, 0.15);\n",
              "      fill: #174EA6;\n",
              "    }\n",
              "\n",
              "    [theme=dark] .colab-df-convert {\n",
              "      background-color: #3B4455;\n",
              "      fill: #D2E3FC;\n",
              "    }\n",
              "\n",
              "    [theme=dark] .colab-df-convert:hover {\n",
              "      background-color: #434B5C;\n",
              "      box-shadow: 0px 1px 3px 1px rgba(0, 0, 0, 0.15);\n",
              "      filter: drop-shadow(0px 1px 2px rgba(0, 0, 0, 0.3));\n",
              "      fill: #FFFFFF;\n",
              "    }\n",
              "  </style>\n",
              "\n",
              "      <script>\n",
              "        const buttonEl =\n",
              "          document.querySelector('#df-80c26de0-b89c-4613-abfa-bf4079e2edeb button.colab-df-convert');\n",
              "        buttonEl.style.display =\n",
              "          google.colab.kernel.accessAllowed ? 'block' : 'none';\n",
              "\n",
              "        async function convertToInteractive(key) {\n",
              "          const element = document.querySelector('#df-80c26de0-b89c-4613-abfa-bf4079e2edeb');\n",
              "          const dataTable =\n",
              "            await google.colab.kernel.invokeFunction('convertToInteractive',\n",
              "                                                     [key], {});\n",
              "          if (!dataTable) return;\n",
              "\n",
              "          const docLinkHtml = 'Like what you see? Visit the ' +\n",
              "            '<a target=\"_blank\" href=https://colab.research.google.com/notebooks/data_table.ipynb>data table notebook</a>'\n",
              "            + ' to learn more about interactive tables.';\n",
              "          element.innerHTML = '';\n",
              "          dataTable['output_type'] = 'display_data';\n",
              "          await google.colab.output.renderOutput(dataTable, element);\n",
              "          const docLink = document.createElement('div');\n",
              "          docLink.innerHTML = docLinkHtml;\n",
              "          element.appendChild(docLink);\n",
              "        }\n",
              "      </script>\n",
              "    </div>\n",
              "  </div>\n",
              "  "
            ]
          },
          "metadata": {},
          "execution_count": 7
        }
      ]
    },
    {
      "cell_type": "markdown",
      "source": [
        "#Demas Ciudades"
      ],
      "metadata": {
        "id": "tD4H7Atx0Rk4"
      }
    },
    {
      "cell_type": "code",
      "source": [
        "df_extranjeros['Ciudad']=df_extranjeros[\"Ciudad\"].replace([\"(-0.193180,-74.784874)\",\"(-4.197703,-69.941278)\",\"(-4.223468,-69.945098)\",\"(0.812436,-77.847006)\",\"(1.397318,-77.290564)\",\"(1.812361,-78.751529)\",\"(1.813928,-78.763924)\",\"(10.433609,-73.247863)\",\"(10.886611,-74.776708)\",\"(10.971302,-74.765397)\",\"(11.117806,-74.232622)\",\"(11.247723,-74.213989)\",\"(11.360009,-72.129330)\",\"(11.528919,-72.919681)\",\"(12.165168,-71.983761)\",\"(12.2205723,-71.989035)\",\"(12.5744111,-81.703935)\",\"(12.586067,-81.702563)\",\"(13.3387613,-81.372937)\",\"(2.947286,-75.29321)\",\"(3.866713,-67.927521)\",\"(3.893038,-77.067921)\",\"(4.077098,-73.565239)\",\"(4.16909,-73.612469)\",\"(4.253669,-74.642361)\",\"(4.452882,-75.766298)\",\"(4.815061,-75.736532)\",\"(6.17134,-75.427194)\",\"(6.185799,-67.483929)\",\"(6.228046,-77.404104)\",\"(7.102626,-77.762647)\",\"(7.128456,-73.183637)\",\"(7.927209,-72.507910)\",\"(8.066966,-76.735404)\",\"(8.36068,-72.409396)\",\"(8.635765,-77.346578)\",\"(9.402978,-75.681599)\"],[\"Putumayo\",\"Leticia\",\"Leticia\",\"Cumbal\",\"Chachagüí\",\"Tumaco\",\"Tumaco\",\"Valledupar\",\"Soledad\",\"Barranquilla\",\"Santa Marta\",\"Santa Marta\",\"Maicao\",\"Riohacha\",\"Uribia\",\"Uribia\",\"San Andres\",\"San Andres\",\"San Andres\",\"Neiva\",\"Inírida\",\"Buenaventura\",\"Villavicencio\",\"Villavicencio\",\"Nilo\",\"Armenia\",\"Pereira\",\"Rionegro\",\"Puerto Carreño\",\"Bahía Solano\",\"Jurado\",\"Lebrija\",\"San Cayetano\",\"Apartadó\",\"Puerto Santander\",\"Acandí\",\"Coveñas\"])"
      ],
      "metadata": {
        "id": "eYn7sjDpxa_4"
      },
      "execution_count": 8,
      "outputs": []
    },
    {
      "cell_type": "code",
      "source": [
        "(df_extranjeros \n",
        "  .groupby(\"Ciudad\")\n",
        "  .agg(frequency=(\"Total\", \"sum\")))"
      ],
      "metadata": {
        "colab": {
          "base_uri": "https://localhost:8080/",
          "height": 1000
        },
        "id": "CtbERJ7OQhKu",
        "outputId": "8f733300-0cb7-430a-9941-c03ade431daf"
      },
      "execution_count": 9,
      "outputs": [
        {
          "output_type": "execute_result",
          "data": {
            "text/plain": [
              "                   frequency\n",
              "Ciudad                      \n",
              "Acandí                 20683\n",
              "Apartadó                 359\n",
              "Armenia                42345\n",
              "Bahía Solano             521\n",
              "Barranquilla            5528\n",
              "Bogotá              14254483\n",
              "Buenaventura            3972\n",
              "Cali                  891875\n",
              "Cartagena            2017288\n",
              "Chachagüí                 29\n",
              "Coveñas                 1816\n",
              "Cumbal                   878\n",
              "Cúcuta               2343540\n",
              "Inírida                 3833\n",
              "Jurado                   677\n",
              "Lebrija                30661\n",
              "Leticia                67630\n",
              "Maicao                836902\n",
              "Medellin             2281951\n",
              "Neiva                      9\n",
              "Nilo                     248\n",
              "NoAplica,NoAplica        106\n",
              "Pasto                 945279\n",
              "Pereira                85200\n",
              "Puerto Carreño         36507\n",
              "Puerto Santander      132850\n",
              "Putumayo                1697\n",
              "Riohacha                3903\n",
              "Rionegro                 192\n",
              "San Andres            267879\n",
              "San Cayetano           48000\n",
              "Santa Marta            11755\n",
              "Soledad               324134\n",
              "Tumaco                 12268\n",
              "Uribia                   163\n",
              "Valledupar               420\n",
              "Villavicencio             26"
            ],
            "text/html": [
              "\n",
              "  <div id=\"df-773fe35f-1a0d-41d2-a472-46901fa7185b\">\n",
              "    <div class=\"colab-df-container\">\n",
              "      <div>\n",
              "<style scoped>\n",
              "    .dataframe tbody tr th:only-of-type {\n",
              "        vertical-align: middle;\n",
              "    }\n",
              "\n",
              "    .dataframe tbody tr th {\n",
              "        vertical-align: top;\n",
              "    }\n",
              "\n",
              "    .dataframe thead th {\n",
              "        text-align: right;\n",
              "    }\n",
              "</style>\n",
              "<table border=\"1\" class=\"dataframe\">\n",
              "  <thead>\n",
              "    <tr style=\"text-align: right;\">\n",
              "      <th></th>\n",
              "      <th>frequency</th>\n",
              "    </tr>\n",
              "    <tr>\n",
              "      <th>Ciudad</th>\n",
              "      <th></th>\n",
              "    </tr>\n",
              "  </thead>\n",
              "  <tbody>\n",
              "    <tr>\n",
              "      <th>Acandí</th>\n",
              "      <td>20683</td>\n",
              "    </tr>\n",
              "    <tr>\n",
              "      <th>Apartadó</th>\n",
              "      <td>359</td>\n",
              "    </tr>\n",
              "    <tr>\n",
              "      <th>Armenia</th>\n",
              "      <td>42345</td>\n",
              "    </tr>\n",
              "    <tr>\n",
              "      <th>Bahía Solano</th>\n",
              "      <td>521</td>\n",
              "    </tr>\n",
              "    <tr>\n",
              "      <th>Barranquilla</th>\n",
              "      <td>5528</td>\n",
              "    </tr>\n",
              "    <tr>\n",
              "      <th>Bogotá</th>\n",
              "      <td>14254483</td>\n",
              "    </tr>\n",
              "    <tr>\n",
              "      <th>Buenaventura</th>\n",
              "      <td>3972</td>\n",
              "    </tr>\n",
              "    <tr>\n",
              "      <th>Cali</th>\n",
              "      <td>891875</td>\n",
              "    </tr>\n",
              "    <tr>\n",
              "      <th>Cartagena</th>\n",
              "      <td>2017288</td>\n",
              "    </tr>\n",
              "    <tr>\n",
              "      <th>Chachagüí</th>\n",
              "      <td>29</td>\n",
              "    </tr>\n",
              "    <tr>\n",
              "      <th>Coveñas</th>\n",
              "      <td>1816</td>\n",
              "    </tr>\n",
              "    <tr>\n",
              "      <th>Cumbal</th>\n",
              "      <td>878</td>\n",
              "    </tr>\n",
              "    <tr>\n",
              "      <th>Cúcuta</th>\n",
              "      <td>2343540</td>\n",
              "    </tr>\n",
              "    <tr>\n",
              "      <th>Inírida</th>\n",
              "      <td>3833</td>\n",
              "    </tr>\n",
              "    <tr>\n",
              "      <th>Jurado</th>\n",
              "      <td>677</td>\n",
              "    </tr>\n",
              "    <tr>\n",
              "      <th>Lebrija</th>\n",
              "      <td>30661</td>\n",
              "    </tr>\n",
              "    <tr>\n",
              "      <th>Leticia</th>\n",
              "      <td>67630</td>\n",
              "    </tr>\n",
              "    <tr>\n",
              "      <th>Maicao</th>\n",
              "      <td>836902</td>\n",
              "    </tr>\n",
              "    <tr>\n",
              "      <th>Medellin</th>\n",
              "      <td>2281951</td>\n",
              "    </tr>\n",
              "    <tr>\n",
              "      <th>Neiva</th>\n",
              "      <td>9</td>\n",
              "    </tr>\n",
              "    <tr>\n",
              "      <th>Nilo</th>\n",
              "      <td>248</td>\n",
              "    </tr>\n",
              "    <tr>\n",
              "      <th>NoAplica,NoAplica</th>\n",
              "      <td>106</td>\n",
              "    </tr>\n",
              "    <tr>\n",
              "      <th>Pasto</th>\n",
              "      <td>945279</td>\n",
              "    </tr>\n",
              "    <tr>\n",
              "      <th>Pereira</th>\n",
              "      <td>85200</td>\n",
              "    </tr>\n",
              "    <tr>\n",
              "      <th>Puerto Carreño</th>\n",
              "      <td>36507</td>\n",
              "    </tr>\n",
              "    <tr>\n",
              "      <th>Puerto Santander</th>\n",
              "      <td>132850</td>\n",
              "    </tr>\n",
              "    <tr>\n",
              "      <th>Putumayo</th>\n",
              "      <td>1697</td>\n",
              "    </tr>\n",
              "    <tr>\n",
              "      <th>Riohacha</th>\n",
              "      <td>3903</td>\n",
              "    </tr>\n",
              "    <tr>\n",
              "      <th>Rionegro</th>\n",
              "      <td>192</td>\n",
              "    </tr>\n",
              "    <tr>\n",
              "      <th>San Andres</th>\n",
              "      <td>267879</td>\n",
              "    </tr>\n",
              "    <tr>\n",
              "      <th>San Cayetano</th>\n",
              "      <td>48000</td>\n",
              "    </tr>\n",
              "    <tr>\n",
              "      <th>Santa Marta</th>\n",
              "      <td>11755</td>\n",
              "    </tr>\n",
              "    <tr>\n",
              "      <th>Soledad</th>\n",
              "      <td>324134</td>\n",
              "    </tr>\n",
              "    <tr>\n",
              "      <th>Tumaco</th>\n",
              "      <td>12268</td>\n",
              "    </tr>\n",
              "    <tr>\n",
              "      <th>Uribia</th>\n",
              "      <td>163</td>\n",
              "    </tr>\n",
              "    <tr>\n",
              "      <th>Valledupar</th>\n",
              "      <td>420</td>\n",
              "    </tr>\n",
              "    <tr>\n",
              "      <th>Villavicencio</th>\n",
              "      <td>26</td>\n",
              "    </tr>\n",
              "  </tbody>\n",
              "</table>\n",
              "</div>\n",
              "      <button class=\"colab-df-convert\" onclick=\"convertToInteractive('df-773fe35f-1a0d-41d2-a472-46901fa7185b')\"\n",
              "              title=\"Convert this dataframe to an interactive table.\"\n",
              "              style=\"display:none;\">\n",
              "        \n",
              "  <svg xmlns=\"http://www.w3.org/2000/svg\" height=\"24px\"viewBox=\"0 0 24 24\"\n",
              "       width=\"24px\">\n",
              "    <path d=\"M0 0h24v24H0V0z\" fill=\"none\"/>\n",
              "    <path d=\"M18.56 5.44l.94 2.06.94-2.06 2.06-.94-2.06-.94-.94-2.06-.94 2.06-2.06.94zm-11 1L8.5 8.5l.94-2.06 2.06-.94-2.06-.94L8.5 2.5l-.94 2.06-2.06.94zm10 10l.94 2.06.94-2.06 2.06-.94-2.06-.94-.94-2.06-.94 2.06-2.06.94z\"/><path d=\"M17.41 7.96l-1.37-1.37c-.4-.4-.92-.59-1.43-.59-.52 0-1.04.2-1.43.59L10.3 9.45l-7.72 7.72c-.78.78-.78 2.05 0 2.83L4 21.41c.39.39.9.59 1.41.59.51 0 1.02-.2 1.41-.59l7.78-7.78 2.81-2.81c.8-.78.8-2.07 0-2.86zM5.41 20L4 18.59l7.72-7.72 1.47 1.35L5.41 20z\"/>\n",
              "  </svg>\n",
              "      </button>\n",
              "      \n",
              "  <style>\n",
              "    .colab-df-container {\n",
              "      display:flex;\n",
              "      flex-wrap:wrap;\n",
              "      gap: 12px;\n",
              "    }\n",
              "\n",
              "    .colab-df-convert {\n",
              "      background-color: #E8F0FE;\n",
              "      border: none;\n",
              "      border-radius: 50%;\n",
              "      cursor: pointer;\n",
              "      display: none;\n",
              "      fill: #1967D2;\n",
              "      height: 32px;\n",
              "      padding: 0 0 0 0;\n",
              "      width: 32px;\n",
              "    }\n",
              "\n",
              "    .colab-df-convert:hover {\n",
              "      background-color: #E2EBFA;\n",
              "      box-shadow: 0px 1px 2px rgba(60, 64, 67, 0.3), 0px 1px 3px 1px rgba(60, 64, 67, 0.15);\n",
              "      fill: #174EA6;\n",
              "    }\n",
              "\n",
              "    [theme=dark] .colab-df-convert {\n",
              "      background-color: #3B4455;\n",
              "      fill: #D2E3FC;\n",
              "    }\n",
              "\n",
              "    [theme=dark] .colab-df-convert:hover {\n",
              "      background-color: #434B5C;\n",
              "      box-shadow: 0px 1px 3px 1px rgba(0, 0, 0, 0.15);\n",
              "      filter: drop-shadow(0px 1px 2px rgba(0, 0, 0, 0.3));\n",
              "      fill: #FFFFFF;\n",
              "    }\n",
              "  </style>\n",
              "\n",
              "      <script>\n",
              "        const buttonEl =\n",
              "          document.querySelector('#df-773fe35f-1a0d-41d2-a472-46901fa7185b button.colab-df-convert');\n",
              "        buttonEl.style.display =\n",
              "          google.colab.kernel.accessAllowed ? 'block' : 'none';\n",
              "\n",
              "        async function convertToInteractive(key) {\n",
              "          const element = document.querySelector('#df-773fe35f-1a0d-41d2-a472-46901fa7185b');\n",
              "          const dataTable =\n",
              "            await google.colab.kernel.invokeFunction('convertToInteractive',\n",
              "                                                     [key], {});\n",
              "          if (!dataTable) return;\n",
              "\n",
              "          const docLinkHtml = 'Like what you see? Visit the ' +\n",
              "            '<a target=\"_blank\" href=https://colab.research.google.com/notebooks/data_table.ipynb>data table notebook</a>'\n",
              "            + ' to learn more about interactive tables.';\n",
              "          element.innerHTML = '';\n",
              "          dataTable['output_type'] = 'display_data';\n",
              "          await google.colab.output.renderOutput(dataTable, element);\n",
              "          const docLink = document.createElement('div');\n",
              "          docLink.innerHTML = docLinkHtml;\n",
              "          element.appendChild(docLink);\n",
              "        }\n",
              "      </script>\n",
              "    </div>\n",
              "  </div>\n",
              "  "
            ]
          },
          "metadata": {},
          "execution_count": 9
        }
      ]
    },
    {
      "cell_type": "code",
      "source": [
        "df_extranjeros.dtypes"
      ],
      "metadata": {
        "colab": {
          "base_uri": "https://localhost:8080/"
        },
        "id": "0LQlEe_IRg5E",
        "outputId": "4b70e79d-92e2-44e5-d7ce-27b320784157"
      },
      "execution_count": 10,
      "outputs": [
        {
          "output_type": "execute_result",
          "data": {
            "text/plain": [
              "Año                     int64\n",
              "Mes                    object\n",
              "Nacionalidad           object\n",
              "Codigo Iso 3166         int64\n",
              "Femenino                int64\n",
              "Masculino               int64\n",
              "Indefinido            float64\n",
              "Total                   int64\n",
              "Latitud - Longitud     object\n",
              "Ciudad                 object\n",
              "dtype: object"
            ]
          },
          "metadata": {},
          "execution_count": 10
        }
      ]
    },
    {
      "cell_type": "markdown",
      "source": [
        "## *Continente*"
      ],
      "metadata": {
        "id": "JLOAyw4f6j71"
      }
    },
    {
      "cell_type": "code",
      "source": [
        "df_extranjeros['Continente']=df_extranjeros[\"Nacionalidad\"]"
      ],
      "metadata": {
        "id": "FvNedjwU6ow1"
      },
      "execution_count": 11,
      "outputs": []
    },
    {
      "cell_type": "markdown",
      "source": [
        "### *Africa*"
      ],
      "metadata": {
        "id": "JRLtQolv7A-v"
      }
    },
    {
      "cell_type": "code",
      "source": [
        "df_extranjeros['Continente']=df_extranjeros['Continente'].replace([\"Republica de Yibuti\",\"República CentroÁfricana\",\"Sahara Occidental/Desierto Sahara\",\"Santo Tome y Principe\",\"Sudan\",\"Sudan del Sur\",\"Tunez\",\"Republica Democratica del Congo\",\"Republica Del Congo\",\"Republica Centroafricana\",\"Niger\",\"Mali\",\"Sudafrica\",\"Gabon\",\"Camerun\",\"Benin\",\"Angola\",\"Argelia\",\"Benín\",\"Botsuana\",\"Burkina Faso\",\"Burundi\",\"Cabo Verde\",\"Camerún\",\"Chad\",\"Comoras\",\"República Del Congo\",\"República Democrática del Congo\",\"Costa de Marfil\",\"Egipto\",\"Eritrea\",\"Etiopia\",\"Gabón\",\"Gambia\",\"Ghana\",\"Guinea\",\"Guinea Ecuatorial\",\"Guinea Bissau\",\"Santa Elena, Ascensión y Tristán de Acuña\",\"Kenia\",\"Lesoto\",\"Liberia\",\"Libia\",\"Madagascar\",\"Malaui\",\"Malí\",\"Marruecos\",\"Mauricio\",\"Mauritania\",\"Mayotte\",\"Mozambique\",\"Namibia\", \"Níger\",\"Nigeria\",\"República Centroafricana\",\"Reunión\",\"Rwanda\",\"Santo Tomé y Príncipe\",\"Senegal\",\"Seychelles\",\"Sierra Leona\",\"Somalia\",\"Sudáfrica\",\"Sudán\",\"Sudán del Sur\",\"Suazilandia\",\"Tanzania\",\"Togo\",\"Túnez\",\"Uganda\",\"Yibuti\",\"Zambia\",\"Zimbabue\",\"Malawi\"],[\"AFRICA\",\"AFRICA\",\"AFRICA\",\"AFRICA\",\"AFRICA\",\"AFRICA\",\"AFRICA\",\"AFRICA\",\"AFRICA\",\"AFRICA\",\"AFRICA\",\"AFRICA\",\"AFRICA\",\"AFRICA\",\"AFRICA\",\"AFRICA\",\"AFRICA\",\"AFRICA\",\"AFRICA\",\"AFRICA\",\"AFRICA\",\"AFRICA\",\"AFRICA\",\"AFRICA\",\"AFRICA\",\"AFRICA\",\"AFRICA\",\"AFRICA\",\"AFRICA\",\"AFRICA\",\"AFRICA\",\"AFRICA\",\"AFRICA\",\"AFRICA\",\"AFRICA\",\"AFRICA\",\"AFRICA\",\"AFRICA\",\"AFRICA\",\"AFRICA\",\"AFRICA\",\"AFRICA\",\"AFRICA\",\"AFRICA\",\"AFRICA\",\"AFRICA\",\"AFRICA\",\"AFRICA\",\"AFRICA\",\"AFRICA\",\"AFRICA\",\"AFRICA\",\"AFRICA\",\"AFRICA\",\"AFRICA\",\"AFRICA\",\"AFRICA\",\"AFRICA\",\"AFRICA\",\"AFRICA\",\"AFRICA\",\"AFRICA\",\"AFRICA\",\"AFRICA\",\"AFRICA\",\"AFRICA\",\"AFRICA\",\"AFRICA\",\"AFRICA\",\"AFRICA\",\"AFRICA\",\"AFRICA\",\"AFRICA\",\"AFRICA\"])"
      ],
      "metadata": {
        "id": "rhwDvhG16z2U"
      },
      "execution_count": 16,
      "outputs": []
    },
    {
      "cell_type": "markdown",
      "source": [
        "### *Asia*"
      ],
      "metadata": {
        "id": "FTvfFCVL9Rwf"
      }
    },
    {
      "cell_type": "code",
      "source": [
        "df_extranjeros[\"Continente\"]=df_extranjeros['Continente'].replace([\"Republica Democratica Popular Lao\",\"Libano\",\"Kirguistan\",\"Islas Cocos\",\"Taiwan\",\"Republica de Corea\",\"Japon\",\"Iran\",\"Emiratos arabes\",\"Butan\",\"Brunei\",\"República Democrática Popular  Lao\",\"Afganistán\",\"Arabia Saudita\",\"República de Armenia\",\"Azerbaiyán\",\"Bangladesh\",\"Bahréin\",\"Myanmar\",\"Bután\",\"Brunei Darussalam\",\"Camboya\",\"Qatar\",\"China\",\"Corea del Norte\",\"República de Corea\",\"Emiratos Árabes\",\"Filipinas\",\"Hong Kong\",\"India\",\"Indonesia\",\"Iraq\",\"Irán\",\"Israel\",\"Japón\",\"Jordania\",\"Kazajistán\",\"Kirguistán\",\"Kuwait\",\"República Democrática Popular Lao\",\"Líbano\",\"Macao\",\"Malasia\",\"Maldivas\",\"Mongolia\",\"Nepal\",\"Omán\",\"Pakistán\",\"Palestina\",\"República de China\",\"Singapur\",\"República Árabe Siria\",\"Sri Lanka\",\"Tailandia\",\"República de Tayikistán\",\"Turkmenistán\",\"Turquía\",\"Uzbekistán\",\"Vietnam\",\"República Árabe de Yemen\",\"Taiwán\",\"Afganistan\",\"Bahrein\",\"Oman\",\"Pakistan\",\"Papua Occidental\",\"Republica Democratica Popular de Corea\",\"Republica Democratica de Timor Oriental\",\"Republica arabe Siria\",\"Republica arabe de Yemen\",\"Republica de Armenia\",\"Republica de Tayikistan\",\"Uzbekistan\",\"Turkmenistan\",\"Tibet/Region Autonoma de China\",\"Territorio Britanico del Oceano indico/Territorios Britanicos de Ultramar\",\"Territorio Británico del Océano Índico/Territorios Británicos de Ultramar\",\"Republica Democratica Popular Lao\",\"República Democrática de Timor Oriental\",\"Republica Democratica Popular Lao\"],[\"ASIA\",\"ASIA\",\"ASIA\",\"ASIA\",\"ASIA\",\"ASIA\",\"ASIA\",\"ASIA\",\"ASIA\",\"ASIA\",\"ASIA\",\"ASIA\",\"ASIA\",\"ASIA\",\"ASIA\",\"ASIA\",\"ASIA\",\"ASIA\",\"ASIA\",\"ASIA\",\"ASIA\",\"ASIA\",\"ASIA\",\"ASIA\",\"ASIA\",\"ASIA\",\"ASIA\",\"ASIA\",\"ASIA\",\"ASIA\",\"ASIA\",\"ASIA\",\"ASIA\",\"ASIA\",\"ASIA\",\"ASIA\",\"ASIA\",\"ASIA\",\"ASIA\",\"ASIA\",\"ASIA\",\"ASIA\",\"ASIA\",\"ASIA\",\"ASIA\",\"ASIA\",\"ASIA\",\"ASIA\",\"ASIA\",\"ASIA\",\"ASIA\",\"ASIA\",\"ASIA\",\"ASIA\",\"ASIA\",\"ASIA\",\"ASIA\",\"ASIA\",\"ASIA\",\"ASIA\",\"ASIA\",\"ASIA\",\"ASIA\",\"ASIA\",\"ASIA\",\"ASIA\",\"ASIA\",\"ASIA\",\"ASIA\",\"ASIA\",\"ASIA\",\"ASIA\",\"ASIA\",\"ASIA\",\"ASIA\",\"ASIA\",\"ASIA\",\"ASIA\",\"ASIA\",\"ASIA\"])"
      ],
      "metadata": {
        "id": "lkl0LIs89Tuz"
      },
      "execution_count": 17,
      "outputs": []
    },
    {
      "cell_type": "markdown",
      "source": [
        "### *Europa*"
      ],
      "metadata": {
        "id": "wlahxT2n9gzC"
      }
    },
    {
      "cell_type": "code",
      "source": [
        "df_extranjeros[\"Continente\"]=df_extranjeros['Continente'].replace([\"Yugoslavia\",\"Republica de Moldavia\",\"Republica de Kosovo\",\"Republica de Belarus\",\"Republica Checa\",\"Kazajistan\",\"Kasajistan\",\"Islas del Canal\",\"Islas Alboran y Perejil\",\"Islas Aland/Provincia de Finlandia\",\"Republica de Irlanda\",\"Turquia\",\"Paises Bajos\",\"Monaco\",\"Hungria\",\"Gibraltar/Territorio Britanico de Ultramar\",\"Federacion de Rusia\",\"Acrotiri y Dhekelia\",\"Åland\",\"Albania\",\"Alemania\",\"Andorra\",\"Austria\",\"Bélgica\",\"República de Belarús\",\"Bosnia y Herzegovina\",\"Bulgaria\",\"Santa Sede/Ciudad del Vaticano\",\"Chipre\",\"Croacia\",\"Dinamarca\",\"Eslovaquia\",\"Eslovenia\",\"España\",\"Estonia\",\"Finlandia\",\"Francia\",\"Georgia\",\"Gibraltar\",\"Grecia\",\"Guernsey\",\"Hungría\",\"Irlanda\",\"Islandia\",\"Isla de Man\",\"Italia\",\"Jersey\",\"República de Kosovo\",\"Letonia\",\"Liechtenstein\",\"Lituania\",\"Luxemburgo\",\"Macedonia\",\"Malta\",\"República de Moldavia\",\"Mónaco\",\"Noruega\",\"Países Bajos\",\"Polonia\",\"Portugal\",\"Escocia\",\"Gales\",\"Inglaterra\",\"República de Irlanda\",\"República Checa\",\"Rumania\",\"Federación de Rusia\",\"San Marino\",\"Serbia\",\"Suecia\",\"Suiza\",\"Ucrania\",\"Montenegro\",\"Reino Unido de Gran Bretaña e Irlanda del Norte\",\"Azerbaiyan\",\"Belgica\",\"Mayotte/Colectividad Territorial Francesa\",\"Islas Wallis y Futuna\"],[\"EUROPA\",\"EUROPA\",\"EUROPA\",\"EUROPA\",\"EUROPA\",\"EUROPA\",\"EUROPA\",\"EUROPA\",\"EUROPA\",\"EUROPA\",\"EUROPA\",\"EUROPA\",\"EUROPA\",\"EUROPA\",\"EUROPA\",\"EUROPA\",\"EUROPA\",\"EUROPA\",\"EUROPA\",\"EUROPA\",\"EUROPA\",\"EUROPA\",\"EUROPA\",\"EUROPA\",\"EUROPA\",\"EUROPA\",\"EUROPA\",\"EUROPA\",\"EUROPA\",\"EUROPA\",\"EUROPA\",\"EUROPA\",\"EUROPA\",\"EUROPA\",\"EUROPA\",\"EUROPA\",\"EUROPA\",\"EUROPA\",\"EUROPA\",\"EUROPA\",\"EUROPA\",\"EUROPA\",\"EUROPA\",\"EUROPA\",\"EUROPA\",\"EUROPA\",\"EUROPA\",\"EUROPA\",\"EUROPA\",\"EUROPA\",\"EUROPA\",\"EUROPA\",\"EUROPA\",\"EUROPA\",\"EUROPA\",\"EUROPA\",\"EUROPA\",\"EUROPA\",\"EUROPA\",\"EUROPA\",\"EUROPA\",\"EUROPA\",\"EUROPA\",\"EUROPA\",\"EUROPA\",\"EUROPA\",\"EUROPA\",\"EUROPA\",\"EUROPA\",\"EUROPA\",\"EUROPA\",\"EUROPA\",\"EUROPA\",\"EUROPA\",\"EUROPA\",\"EUROPA\",\"EUROPA\",\"EUROPA\"])"
      ],
      "metadata": {
        "id": "mTZ8B9HC9n91"
      },
      "execution_count": 18,
      "outputs": []
    },
    {
      "cell_type": "markdown",
      "source": [
        "### *Oceania*"
      ],
      "metadata": {
        "id": "mnqJMaqR9tWP"
      }
    },
    {
      "cell_type": "code",
      "source": [
        "df_extranjeros[\"Continente\"]=df_extranjeros['Continente'].replace([\"Australia\",\"Islas Fiji\",\"Guam\",\"Islas Cook\",\"Isla de Navidad\",\"Islas Marshall\",\"Islas Pitcairn\",\"Islas Salomón\",\"Micronesia\",\"Kiribati\",\"Nauru\",\"Niue\",\"Norfolk\",\"Nueva Zelanda\",\"Palaos\",\"Papúa Nueva Guinea\",\"Polinesia Francesa\",\"Rapa Nui\",\"Samoa Americana\",\"Samoa\",\"Tonga\",\"Tuvalu\",\"Islas Heard Y Mcdonald\",\"Vanuatu\",\"Wallis y Futuna\",\"Palau\",\"Islas Christmas\",\"Islas Marianas del Norte\",\"Islas Pitcairn/Territorio Britanico de Ultramar\",\"Islas Salomon\",\"Nueva Caledonia/Territorio frances\",\"Papua Nueva Guinea\",\"Polinesia Francesa/Colectividad de Ultramar Francesa\",\"Samoa Occidental\",\"Samoa Estadounidense/Territorio no incorporado de Estados Unidos\"],[\"OCEANIA\",\"OCEANIA\",\"OCEANIA\",\"OCEANIA\",\"OCEANIA\",\"OCEANIA\",\"OCEANIA\",\"OCEANIA\",\"OCEANIA\",\"OCEANIA\",\"OCEANIA\",\"OCEANIA\",\"OCEANIA\",\"OCEANIA\",\"OCEANIA\",\"OCEANIA\",\"OCEANIA\",\"OCEANIA\",\"OCEANIA\",\"OCEANIA\",\"OCEANIA\",\"OCEANIA\",\"OCEANIA\",\"OCEANIA\",\"OCEANIA\",\"OCEANIA\",\"OCEANIA\",\"OCEANIA\",\"OCEANIA\",\"OCEANIA\",\"OCEANIA\",\"OCEANIA\",\"OCEANIA\",\"OCEANIA\",\"OCEANIA\"])"
      ],
      "metadata": {
        "id": "7SHDFpid90yv"
      },
      "execution_count": 19,
      "outputs": []
    },
    {
      "cell_type": "markdown",
      "source": [
        "### *América del Norte*"
      ],
      "metadata": {
        "id": "xnM80Hfs7QcQ"
      }
    },
    {
      "cell_type": "code",
      "source": [
        "df_extranjeros['Continente']=df_extranjeros['Continente'].replace([\"San Cristobal y Nevis\",\"Islas Caiman/Territorio Britanico de Ultramar\",\"Isla Wake\",\"Isla Johnston\",\"Guam/Territorio no incorporado de Estados Unidos\",\"Estados Unidos de América\",\"México\",\"Mexico\",\"Canadá\",\"Anguila/Territorio Britanico de Ultramar\",\"Antigua y Barbuda\",\"Barbados\",\"Bermudas/Territorio Britanico de Ultramar\",\"Canada\",\"Estados Unidos de America\",\"Islas Caimán/Territorio Británico de Ultramar\",\"Islas Midway/Territorio no incorporado de Estados Unidos\",\"Islas Turcas y Caicos/Territorio Britanico de Ultramar\",\"Islas Virgenes Britanicas/Territorio Britanico de Ultramar\",\"Montserrat/Territorio Britanico de Ultramar\"],[\"América del Norte\",\"América del Norte\",\"América del Norte\",\"América del Norte\",\"América del Norte\",\"América del Norte\",\"América del Norte\",\"América del Norte\",\"América del Norte\",\"América del Norte\",\"América del Norte\",\"América del Norte\",\"América del Norte\",\"América del Norte\",\"América del Norte\",\"América del Norte\",\"América del Norte\",\"América del Norte\",\"América del Norte\",\"América del Norte\"])"
      ],
      "metadata": {
        "id": "5emM5gqQ7P3N"
      },
      "execution_count": 20,
      "outputs": []
    },
    {
      "cell_type": "markdown",
      "source": [
        "### *América Central*"
      ],
      "metadata": {
        "id": "sdwPTtvx-ezo"
      }
    },
    {
      "cell_type": "code",
      "source": [
        "df_extranjeros['Continente']=df_extranjeros['Continente'].replace([\"Panama\",\"Panamá\",\"Nicaragua\",\"Haiti\",\"Honduras\",\"Guatemala\",\"El Salvador\",\"Cuba\",\"Costa Rica\",\"Belice\",\"Haití\",\"Granada\",\"Trinidad y Tobago\",\"Aruba\",\"Bahamas\",\"Dominica\",\"Islas Turcas y Caicos/Territorio Británico de Ultramar\",\"Islas Vírgenes Británicas/Territorio Británico de Ultramar\",\"Jamaica\",\"Puerto Rico/Territorio de Estados Unidos\",\"República Dominicana\",\"San  Vicente y las Granadinas\",\"San Cristóbal y Nevis\",\"San Martín (Países Bajos)\",\"Santa Lucia\",\"Republica Dominicana\",\"Anguila/Territorio Británico de Ultramar\",\"Bermudas/Territorio Británico de Ultramar\"],[\"América Central\",\"América Central\",\"América Central\",\"América Central\",\"América Central\",\"América Central\",\"América Central\",\"América Central\",\"América Central\",\"América Central\",\"América Central\",\"América Central\",\"América Central\",\"América Central\",\"América Central\",\"América Central\",\"América Central\",\"América Central\",\"América Central\",\"América Central\",\"América Central\",\"América Central\",\"América Central\",\"América Central\",\"América Central\",\"América Central\",\"América Central\",\"América Central\"])"
      ],
      "metadata": {
        "id": "v2h_SJz-Aq-b"
      },
      "execution_count": 21,
      "outputs": []
    },
    {
      "cell_type": "markdown",
      "source": [
        "### *América del Sur*"
      ],
      "metadata": {
        "id": "63raGb2b-nZ6"
      }
    },
    {
      "cell_type": "code",
      "source": [
        "df_extranjeros[\"Continente\"]=df_extranjeros['Continente'].replace([\"Argentina\",\"Bolivia\",\"Brasil\",\"Chile\",\"Colombia\",\"Ecuador\",\"Guyana\",\"Paraguay\",\"Perú\",\"Surinam\",\"Uruguay\",\"Venezuela\",\"Curazao\",\"Guayana Francesa/Departamento de Ultramar Frances\",\"Peru\"],[\"América del Sur\",\"América del Sur\",\"América del Sur\",\"América del Sur\",\"América del Sur\",\"América del Sur\",\"América del Sur\",\"América del Sur\",\"América del Sur\",\"América del Sur\",\"América del Sur\",\"América del Sur\",\"América del Sur\",\"América del Sur\",\"América del Sur\"])"
      ],
      "metadata": {
        "id": "wq2KtpJP9CqT"
      },
      "execution_count": 22,
      "outputs": []
    },
    {
      "cell_type": "markdown",
      "source": [
        "### *Antartida*"
      ],
      "metadata": {
        "id": "HCjIjj_4zuCr"
      }
    },
    {
      "cell_type": "code",
      "source": [
        "df_extranjeros[\"Continente\"]=df_extranjeros['Continente'].replace([\"Territorio Antartico Britanico/Territorio Britanico de Ultramar\",\"Territorio Antártico Británico/Territorio Británico de Ultramar\"],[\"Antartida\",\"Antartida\"])"
      ],
      "metadata": {
        "id": "ze0WTiZdzy4s"
      },
      "execution_count": 23,
      "outputs": []
    },
    {
      "cell_type": "markdown",
      "source": [
        "### *Refugiados*"
      ],
      "metadata": {
        "id": "QshtKNDG0GIX"
      }
    },
    {
      "cell_type": "code",
      "source": [
        "df_extranjeros[\"Continente\"]=df_extranjeros['Continente'].replace([\"Refugiado Otro\",\"Republica Democratica Popular  Lao\"],[\"Refugiado\",\"ASIA\"])"
      ],
      "metadata": {
        "id": "TL37uR8L0KP-"
      },
      "execution_count": 24,
      "outputs": []
    },
    {
      "cell_type": "code",
      "source": [
        "(df_extranjeros \n",
        "  .groupby(\"Continente\")\n",
        "  .agg(frequency=(\"Total\", \"sum\")))"
      ],
      "metadata": {
        "colab": {
          "base_uri": "https://localhost:8080/",
          "height": 394
        },
        "id": "1VuCB-2FA7Lb",
        "outputId": "16b835ea-a798-4820-cfba-c89553281ae2"
      },
      "execution_count": 25,
      "outputs": [
        {
          "output_type": "execute_result",
          "data": {
            "text/plain": [
              "                   frequency\n",
              "Continente                  \n",
              "AFRICA                 36065\n",
              "ASIA                  524501\n",
              "América Central      1759029\n",
              "América del Norte    6416722\n",
              "América del Sur     11676725\n",
              "Antartida                137\n",
              "Desconocido            17976\n",
              "EUROPA               4098685\n",
              "OCEANIA               145523\n",
              "Refugiado                244"
            ],
            "text/html": [
              "\n",
              "  <div id=\"df-d797b10b-5cb7-4cb0-92d3-b953d8155074\">\n",
              "    <div class=\"colab-df-container\">\n",
              "      <div>\n",
              "<style scoped>\n",
              "    .dataframe tbody tr th:only-of-type {\n",
              "        vertical-align: middle;\n",
              "    }\n",
              "\n",
              "    .dataframe tbody tr th {\n",
              "        vertical-align: top;\n",
              "    }\n",
              "\n",
              "    .dataframe thead th {\n",
              "        text-align: right;\n",
              "    }\n",
              "</style>\n",
              "<table border=\"1\" class=\"dataframe\">\n",
              "  <thead>\n",
              "    <tr style=\"text-align: right;\">\n",
              "      <th></th>\n",
              "      <th>frequency</th>\n",
              "    </tr>\n",
              "    <tr>\n",
              "      <th>Continente</th>\n",
              "      <th></th>\n",
              "    </tr>\n",
              "  </thead>\n",
              "  <tbody>\n",
              "    <tr>\n",
              "      <th>AFRICA</th>\n",
              "      <td>36065</td>\n",
              "    </tr>\n",
              "    <tr>\n",
              "      <th>ASIA</th>\n",
              "      <td>524501</td>\n",
              "    </tr>\n",
              "    <tr>\n",
              "      <th>América Central</th>\n",
              "      <td>1759029</td>\n",
              "    </tr>\n",
              "    <tr>\n",
              "      <th>América del Norte</th>\n",
              "      <td>6416722</td>\n",
              "    </tr>\n",
              "    <tr>\n",
              "      <th>América del Sur</th>\n",
              "      <td>11676725</td>\n",
              "    </tr>\n",
              "    <tr>\n",
              "      <th>Antartida</th>\n",
              "      <td>137</td>\n",
              "    </tr>\n",
              "    <tr>\n",
              "      <th>Desconocido</th>\n",
              "      <td>17976</td>\n",
              "    </tr>\n",
              "    <tr>\n",
              "      <th>EUROPA</th>\n",
              "      <td>4098685</td>\n",
              "    </tr>\n",
              "    <tr>\n",
              "      <th>OCEANIA</th>\n",
              "      <td>145523</td>\n",
              "    </tr>\n",
              "    <tr>\n",
              "      <th>Refugiado</th>\n",
              "      <td>244</td>\n",
              "    </tr>\n",
              "  </tbody>\n",
              "</table>\n",
              "</div>\n",
              "      <button class=\"colab-df-convert\" onclick=\"convertToInteractive('df-d797b10b-5cb7-4cb0-92d3-b953d8155074')\"\n",
              "              title=\"Convert this dataframe to an interactive table.\"\n",
              "              style=\"display:none;\">\n",
              "        \n",
              "  <svg xmlns=\"http://www.w3.org/2000/svg\" height=\"24px\"viewBox=\"0 0 24 24\"\n",
              "       width=\"24px\">\n",
              "    <path d=\"M0 0h24v24H0V0z\" fill=\"none\"/>\n",
              "    <path d=\"M18.56 5.44l.94 2.06.94-2.06 2.06-.94-2.06-.94-.94-2.06-.94 2.06-2.06.94zm-11 1L8.5 8.5l.94-2.06 2.06-.94-2.06-.94L8.5 2.5l-.94 2.06-2.06.94zm10 10l.94 2.06.94-2.06 2.06-.94-2.06-.94-.94-2.06-.94 2.06-2.06.94z\"/><path d=\"M17.41 7.96l-1.37-1.37c-.4-.4-.92-.59-1.43-.59-.52 0-1.04.2-1.43.59L10.3 9.45l-7.72 7.72c-.78.78-.78 2.05 0 2.83L4 21.41c.39.39.9.59 1.41.59.51 0 1.02-.2 1.41-.59l7.78-7.78 2.81-2.81c.8-.78.8-2.07 0-2.86zM5.41 20L4 18.59l7.72-7.72 1.47 1.35L5.41 20z\"/>\n",
              "  </svg>\n",
              "      </button>\n",
              "      \n",
              "  <style>\n",
              "    .colab-df-container {\n",
              "      display:flex;\n",
              "      flex-wrap:wrap;\n",
              "      gap: 12px;\n",
              "    }\n",
              "\n",
              "    .colab-df-convert {\n",
              "      background-color: #E8F0FE;\n",
              "      border: none;\n",
              "      border-radius: 50%;\n",
              "      cursor: pointer;\n",
              "      display: none;\n",
              "      fill: #1967D2;\n",
              "      height: 32px;\n",
              "      padding: 0 0 0 0;\n",
              "      width: 32px;\n",
              "    }\n",
              "\n",
              "    .colab-df-convert:hover {\n",
              "      background-color: #E2EBFA;\n",
              "      box-shadow: 0px 1px 2px rgba(60, 64, 67, 0.3), 0px 1px 3px 1px rgba(60, 64, 67, 0.15);\n",
              "      fill: #174EA6;\n",
              "    }\n",
              "\n",
              "    [theme=dark] .colab-df-convert {\n",
              "      background-color: #3B4455;\n",
              "      fill: #D2E3FC;\n",
              "    }\n",
              "\n",
              "    [theme=dark] .colab-df-convert:hover {\n",
              "      background-color: #434B5C;\n",
              "      box-shadow: 0px 1px 3px 1px rgba(0, 0, 0, 0.15);\n",
              "      filter: drop-shadow(0px 1px 2px rgba(0, 0, 0, 0.3));\n",
              "      fill: #FFFFFF;\n",
              "    }\n",
              "  </style>\n",
              "\n",
              "      <script>\n",
              "        const buttonEl =\n",
              "          document.querySelector('#df-d797b10b-5cb7-4cb0-92d3-b953d8155074 button.colab-df-convert');\n",
              "        buttonEl.style.display =\n",
              "          google.colab.kernel.accessAllowed ? 'block' : 'none';\n",
              "\n",
              "        async function convertToInteractive(key) {\n",
              "          const element = document.querySelector('#df-d797b10b-5cb7-4cb0-92d3-b953d8155074');\n",
              "          const dataTable =\n",
              "            await google.colab.kernel.invokeFunction('convertToInteractive',\n",
              "                                                     [key], {});\n",
              "          if (!dataTable) return;\n",
              "\n",
              "          const docLinkHtml = 'Like what you see? Visit the ' +\n",
              "            '<a target=\"_blank\" href=https://colab.research.google.com/notebooks/data_table.ipynb>data table notebook</a>'\n",
              "            + ' to learn more about interactive tables.';\n",
              "          element.innerHTML = '';\n",
              "          dataTable['output_type'] = 'display_data';\n",
              "          await google.colab.output.renderOutput(dataTable, element);\n",
              "          const docLink = document.createElement('div');\n",
              "          docLink.innerHTML = docLinkHtml;\n",
              "          element.appendChild(docLink);\n",
              "        }\n",
              "      </script>\n",
              "    </div>\n",
              "  </div>\n",
              "  "
            ]
          },
          "metadata": {},
          "execution_count": 25
        }
      ]
    },
    {
      "cell_type": "markdown",
      "source": [
        "# Transformacion de variables para realizar visualizaciones de series temporales y mapas"
      ],
      "metadata": {
        "id": "LQai6DGIdN0S"
      }
    },
    {
      "cell_type": "markdown",
      "source": [
        "#MAPAS"
      ],
      "metadata": {
        "id": "sdRJf4fFda3f"
      }
    },
    {
      "cell_type": "markdown",
      "source": [
        "## Separar Lat y longitud"
      ],
      "metadata": {
        "id": "fvxnWqxvG1g9"
      }
    },
    {
      "cell_type": "code",
      "source": [
        "import re"
      ],
      "metadata": {
        "id": "ACM7ViwkfnHu"
      },
      "execution_count": 26,
      "outputs": []
    },
    {
      "cell_type": "code",
      "source": [
        "df_extranjeros[\"Latitud - Longitud\"].str.split(',', expand=True)"
      ],
      "metadata": {
        "id": "upXuDbcYG34V",
        "colab": {
          "base_uri": "https://localhost:8080/",
          "height": 424
        },
        "outputId": "376c662d-77ac-4f64-b9d1-d28c9a18bf23"
      },
      "execution_count": 27,
      "outputs": [
        {
          "output_type": "execute_result",
          "data": {
            "text/plain": [
              "                 0            1\n",
              "0        (4.697144  -74.140516)\n",
              "1        (4.697144  -74.140516)\n",
              "2       (-4.197703  -69.941278)\n",
              "3         (0.25129  -76.875963)\n",
              "4        (0.814836  -77.662532)\n",
              "...            ...          ...\n",
              "112288   (3.541112  -76.384584)\n",
              "112289   (4.697144  -74.140516)\n",
              "112290  (10.445761  -75.516429)\n",
              "112291   (4.697144  -74.140516)\n",
              "112292   (7.818934  -72.453226)\n",
              "\n",
              "[112293 rows x 2 columns]"
            ],
            "text/html": [
              "\n",
              "  <div id=\"df-2caeb896-c804-4bcb-a7f0-bb73f357ce36\">\n",
              "    <div class=\"colab-df-container\">\n",
              "      <div>\n",
              "<style scoped>\n",
              "    .dataframe tbody tr th:only-of-type {\n",
              "        vertical-align: middle;\n",
              "    }\n",
              "\n",
              "    .dataframe tbody tr th {\n",
              "        vertical-align: top;\n",
              "    }\n",
              "\n",
              "    .dataframe thead th {\n",
              "        text-align: right;\n",
              "    }\n",
              "</style>\n",
              "<table border=\"1\" class=\"dataframe\">\n",
              "  <thead>\n",
              "    <tr style=\"text-align: right;\">\n",
              "      <th></th>\n",
              "      <th>0</th>\n",
              "      <th>1</th>\n",
              "    </tr>\n",
              "  </thead>\n",
              "  <tbody>\n",
              "    <tr>\n",
              "      <th>0</th>\n",
              "      <td>(4.697144</td>\n",
              "      <td>-74.140516)</td>\n",
              "    </tr>\n",
              "    <tr>\n",
              "      <th>1</th>\n",
              "      <td>(4.697144</td>\n",
              "      <td>-74.140516)</td>\n",
              "    </tr>\n",
              "    <tr>\n",
              "      <th>2</th>\n",
              "      <td>(-4.197703</td>\n",
              "      <td>-69.941278)</td>\n",
              "    </tr>\n",
              "    <tr>\n",
              "      <th>3</th>\n",
              "      <td>(0.25129</td>\n",
              "      <td>-76.875963)</td>\n",
              "    </tr>\n",
              "    <tr>\n",
              "      <th>4</th>\n",
              "      <td>(0.814836</td>\n",
              "      <td>-77.662532)</td>\n",
              "    </tr>\n",
              "    <tr>\n",
              "      <th>...</th>\n",
              "      <td>...</td>\n",
              "      <td>...</td>\n",
              "    </tr>\n",
              "    <tr>\n",
              "      <th>112288</th>\n",
              "      <td>(3.541112</td>\n",
              "      <td>-76.384584)</td>\n",
              "    </tr>\n",
              "    <tr>\n",
              "      <th>112289</th>\n",
              "      <td>(4.697144</td>\n",
              "      <td>-74.140516)</td>\n",
              "    </tr>\n",
              "    <tr>\n",
              "      <th>112290</th>\n",
              "      <td>(10.445761</td>\n",
              "      <td>-75.516429)</td>\n",
              "    </tr>\n",
              "    <tr>\n",
              "      <th>112291</th>\n",
              "      <td>(4.697144</td>\n",
              "      <td>-74.140516)</td>\n",
              "    </tr>\n",
              "    <tr>\n",
              "      <th>112292</th>\n",
              "      <td>(7.818934</td>\n",
              "      <td>-72.453226)</td>\n",
              "    </tr>\n",
              "  </tbody>\n",
              "</table>\n",
              "<p>112293 rows × 2 columns</p>\n",
              "</div>\n",
              "      <button class=\"colab-df-convert\" onclick=\"convertToInteractive('df-2caeb896-c804-4bcb-a7f0-bb73f357ce36')\"\n",
              "              title=\"Convert this dataframe to an interactive table.\"\n",
              "              style=\"display:none;\">\n",
              "        \n",
              "  <svg xmlns=\"http://www.w3.org/2000/svg\" height=\"24px\"viewBox=\"0 0 24 24\"\n",
              "       width=\"24px\">\n",
              "    <path d=\"M0 0h24v24H0V0z\" fill=\"none\"/>\n",
              "    <path d=\"M18.56 5.44l.94 2.06.94-2.06 2.06-.94-2.06-.94-.94-2.06-.94 2.06-2.06.94zm-11 1L8.5 8.5l.94-2.06 2.06-.94-2.06-.94L8.5 2.5l-.94 2.06-2.06.94zm10 10l.94 2.06.94-2.06 2.06-.94-2.06-.94-.94-2.06-.94 2.06-2.06.94z\"/><path d=\"M17.41 7.96l-1.37-1.37c-.4-.4-.92-.59-1.43-.59-.52 0-1.04.2-1.43.59L10.3 9.45l-7.72 7.72c-.78.78-.78 2.05 0 2.83L4 21.41c.39.39.9.59 1.41.59.51 0 1.02-.2 1.41-.59l7.78-7.78 2.81-2.81c.8-.78.8-2.07 0-2.86zM5.41 20L4 18.59l7.72-7.72 1.47 1.35L5.41 20z\"/>\n",
              "  </svg>\n",
              "      </button>\n",
              "      \n",
              "  <style>\n",
              "    .colab-df-container {\n",
              "      display:flex;\n",
              "      flex-wrap:wrap;\n",
              "      gap: 12px;\n",
              "    }\n",
              "\n",
              "    .colab-df-convert {\n",
              "      background-color: #E8F0FE;\n",
              "      border: none;\n",
              "      border-radius: 50%;\n",
              "      cursor: pointer;\n",
              "      display: none;\n",
              "      fill: #1967D2;\n",
              "      height: 32px;\n",
              "      padding: 0 0 0 0;\n",
              "      width: 32px;\n",
              "    }\n",
              "\n",
              "    .colab-df-convert:hover {\n",
              "      background-color: #E2EBFA;\n",
              "      box-shadow: 0px 1px 2px rgba(60, 64, 67, 0.3), 0px 1px 3px 1px rgba(60, 64, 67, 0.15);\n",
              "      fill: #174EA6;\n",
              "    }\n",
              "\n",
              "    [theme=dark] .colab-df-convert {\n",
              "      background-color: #3B4455;\n",
              "      fill: #D2E3FC;\n",
              "    }\n",
              "\n",
              "    [theme=dark] .colab-df-convert:hover {\n",
              "      background-color: #434B5C;\n",
              "      box-shadow: 0px 1px 3px 1px rgba(0, 0, 0, 0.15);\n",
              "      filter: drop-shadow(0px 1px 2px rgba(0, 0, 0, 0.3));\n",
              "      fill: #FFFFFF;\n",
              "    }\n",
              "  </style>\n",
              "\n",
              "      <script>\n",
              "        const buttonEl =\n",
              "          document.querySelector('#df-2caeb896-c804-4bcb-a7f0-bb73f357ce36 button.colab-df-convert');\n",
              "        buttonEl.style.display =\n",
              "          google.colab.kernel.accessAllowed ? 'block' : 'none';\n",
              "\n",
              "        async function convertToInteractive(key) {\n",
              "          const element = document.querySelector('#df-2caeb896-c804-4bcb-a7f0-bb73f357ce36');\n",
              "          const dataTable =\n",
              "            await google.colab.kernel.invokeFunction('convertToInteractive',\n",
              "                                                     [key], {});\n",
              "          if (!dataTable) return;\n",
              "\n",
              "          const docLinkHtml = 'Like what you see? Visit the ' +\n",
              "            '<a target=\"_blank\" href=https://colab.research.google.com/notebooks/data_table.ipynb>data table notebook</a>'\n",
              "            + ' to learn more about interactive tables.';\n",
              "          element.innerHTML = '';\n",
              "          dataTable['output_type'] = 'display_data';\n",
              "          await google.colab.output.renderOutput(dataTable, element);\n",
              "          const docLink = document.createElement('div');\n",
              "          docLink.innerHTML = docLinkHtml;\n",
              "          element.appendChild(docLink);\n",
              "        }\n",
              "      </script>\n",
              "    </div>\n",
              "  </div>\n",
              "  "
            ]
          },
          "metadata": {},
          "execution_count": 27
        }
      ]
    },
    {
      "cell_type": "code",
      "source": [
        "name = df_extranjeros[\"Latitud - Longitud\"].str.split(',', expand=True)\n",
        "name.columns = ['Latitud', 'Longitud']"
      ],
      "metadata": {
        "id": "gnJoHlRXHFqv"
      },
      "execution_count": 28,
      "outputs": []
    },
    {
      "cell_type": "code",
      "source": [
        "df_extranjeros = pd.concat([df_extranjeros, name], axis=1)\n",
        "df_extranjeros"
      ],
      "metadata": {
        "colab": {
          "base_uri": "https://localhost:8080/",
          "height": 554
        },
        "id": "RiJrE-wpHZ56",
        "outputId": "90385c5d-2d86-469c-ea58-a6c7aac01579"
      },
      "execution_count": 29,
      "outputs": [
        {
          "output_type": "execute_result",
          "data": {
            "text/plain": [
              "         Año        Mes                                       Nacionalidad  \\\n",
              "0       2012      Enero                            Islas Alboran y Perejil   \n",
              "1       2012      Enero                                            Albania   \n",
              "2       2012      Enero                                           Alemania   \n",
              "3       2012      Enero                                           Alemania   \n",
              "4       2012      Enero                                           Alemania   \n",
              "...      ...        ...                                                ...   \n",
              "112288  2021  Diciembre           Anguila/Territorio Británico de Ultramar   \n",
              "112289  2021  Diciembre           Anguila/Territorio Británico de Ultramar   \n",
              "112290  2021  Diciembre  Islas Turcas y Caicos/Territorio Británico de ...   \n",
              "112291  2021  Diciembre                                        Desconocido   \n",
              "112292  2021  Diciembre                                        Desconocido   \n",
              "\n",
              "        Codigo Iso 3166  Femenino  Masculino  Indefinido  Total  \\\n",
              "0                 99999         1          0         NaN      1   \n",
              "1                     8         1          2         NaN      3   \n",
              "2                   276        11         16         NaN     27   \n",
              "3                   276         1          1         NaN      2   \n",
              "4                   276        63        102         NaN    165   \n",
              "...                 ...       ...        ...         ...    ...   \n",
              "112288              660         0          1         NaN      1   \n",
              "112289              660         1          1         NaN      2   \n",
              "112290              796         0          2         NaN      2   \n",
              "112291            99999        31         41         NaN     72   \n",
              "112292            99999         0          2         NaN      2   \n",
              "\n",
              "            Latitud - Longitud     Ciudad       Continente     Latitud  \\\n",
              "0        (4.697144,-74.140516)     Bogotá           EUROPA   (4.697144   \n",
              "1        (4.697144,-74.140516)     Bogotá           EUROPA   (4.697144   \n",
              "2       (-4.197703,-69.941278)    Leticia           EUROPA  (-4.197703   \n",
              "3         (0.25129,-76.875963)      Pasto           EUROPA    (0.25129   \n",
              "4        (0.814836,-77.662532)      Pasto           EUROPA   (0.814836   \n",
              "...                        ...        ...              ...         ...   \n",
              "112288   (3.541112,-76.384584)       Cali  América Central   (3.541112   \n",
              "112289   (4.697144,-74.140516)     Bogotá  América Central   (4.697144   \n",
              "112290  (10.445761,-75.516429)  Cartagena  América Central  (10.445761   \n",
              "112291   (4.697144,-74.140516)     Bogotá      Desconocido   (4.697144   \n",
              "112292   (7.818934,-72.453226)     Cúcuta      Desconocido   (7.818934   \n",
              "\n",
              "           Longitud  \n",
              "0       -74.140516)  \n",
              "1       -74.140516)  \n",
              "2       -69.941278)  \n",
              "3       -76.875963)  \n",
              "4       -77.662532)  \n",
              "...             ...  \n",
              "112288  -76.384584)  \n",
              "112289  -74.140516)  \n",
              "112290  -75.516429)  \n",
              "112291  -74.140516)  \n",
              "112292  -72.453226)  \n",
              "\n",
              "[112293 rows x 13 columns]"
            ],
            "text/html": [
              "\n",
              "  <div id=\"df-08e11dea-93b3-432a-978a-47f7fbf5804b\">\n",
              "    <div class=\"colab-df-container\">\n",
              "      <div>\n",
              "<style scoped>\n",
              "    .dataframe tbody tr th:only-of-type {\n",
              "        vertical-align: middle;\n",
              "    }\n",
              "\n",
              "    .dataframe tbody tr th {\n",
              "        vertical-align: top;\n",
              "    }\n",
              "\n",
              "    .dataframe thead th {\n",
              "        text-align: right;\n",
              "    }\n",
              "</style>\n",
              "<table border=\"1\" class=\"dataframe\">\n",
              "  <thead>\n",
              "    <tr style=\"text-align: right;\">\n",
              "      <th></th>\n",
              "      <th>Año</th>\n",
              "      <th>Mes</th>\n",
              "      <th>Nacionalidad</th>\n",
              "      <th>Codigo Iso 3166</th>\n",
              "      <th>Femenino</th>\n",
              "      <th>Masculino</th>\n",
              "      <th>Indefinido</th>\n",
              "      <th>Total</th>\n",
              "      <th>Latitud - Longitud</th>\n",
              "      <th>Ciudad</th>\n",
              "      <th>Continente</th>\n",
              "      <th>Latitud</th>\n",
              "      <th>Longitud</th>\n",
              "    </tr>\n",
              "  </thead>\n",
              "  <tbody>\n",
              "    <tr>\n",
              "      <th>0</th>\n",
              "      <td>2012</td>\n",
              "      <td>Enero</td>\n",
              "      <td>Islas Alboran y Perejil</td>\n",
              "      <td>99999</td>\n",
              "      <td>1</td>\n",
              "      <td>0</td>\n",
              "      <td>NaN</td>\n",
              "      <td>1</td>\n",
              "      <td>(4.697144,-74.140516)</td>\n",
              "      <td>Bogotá</td>\n",
              "      <td>EUROPA</td>\n",
              "      <td>(4.697144</td>\n",
              "      <td>-74.140516)</td>\n",
              "    </tr>\n",
              "    <tr>\n",
              "      <th>1</th>\n",
              "      <td>2012</td>\n",
              "      <td>Enero</td>\n",
              "      <td>Albania</td>\n",
              "      <td>8</td>\n",
              "      <td>1</td>\n",
              "      <td>2</td>\n",
              "      <td>NaN</td>\n",
              "      <td>3</td>\n",
              "      <td>(4.697144,-74.140516)</td>\n",
              "      <td>Bogotá</td>\n",
              "      <td>EUROPA</td>\n",
              "      <td>(4.697144</td>\n",
              "      <td>-74.140516)</td>\n",
              "    </tr>\n",
              "    <tr>\n",
              "      <th>2</th>\n",
              "      <td>2012</td>\n",
              "      <td>Enero</td>\n",
              "      <td>Alemania</td>\n",
              "      <td>276</td>\n",
              "      <td>11</td>\n",
              "      <td>16</td>\n",
              "      <td>NaN</td>\n",
              "      <td>27</td>\n",
              "      <td>(-4.197703,-69.941278)</td>\n",
              "      <td>Leticia</td>\n",
              "      <td>EUROPA</td>\n",
              "      <td>(-4.197703</td>\n",
              "      <td>-69.941278)</td>\n",
              "    </tr>\n",
              "    <tr>\n",
              "      <th>3</th>\n",
              "      <td>2012</td>\n",
              "      <td>Enero</td>\n",
              "      <td>Alemania</td>\n",
              "      <td>276</td>\n",
              "      <td>1</td>\n",
              "      <td>1</td>\n",
              "      <td>NaN</td>\n",
              "      <td>2</td>\n",
              "      <td>(0.25129,-76.875963)</td>\n",
              "      <td>Pasto</td>\n",
              "      <td>EUROPA</td>\n",
              "      <td>(0.25129</td>\n",
              "      <td>-76.875963)</td>\n",
              "    </tr>\n",
              "    <tr>\n",
              "      <th>4</th>\n",
              "      <td>2012</td>\n",
              "      <td>Enero</td>\n",
              "      <td>Alemania</td>\n",
              "      <td>276</td>\n",
              "      <td>63</td>\n",
              "      <td>102</td>\n",
              "      <td>NaN</td>\n",
              "      <td>165</td>\n",
              "      <td>(0.814836,-77.662532)</td>\n",
              "      <td>Pasto</td>\n",
              "      <td>EUROPA</td>\n",
              "      <td>(0.814836</td>\n",
              "      <td>-77.662532)</td>\n",
              "    </tr>\n",
              "    <tr>\n",
              "      <th>...</th>\n",
              "      <td>...</td>\n",
              "      <td>...</td>\n",
              "      <td>...</td>\n",
              "      <td>...</td>\n",
              "      <td>...</td>\n",
              "      <td>...</td>\n",
              "      <td>...</td>\n",
              "      <td>...</td>\n",
              "      <td>...</td>\n",
              "      <td>...</td>\n",
              "      <td>...</td>\n",
              "      <td>...</td>\n",
              "      <td>...</td>\n",
              "    </tr>\n",
              "    <tr>\n",
              "      <th>112288</th>\n",
              "      <td>2021</td>\n",
              "      <td>Diciembre</td>\n",
              "      <td>Anguila/Territorio Británico de Ultramar</td>\n",
              "      <td>660</td>\n",
              "      <td>0</td>\n",
              "      <td>1</td>\n",
              "      <td>NaN</td>\n",
              "      <td>1</td>\n",
              "      <td>(3.541112,-76.384584)</td>\n",
              "      <td>Cali</td>\n",
              "      <td>América Central</td>\n",
              "      <td>(3.541112</td>\n",
              "      <td>-76.384584)</td>\n",
              "    </tr>\n",
              "    <tr>\n",
              "      <th>112289</th>\n",
              "      <td>2021</td>\n",
              "      <td>Diciembre</td>\n",
              "      <td>Anguila/Territorio Británico de Ultramar</td>\n",
              "      <td>660</td>\n",
              "      <td>1</td>\n",
              "      <td>1</td>\n",
              "      <td>NaN</td>\n",
              "      <td>2</td>\n",
              "      <td>(4.697144,-74.140516)</td>\n",
              "      <td>Bogotá</td>\n",
              "      <td>América Central</td>\n",
              "      <td>(4.697144</td>\n",
              "      <td>-74.140516)</td>\n",
              "    </tr>\n",
              "    <tr>\n",
              "      <th>112290</th>\n",
              "      <td>2021</td>\n",
              "      <td>Diciembre</td>\n",
              "      <td>Islas Turcas y Caicos/Territorio Británico de ...</td>\n",
              "      <td>796</td>\n",
              "      <td>0</td>\n",
              "      <td>2</td>\n",
              "      <td>NaN</td>\n",
              "      <td>2</td>\n",
              "      <td>(10.445761,-75.516429)</td>\n",
              "      <td>Cartagena</td>\n",
              "      <td>América Central</td>\n",
              "      <td>(10.445761</td>\n",
              "      <td>-75.516429)</td>\n",
              "    </tr>\n",
              "    <tr>\n",
              "      <th>112291</th>\n",
              "      <td>2021</td>\n",
              "      <td>Diciembre</td>\n",
              "      <td>Desconocido</td>\n",
              "      <td>99999</td>\n",
              "      <td>31</td>\n",
              "      <td>41</td>\n",
              "      <td>NaN</td>\n",
              "      <td>72</td>\n",
              "      <td>(4.697144,-74.140516)</td>\n",
              "      <td>Bogotá</td>\n",
              "      <td>Desconocido</td>\n",
              "      <td>(4.697144</td>\n",
              "      <td>-74.140516)</td>\n",
              "    </tr>\n",
              "    <tr>\n",
              "      <th>112292</th>\n",
              "      <td>2021</td>\n",
              "      <td>Diciembre</td>\n",
              "      <td>Desconocido</td>\n",
              "      <td>99999</td>\n",
              "      <td>0</td>\n",
              "      <td>2</td>\n",
              "      <td>NaN</td>\n",
              "      <td>2</td>\n",
              "      <td>(7.818934,-72.453226)</td>\n",
              "      <td>Cúcuta</td>\n",
              "      <td>Desconocido</td>\n",
              "      <td>(7.818934</td>\n",
              "      <td>-72.453226)</td>\n",
              "    </tr>\n",
              "  </tbody>\n",
              "</table>\n",
              "<p>112293 rows × 13 columns</p>\n",
              "</div>\n",
              "      <button class=\"colab-df-convert\" onclick=\"convertToInteractive('df-08e11dea-93b3-432a-978a-47f7fbf5804b')\"\n",
              "              title=\"Convert this dataframe to an interactive table.\"\n",
              "              style=\"display:none;\">\n",
              "        \n",
              "  <svg xmlns=\"http://www.w3.org/2000/svg\" height=\"24px\"viewBox=\"0 0 24 24\"\n",
              "       width=\"24px\">\n",
              "    <path d=\"M0 0h24v24H0V0z\" fill=\"none\"/>\n",
              "    <path d=\"M18.56 5.44l.94 2.06.94-2.06 2.06-.94-2.06-.94-.94-2.06-.94 2.06-2.06.94zm-11 1L8.5 8.5l.94-2.06 2.06-.94-2.06-.94L8.5 2.5l-.94 2.06-2.06.94zm10 10l.94 2.06.94-2.06 2.06-.94-2.06-.94-.94-2.06-.94 2.06-2.06.94z\"/><path d=\"M17.41 7.96l-1.37-1.37c-.4-.4-.92-.59-1.43-.59-.52 0-1.04.2-1.43.59L10.3 9.45l-7.72 7.72c-.78.78-.78 2.05 0 2.83L4 21.41c.39.39.9.59 1.41.59.51 0 1.02-.2 1.41-.59l7.78-7.78 2.81-2.81c.8-.78.8-2.07 0-2.86zM5.41 20L4 18.59l7.72-7.72 1.47 1.35L5.41 20z\"/>\n",
              "  </svg>\n",
              "      </button>\n",
              "      \n",
              "  <style>\n",
              "    .colab-df-container {\n",
              "      display:flex;\n",
              "      flex-wrap:wrap;\n",
              "      gap: 12px;\n",
              "    }\n",
              "\n",
              "    .colab-df-convert {\n",
              "      background-color: #E8F0FE;\n",
              "      border: none;\n",
              "      border-radius: 50%;\n",
              "      cursor: pointer;\n",
              "      display: none;\n",
              "      fill: #1967D2;\n",
              "      height: 32px;\n",
              "      padding: 0 0 0 0;\n",
              "      width: 32px;\n",
              "    }\n",
              "\n",
              "    .colab-df-convert:hover {\n",
              "      background-color: #E2EBFA;\n",
              "      box-shadow: 0px 1px 2px rgba(60, 64, 67, 0.3), 0px 1px 3px 1px rgba(60, 64, 67, 0.15);\n",
              "      fill: #174EA6;\n",
              "    }\n",
              "\n",
              "    [theme=dark] .colab-df-convert {\n",
              "      background-color: #3B4455;\n",
              "      fill: #D2E3FC;\n",
              "    }\n",
              "\n",
              "    [theme=dark] .colab-df-convert:hover {\n",
              "      background-color: #434B5C;\n",
              "      box-shadow: 0px 1px 3px 1px rgba(0, 0, 0, 0.15);\n",
              "      filter: drop-shadow(0px 1px 2px rgba(0, 0, 0, 0.3));\n",
              "      fill: #FFFFFF;\n",
              "    }\n",
              "  </style>\n",
              "\n",
              "      <script>\n",
              "        const buttonEl =\n",
              "          document.querySelector('#df-08e11dea-93b3-432a-978a-47f7fbf5804b button.colab-df-convert');\n",
              "        buttonEl.style.display =\n",
              "          google.colab.kernel.accessAllowed ? 'block' : 'none';\n",
              "\n",
              "        async function convertToInteractive(key) {\n",
              "          const element = document.querySelector('#df-08e11dea-93b3-432a-978a-47f7fbf5804b');\n",
              "          const dataTable =\n",
              "            await google.colab.kernel.invokeFunction('convertToInteractive',\n",
              "                                                     [key], {});\n",
              "          if (!dataTable) return;\n",
              "\n",
              "          const docLinkHtml = 'Like what you see? Visit the ' +\n",
              "            '<a target=\"_blank\" href=https://colab.research.google.com/notebooks/data_table.ipynb>data table notebook</a>'\n",
              "            + ' to learn more about interactive tables.';\n",
              "          element.innerHTML = '';\n",
              "          dataTable['output_type'] = 'display_data';\n",
              "          await google.colab.output.renderOutput(dataTable, element);\n",
              "          const docLink = document.createElement('div');\n",
              "          docLink.innerHTML = docLinkHtml;\n",
              "          element.appendChild(docLink);\n",
              "        }\n",
              "      </script>\n",
              "    </div>\n",
              "  </div>\n",
              "  "
            ]
          },
          "metadata": {},
          "execution_count": 29
        }
      ]
    },
    {
      "cell_type": "markdown",
      "source": [
        "#Eliminar signos \"(\" y \")\""
      ],
      "metadata": {
        "id": "zuG89dApdpk5"
      }
    },
    {
      "cell_type": "code",
      "source": [
        "inputToken = '('\n",
        "df_extranjeros[\"Latitud\"] = df_extranjeros[\"Latitud\"].str.replace(re.escape(inputToken), '')"
      ],
      "metadata": {
        "colab": {
          "base_uri": "https://localhost:8080/"
        },
        "id": "gJPJw__lfo4k",
        "outputId": "23756fba-d4ba-4174-9458-d43a813ef6e5"
      },
      "execution_count": 30,
      "outputs": [
        {
          "output_type": "stream",
          "name": "stderr",
          "text": [
            "/usr/local/lib/python3.7/dist-packages/ipykernel_launcher.py:2: FutureWarning: The default value of regex will change from True to False in a future version.\n",
            "  \n"
          ]
        }
      ]
    },
    {
      "cell_type": "code",
      "source": [
        "inputToken = ')'\n",
        "df_extranjeros[\"Longitud\"] = df_extranjeros[\"Longitud\"].str.replace(re.escape(inputToken), '')"
      ],
      "metadata": {
        "colab": {
          "base_uri": "https://localhost:8080/"
        },
        "id": "iVIaKYZ-hgA2",
        "outputId": "d63f2a90-da19-4afb-a52f-9ea388fa442d"
      },
      "execution_count": 31,
      "outputs": [
        {
          "output_type": "stream",
          "name": "stderr",
          "text": [
            "/usr/local/lib/python3.7/dist-packages/ipykernel_launcher.py:2: FutureWarning: The default value of regex will change from True to False in a future version.\n",
            "  \n"
          ]
        }
      ]
    },
    {
      "cell_type": "code",
      "source": [
        "df_extranjeros[\"Longitud\"]"
      ],
      "metadata": {
        "colab": {
          "base_uri": "https://localhost:8080/"
        },
        "id": "PwufCxmohvom",
        "outputId": "8387d708-90b1-4785-e627-e80ba5ffcb07"
      },
      "execution_count": 32,
      "outputs": [
        {
          "output_type": "execute_result",
          "data": {
            "text/plain": [
              "0         -74.140516\n",
              "1         -74.140516\n",
              "2         -69.941278\n",
              "3         -76.875963\n",
              "4         -77.662532\n",
              "             ...    \n",
              "112288    -76.384584\n",
              "112289    -74.140516\n",
              "112290    -75.516429\n",
              "112291    -74.140516\n",
              "112292    -72.453226\n",
              "Name: Longitud, Length: 112293, dtype: object"
            ]
          },
          "metadata": {},
          "execution_count": 32
        }
      ]
    },
    {
      "cell_type": "code",
      "source": [
        "df_extranjeros[\"Latitud\"]"
      ],
      "metadata": {
        "colab": {
          "base_uri": "https://localhost:8080/"
        },
        "id": "xOnAAjuEg0ma",
        "outputId": "a8249e80-ede7-4fd4-9d2c-2aaf3d5a0689"
      },
      "execution_count": 33,
      "outputs": [
        {
          "output_type": "execute_result",
          "data": {
            "text/plain": [
              "0          4.697144\n",
              "1          4.697144\n",
              "2         -4.197703\n",
              "3           0.25129\n",
              "4          0.814836\n",
              "            ...    \n",
              "112288     3.541112\n",
              "112289     4.697144\n",
              "112290    10.445761\n",
              "112291     4.697144\n",
              "112292     7.818934\n",
              "Name: Latitud, Length: 112293, dtype: object"
            ]
          },
          "metadata": {},
          "execution_count": 33
        }
      ]
    },
    {
      "cell_type": "markdown",
      "source": [
        "# Series temporales"
      ],
      "metadata": {
        "id": "rRYLnv9Sd7bJ"
      }
    },
    {
      "cell_type": "code",
      "source": [
        "df_extranjeros[\"Mes#\"]=df_extranjeros[\"Mes\"]"
      ],
      "metadata": {
        "id": "ARPM1eKZS8sS"
      },
      "execution_count": 34,
      "outputs": []
    },
    {
      "cell_type": "code",
      "source": [
        "df_extranjeros[\"Mes#\"]=df_extranjeros['Mes#'].replace([\"Enero\",\"Febrero\",\"Marzo\",\"Abril\",\"Mayo\",\"Junio\",\"Julio\",\"Agosto\",\"Septiembre\",\"Octubre\",\"Noviembre\",\"Diciembre\"],[\"1\",\"2\",\"3\",\"4\",\"5\",\"6\",\"7\",\"8\",\"9\",\"10\",\"11\",\"12\"])"
      ],
      "metadata": {
        "id": "jFT0Cn7nTCH-"
      },
      "execution_count": 35,
      "outputs": []
    },
    {
      "cell_type": "code",
      "source": [
        "df_extranjeros[\"Mes#\"]=df_extranjeros[\"Mes#\"].astype(str)"
      ],
      "metadata": {
        "id": "VepusqKZT_GU"
      },
      "execution_count": 36,
      "outputs": []
    },
    {
      "cell_type": "code",
      "source": [
        "df_extranjeros[\"Año#\"]=df_extranjeros[\"Año\"].astype(str)"
      ],
      "metadata": {
        "id": "D9l96ItpUzhU"
      },
      "execution_count": 37,
      "outputs": []
    },
    {
      "cell_type": "code",
      "source": [
        "df_extranjeros[\"Fecha\"]=df_extranjeros[\"Mes#\"]+\"-\"+df_extranjeros[\"Año#\"]+\"-\"+\"1\""
      ],
      "metadata": {
        "id": "v50AA5wYVJRV"
      },
      "execution_count": 38,
      "outputs": []
    },
    {
      "cell_type": "code",
      "source": [
        "df_extranjeros[\"Fecha\"]"
      ],
      "metadata": {
        "colab": {
          "base_uri": "https://localhost:8080/"
        },
        "id": "tGCBdaPMV7XE",
        "outputId": "f6a01769-9b50-4c34-e862-7164dffe8b17"
      },
      "execution_count": 39,
      "outputs": [
        {
          "output_type": "execute_result",
          "data": {
            "text/plain": [
              "0          1-2012-1\n",
              "1          1-2012-1\n",
              "2          1-2012-1\n",
              "3          1-2012-1\n",
              "4          1-2012-1\n",
              "            ...    \n",
              "112288    12-2021-1\n",
              "112289    12-2021-1\n",
              "112290    12-2021-1\n",
              "112291    12-2021-1\n",
              "112292    12-2021-1\n",
              "Name: Fecha, Length: 112293, dtype: object"
            ]
          },
          "metadata": {},
          "execution_count": 39
        }
      ]
    },
    {
      "cell_type": "code",
      "source": [
        "df_extranjeros['Fecha'] = pd.to_datetime(df_extranjeros[\"Fecha\"],format='%m-%Y-%d')"
      ],
      "metadata": {
        "id": "micKHKvXWDtf"
      },
      "execution_count": 40,
      "outputs": []
    },
    {
      "cell_type": "code",
      "source": [
        "df_extranjeros['Fecha']"
      ],
      "metadata": {
        "colab": {
          "base_uri": "https://localhost:8080/"
        },
        "id": "rcB20nkJWTI_",
        "outputId": "08da5733-ab47-45c4-b08e-54fb813ac54c"
      },
      "execution_count": 41,
      "outputs": [
        {
          "output_type": "execute_result",
          "data": {
            "text/plain": [
              "0        2012-01-01\n",
              "1        2012-01-01\n",
              "2        2012-01-01\n",
              "3        2012-01-01\n",
              "4        2012-01-01\n",
              "            ...    \n",
              "112288   2021-12-01\n",
              "112289   2021-12-01\n",
              "112290   2021-12-01\n",
              "112291   2021-12-01\n",
              "112292   2021-12-01\n",
              "Name: Fecha, Length: 112293, dtype: datetime64[ns]"
            ]
          },
          "metadata": {},
          "execution_count": 41
        }
      ]
    },
    {
      "cell_type": "markdown",
      "source": [
        "#Dimension de los datos"
      ],
      "metadata": {
        "id": "iDr1IQ0iCJpa"
      }
    },
    {
      "cell_type": "code",
      "source": [
        "print('Entrada de extranjeros a Colombia')\n",
        "print('Filas: ', df_extranjeros.shape[0])\n",
        "print('Columnas: ', df_extranjeros.shape[1])"
      ],
      "metadata": {
        "colab": {
          "base_uri": "https://localhost:8080/"
        },
        "id": "zJvafBgaCI3R",
        "outputId": "46a535fd-64d3-47d7-8866-bdeb1332e28e"
      },
      "execution_count": 42,
      "outputs": [
        {
          "output_type": "stream",
          "name": "stdout",
          "text": [
            "Entrada de extranjeros a Colombia\n",
            "Filas:  112293\n",
            "Columnas:  16\n"
          ]
        }
      ]
    },
    {
      "cell_type": "markdown",
      "source": [
        "#Atributo y tipos de atributo"
      ],
      "metadata": {
        "id": "QC9j3UvcCZiP"
      }
    },
    {
      "cell_type": "code",
      "source": [
        "df_extranjeros.dtypes"
      ],
      "metadata": {
        "colab": {
          "base_uri": "https://localhost:8080/"
        },
        "id": "JS3A9s4RCePQ",
        "outputId": "b2af18f5-178a-4d07-9cae-c3b25b2f4570"
      },
      "execution_count": 43,
      "outputs": [
        {
          "output_type": "execute_result",
          "data": {
            "text/plain": [
              "Año                            int64\n",
              "Mes                           object\n",
              "Nacionalidad                  object\n",
              "Codigo Iso 3166                int64\n",
              "Femenino                       int64\n",
              "Masculino                      int64\n",
              "Indefinido                   float64\n",
              "Total                          int64\n",
              "Latitud - Longitud            object\n",
              "Ciudad                        object\n",
              "Continente                    object\n",
              "Latitud                       object\n",
              "Longitud                      object\n",
              "Mes#                          object\n",
              "Año#                          object\n",
              "Fecha                 datetime64[ns]\n",
              "dtype: object"
            ]
          },
          "metadata": {},
          "execution_count": 43
        }
      ]
    },
    {
      "cell_type": "markdown",
      "source": [
        "#Complejitud"
      ],
      "metadata": {
        "id": "JMF-N3IKCpU8"
      }
    },
    {
      "cell_type": "code",
      "source": [
        "for col in df_extranjeros.columns:\n",
        "    num_missing = df_extranjeros[col].isnull().sum()\n",
        "    pct_missing = np.mean(df_extranjeros[col].isnull())\n",
        "    #print(col,\" - \",round(pct_missing*100, 2),\"% - \",num_missing)\n",
        "    print('{} - {}% - {}'.format(col,round(pct_missing*100, 2),num_missing))"
      ],
      "metadata": {
        "colab": {
          "base_uri": "https://localhost:8080/"
        },
        "id": "Exu87YdYCrtS",
        "outputId": "7e27b141-edf9-41f9-dc48-0022d62df6a1"
      },
      "execution_count": 44,
      "outputs": [
        {
          "output_type": "stream",
          "name": "stdout",
          "text": [
            "Año - 0.0% - 0\n",
            "Mes - 0.0% - 0\n",
            "Nacionalidad - 0.0% - 0\n",
            "Codigo Iso 3166 - 0.0% - 0\n",
            "Femenino - 0.0% - 0\n",
            "Masculino - 0.0% - 0\n",
            "Indefinido - 100.0% - 112293\n",
            "Total - 0.0% - 0\n",
            "Latitud - Longitud - 0.0% - 0\n",
            "Ciudad - 0.0% - 0\n",
            "Continente - 0.0% - 0\n",
            "Latitud - 0.0% - 0\n",
            "Longitud - 0.0% - 0\n",
            "Mes# - 0.0% - 0\n",
            "Año# - 0.0% - 0\n",
            "Fecha - 0.0% - 0\n"
          ]
        }
      ]
    },
    {
      "cell_type": "code",
      "source": [
        "df_extranjeros=df_extranjeros.drop([\"Indefinido\",\"Latitud - Longitud\",\"Mes#\",\"Año#\"], axis=1);df_extranjeros"
      ],
      "metadata": {
        "id": "9xJm4Nrt0l1B"
      },
      "execution_count": null,
      "outputs": []
    },
    {
      "cell_type": "code",
      "source": [
        "df_extranjeros"
      ],
      "metadata": {
        "colab": {
          "base_uri": "https://localhost:8080/",
          "height": 659
        },
        "id": "YhXWiq840hoo",
        "outputId": "4f6108fe-4953-41cc-d795-2bb968a01bfa"
      },
      "execution_count": 48,
      "outputs": [
        {
          "output_type": "execute_result",
          "data": {
            "text/plain": [
              "         Año        Mes                                       Nacionalidad  \\\n",
              "0       2012      Enero                            Islas Alboran y Perejil   \n",
              "1       2012      Enero                                            Albania   \n",
              "2       2012      Enero                                           Alemania   \n",
              "3       2012      Enero                                           Alemania   \n",
              "4       2012      Enero                                           Alemania   \n",
              "...      ...        ...                                                ...   \n",
              "112288  2021  Diciembre           Anguila/Territorio Británico de Ultramar   \n",
              "112289  2021  Diciembre           Anguila/Territorio Británico de Ultramar   \n",
              "112290  2021  Diciembre  Islas Turcas y Caicos/Territorio Británico de ...   \n",
              "112291  2021  Diciembre                                        Desconocido   \n",
              "112292  2021  Diciembre                                        Desconocido   \n",
              "\n",
              "        Codigo Iso 3166  Femenino  Masculino  Total     Ciudad  \\\n",
              "0                 99999         1          0      1     Bogotá   \n",
              "1                     8         1          2      3     Bogotá   \n",
              "2                   276        11         16     27    Leticia   \n",
              "3                   276         1          1      2      Pasto   \n",
              "4                   276        63        102    165      Pasto   \n",
              "...                 ...       ...        ...    ...        ...   \n",
              "112288              660         0          1      1       Cali   \n",
              "112289              660         1          1      2     Bogotá   \n",
              "112290              796         0          2      2  Cartagena   \n",
              "112291            99999        31         41     72     Bogotá   \n",
              "112292            99999         0          2      2     Cúcuta   \n",
              "\n",
              "             Continente    Latitud    Longitud      Fecha  \n",
              "0                EUROPA   4.697144  -74.140516 2012-01-01  \n",
              "1                EUROPA   4.697144  -74.140516 2012-01-01  \n",
              "2                EUROPA  -4.197703  -69.941278 2012-01-01  \n",
              "3                EUROPA    0.25129  -76.875963 2012-01-01  \n",
              "4                EUROPA   0.814836  -77.662532 2012-01-01  \n",
              "...                 ...        ...         ...        ...  \n",
              "112288  América Central   3.541112  -76.384584 2021-12-01  \n",
              "112289  América Central   4.697144  -74.140516 2021-12-01  \n",
              "112290  América Central  10.445761  -75.516429 2021-12-01  \n",
              "112291      Desconocido   4.697144  -74.140516 2021-12-01  \n",
              "112292      Desconocido   7.818934  -72.453226 2021-12-01  \n",
              "\n",
              "[112293 rows x 12 columns]"
            ],
            "text/html": [
              "\n",
              "  <div id=\"df-4c0e5cc6-49f9-40ca-be26-f8ab90ac2692\">\n",
              "    <div class=\"colab-df-container\">\n",
              "      <div>\n",
              "<style scoped>\n",
              "    .dataframe tbody tr th:only-of-type {\n",
              "        vertical-align: middle;\n",
              "    }\n",
              "\n",
              "    .dataframe tbody tr th {\n",
              "        vertical-align: top;\n",
              "    }\n",
              "\n",
              "    .dataframe thead th {\n",
              "        text-align: right;\n",
              "    }\n",
              "</style>\n",
              "<table border=\"1\" class=\"dataframe\">\n",
              "  <thead>\n",
              "    <tr style=\"text-align: right;\">\n",
              "      <th></th>\n",
              "      <th>Año</th>\n",
              "      <th>Mes</th>\n",
              "      <th>Nacionalidad</th>\n",
              "      <th>Codigo Iso 3166</th>\n",
              "      <th>Femenino</th>\n",
              "      <th>Masculino</th>\n",
              "      <th>Total</th>\n",
              "      <th>Ciudad</th>\n",
              "      <th>Continente</th>\n",
              "      <th>Latitud</th>\n",
              "      <th>Longitud</th>\n",
              "      <th>Fecha</th>\n",
              "    </tr>\n",
              "  </thead>\n",
              "  <tbody>\n",
              "    <tr>\n",
              "      <th>0</th>\n",
              "      <td>2012</td>\n",
              "      <td>Enero</td>\n",
              "      <td>Islas Alboran y Perejil</td>\n",
              "      <td>99999</td>\n",
              "      <td>1</td>\n",
              "      <td>0</td>\n",
              "      <td>1</td>\n",
              "      <td>Bogotá</td>\n",
              "      <td>EUROPA</td>\n",
              "      <td>4.697144</td>\n",
              "      <td>-74.140516</td>\n",
              "      <td>2012-01-01</td>\n",
              "    </tr>\n",
              "    <tr>\n",
              "      <th>1</th>\n",
              "      <td>2012</td>\n",
              "      <td>Enero</td>\n",
              "      <td>Albania</td>\n",
              "      <td>8</td>\n",
              "      <td>1</td>\n",
              "      <td>2</td>\n",
              "      <td>3</td>\n",
              "      <td>Bogotá</td>\n",
              "      <td>EUROPA</td>\n",
              "      <td>4.697144</td>\n",
              "      <td>-74.140516</td>\n",
              "      <td>2012-01-01</td>\n",
              "    </tr>\n",
              "    <tr>\n",
              "      <th>2</th>\n",
              "      <td>2012</td>\n",
              "      <td>Enero</td>\n",
              "      <td>Alemania</td>\n",
              "      <td>276</td>\n",
              "      <td>11</td>\n",
              "      <td>16</td>\n",
              "      <td>27</td>\n",
              "      <td>Leticia</td>\n",
              "      <td>EUROPA</td>\n",
              "      <td>-4.197703</td>\n",
              "      <td>-69.941278</td>\n",
              "      <td>2012-01-01</td>\n",
              "    </tr>\n",
              "    <tr>\n",
              "      <th>3</th>\n",
              "      <td>2012</td>\n",
              "      <td>Enero</td>\n",
              "      <td>Alemania</td>\n",
              "      <td>276</td>\n",
              "      <td>1</td>\n",
              "      <td>1</td>\n",
              "      <td>2</td>\n",
              "      <td>Pasto</td>\n",
              "      <td>EUROPA</td>\n",
              "      <td>0.25129</td>\n",
              "      <td>-76.875963</td>\n",
              "      <td>2012-01-01</td>\n",
              "    </tr>\n",
              "    <tr>\n",
              "      <th>4</th>\n",
              "      <td>2012</td>\n",
              "      <td>Enero</td>\n",
              "      <td>Alemania</td>\n",
              "      <td>276</td>\n",
              "      <td>63</td>\n",
              "      <td>102</td>\n",
              "      <td>165</td>\n",
              "      <td>Pasto</td>\n",
              "      <td>EUROPA</td>\n",
              "      <td>0.814836</td>\n",
              "      <td>-77.662532</td>\n",
              "      <td>2012-01-01</td>\n",
              "    </tr>\n",
              "    <tr>\n",
              "      <th>...</th>\n",
              "      <td>...</td>\n",
              "      <td>...</td>\n",
              "      <td>...</td>\n",
              "      <td>...</td>\n",
              "      <td>...</td>\n",
              "      <td>...</td>\n",
              "      <td>...</td>\n",
              "      <td>...</td>\n",
              "      <td>...</td>\n",
              "      <td>...</td>\n",
              "      <td>...</td>\n",
              "      <td>...</td>\n",
              "    </tr>\n",
              "    <tr>\n",
              "      <th>112288</th>\n",
              "      <td>2021</td>\n",
              "      <td>Diciembre</td>\n",
              "      <td>Anguila/Territorio Británico de Ultramar</td>\n",
              "      <td>660</td>\n",
              "      <td>0</td>\n",
              "      <td>1</td>\n",
              "      <td>1</td>\n",
              "      <td>Cali</td>\n",
              "      <td>América Central</td>\n",
              "      <td>3.541112</td>\n",
              "      <td>-76.384584</td>\n",
              "      <td>2021-12-01</td>\n",
              "    </tr>\n",
              "    <tr>\n",
              "      <th>112289</th>\n",
              "      <td>2021</td>\n",
              "      <td>Diciembre</td>\n",
              "      <td>Anguila/Territorio Británico de Ultramar</td>\n",
              "      <td>660</td>\n",
              "      <td>1</td>\n",
              "      <td>1</td>\n",
              "      <td>2</td>\n",
              "      <td>Bogotá</td>\n",
              "      <td>América Central</td>\n",
              "      <td>4.697144</td>\n",
              "      <td>-74.140516</td>\n",
              "      <td>2021-12-01</td>\n",
              "    </tr>\n",
              "    <tr>\n",
              "      <th>112290</th>\n",
              "      <td>2021</td>\n",
              "      <td>Diciembre</td>\n",
              "      <td>Islas Turcas y Caicos/Territorio Británico de ...</td>\n",
              "      <td>796</td>\n",
              "      <td>0</td>\n",
              "      <td>2</td>\n",
              "      <td>2</td>\n",
              "      <td>Cartagena</td>\n",
              "      <td>América Central</td>\n",
              "      <td>10.445761</td>\n",
              "      <td>-75.516429</td>\n",
              "      <td>2021-12-01</td>\n",
              "    </tr>\n",
              "    <tr>\n",
              "      <th>112291</th>\n",
              "      <td>2021</td>\n",
              "      <td>Diciembre</td>\n",
              "      <td>Desconocido</td>\n",
              "      <td>99999</td>\n",
              "      <td>31</td>\n",
              "      <td>41</td>\n",
              "      <td>72</td>\n",
              "      <td>Bogotá</td>\n",
              "      <td>Desconocido</td>\n",
              "      <td>4.697144</td>\n",
              "      <td>-74.140516</td>\n",
              "      <td>2021-12-01</td>\n",
              "    </tr>\n",
              "    <tr>\n",
              "      <th>112292</th>\n",
              "      <td>2021</td>\n",
              "      <td>Diciembre</td>\n",
              "      <td>Desconocido</td>\n",
              "      <td>99999</td>\n",
              "      <td>0</td>\n",
              "      <td>2</td>\n",
              "      <td>2</td>\n",
              "      <td>Cúcuta</td>\n",
              "      <td>Desconocido</td>\n",
              "      <td>7.818934</td>\n",
              "      <td>-72.453226</td>\n",
              "      <td>2021-12-01</td>\n",
              "    </tr>\n",
              "  </tbody>\n",
              "</table>\n",
              "<p>112293 rows × 12 columns</p>\n",
              "</div>\n",
              "      <button class=\"colab-df-convert\" onclick=\"convertToInteractive('df-4c0e5cc6-49f9-40ca-be26-f8ab90ac2692')\"\n",
              "              title=\"Convert this dataframe to an interactive table.\"\n",
              "              style=\"display:none;\">\n",
              "        \n",
              "  <svg xmlns=\"http://www.w3.org/2000/svg\" height=\"24px\"viewBox=\"0 0 24 24\"\n",
              "       width=\"24px\">\n",
              "    <path d=\"M0 0h24v24H0V0z\" fill=\"none\"/>\n",
              "    <path d=\"M18.56 5.44l.94 2.06.94-2.06 2.06-.94-2.06-.94-.94-2.06-.94 2.06-2.06.94zm-11 1L8.5 8.5l.94-2.06 2.06-.94-2.06-.94L8.5 2.5l-.94 2.06-2.06.94zm10 10l.94 2.06.94-2.06 2.06-.94-2.06-.94-.94-2.06-.94 2.06-2.06.94z\"/><path d=\"M17.41 7.96l-1.37-1.37c-.4-.4-.92-.59-1.43-.59-.52 0-1.04.2-1.43.59L10.3 9.45l-7.72 7.72c-.78.78-.78 2.05 0 2.83L4 21.41c.39.39.9.59 1.41.59.51 0 1.02-.2 1.41-.59l7.78-7.78 2.81-2.81c.8-.78.8-2.07 0-2.86zM5.41 20L4 18.59l7.72-7.72 1.47 1.35L5.41 20z\"/>\n",
              "  </svg>\n",
              "      </button>\n",
              "      \n",
              "  <style>\n",
              "    .colab-df-container {\n",
              "      display:flex;\n",
              "      flex-wrap:wrap;\n",
              "      gap: 12px;\n",
              "    }\n",
              "\n",
              "    .colab-df-convert {\n",
              "      background-color: #E8F0FE;\n",
              "      border: none;\n",
              "      border-radius: 50%;\n",
              "      cursor: pointer;\n",
              "      display: none;\n",
              "      fill: #1967D2;\n",
              "      height: 32px;\n",
              "      padding: 0 0 0 0;\n",
              "      width: 32px;\n",
              "    }\n",
              "\n",
              "    .colab-df-convert:hover {\n",
              "      background-color: #E2EBFA;\n",
              "      box-shadow: 0px 1px 2px rgba(60, 64, 67, 0.3), 0px 1px 3px 1px rgba(60, 64, 67, 0.15);\n",
              "      fill: #174EA6;\n",
              "    }\n",
              "\n",
              "    [theme=dark] .colab-df-convert {\n",
              "      background-color: #3B4455;\n",
              "      fill: #D2E3FC;\n",
              "    }\n",
              "\n",
              "    [theme=dark] .colab-df-convert:hover {\n",
              "      background-color: #434B5C;\n",
              "      box-shadow: 0px 1px 3px 1px rgba(0, 0, 0, 0.15);\n",
              "      filter: drop-shadow(0px 1px 2px rgba(0, 0, 0, 0.3));\n",
              "      fill: #FFFFFF;\n",
              "    }\n",
              "  </style>\n",
              "\n",
              "      <script>\n",
              "        const buttonEl =\n",
              "          document.querySelector('#df-4c0e5cc6-49f9-40ca-be26-f8ab90ac2692 button.colab-df-convert');\n",
              "        buttonEl.style.display =\n",
              "          google.colab.kernel.accessAllowed ? 'block' : 'none';\n",
              "\n",
              "        async function convertToInteractive(key) {\n",
              "          const element = document.querySelector('#df-4c0e5cc6-49f9-40ca-be26-f8ab90ac2692');\n",
              "          const dataTable =\n",
              "            await google.colab.kernel.invokeFunction('convertToInteractive',\n",
              "                                                     [key], {});\n",
              "          if (!dataTable) return;\n",
              "\n",
              "          const docLinkHtml = 'Like what you see? Visit the ' +\n",
              "            '<a target=\"_blank\" href=https://colab.research.google.com/notebooks/data_table.ipynb>data table notebook</a>'\n",
              "            + ' to learn more about interactive tables.';\n",
              "          element.innerHTML = '';\n",
              "          dataTable['output_type'] = 'display_data';\n",
              "          await google.colab.output.renderOutput(dataTable, element);\n",
              "          const docLink = document.createElement('div');\n",
              "          docLink.innerHTML = docLinkHtml;\n",
              "          element.appendChild(docLink);\n",
              "        }\n",
              "      </script>\n",
              "    </div>\n",
              "  </div>\n",
              "  "
            ]
          },
          "metadata": {},
          "execution_count": 48
        }
      ]
    },
    {
      "cell_type": "markdown",
      "source": [
        "#Coherencia"
      ],
      "metadata": {
        "id": "hRlcfZ-JDGhp"
      }
    },
    {
      "cell_type": "markdown",
      "source": [
        "### *Datos duplicados*"
      ],
      "metadata": {
        "id": "lys4pmck6cAs"
      }
    },
    {
      "cell_type": "code",
      "source": [
        "df_extranjeros_C = df_extranjeros\n",
        "df_extranjeros_C[df_extranjeros_C.duplicated()]"
      ],
      "metadata": {
        "colab": {
          "base_uri": "https://localhost:8080/",
          "height": 49
        },
        "id": "9vLnSxYX55zw",
        "outputId": "cb3e23b1-d4dd-4961-ecf9-9e5d27a8366c"
      },
      "execution_count": 49,
      "outputs": [
        {
          "output_type": "execute_result",
          "data": {
            "text/plain": [
              "Empty DataFrame\n",
              "Columns: [Año, Mes, Nacionalidad, Codigo Iso 3166, Femenino, Masculino, Total, Ciudad, Continente, Latitud, Longitud, Fecha]\n",
              "Index: []"
            ],
            "text/html": [
              "\n",
              "  <div id=\"df-85fa0c72-54c6-41cd-a13e-31a3c7de62df\">\n",
              "    <div class=\"colab-df-container\">\n",
              "      <div>\n",
              "<style scoped>\n",
              "    .dataframe tbody tr th:only-of-type {\n",
              "        vertical-align: middle;\n",
              "    }\n",
              "\n",
              "    .dataframe tbody tr th {\n",
              "        vertical-align: top;\n",
              "    }\n",
              "\n",
              "    .dataframe thead th {\n",
              "        text-align: right;\n",
              "    }\n",
              "</style>\n",
              "<table border=\"1\" class=\"dataframe\">\n",
              "  <thead>\n",
              "    <tr style=\"text-align: right;\">\n",
              "      <th></th>\n",
              "      <th>Año</th>\n",
              "      <th>Mes</th>\n",
              "      <th>Nacionalidad</th>\n",
              "      <th>Codigo Iso 3166</th>\n",
              "      <th>Femenino</th>\n",
              "      <th>Masculino</th>\n",
              "      <th>Total</th>\n",
              "      <th>Ciudad</th>\n",
              "      <th>Continente</th>\n",
              "      <th>Latitud</th>\n",
              "      <th>Longitud</th>\n",
              "      <th>Fecha</th>\n",
              "    </tr>\n",
              "  </thead>\n",
              "  <tbody>\n",
              "  </tbody>\n",
              "</table>\n",
              "</div>\n",
              "      <button class=\"colab-df-convert\" onclick=\"convertToInteractive('df-85fa0c72-54c6-41cd-a13e-31a3c7de62df')\"\n",
              "              title=\"Convert this dataframe to an interactive table.\"\n",
              "              style=\"display:none;\">\n",
              "        \n",
              "  <svg xmlns=\"http://www.w3.org/2000/svg\" height=\"24px\"viewBox=\"0 0 24 24\"\n",
              "       width=\"24px\">\n",
              "    <path d=\"M0 0h24v24H0V0z\" fill=\"none\"/>\n",
              "    <path d=\"M18.56 5.44l.94 2.06.94-2.06 2.06-.94-2.06-.94-.94-2.06-.94 2.06-2.06.94zm-11 1L8.5 8.5l.94-2.06 2.06-.94-2.06-.94L8.5 2.5l-.94 2.06-2.06.94zm10 10l.94 2.06.94-2.06 2.06-.94-2.06-.94-.94-2.06-.94 2.06-2.06.94z\"/><path d=\"M17.41 7.96l-1.37-1.37c-.4-.4-.92-.59-1.43-.59-.52 0-1.04.2-1.43.59L10.3 9.45l-7.72 7.72c-.78.78-.78 2.05 0 2.83L4 21.41c.39.39.9.59 1.41.59.51 0 1.02-.2 1.41-.59l7.78-7.78 2.81-2.81c.8-.78.8-2.07 0-2.86zM5.41 20L4 18.59l7.72-7.72 1.47 1.35L5.41 20z\"/>\n",
              "  </svg>\n",
              "      </button>\n",
              "      \n",
              "  <style>\n",
              "    .colab-df-container {\n",
              "      display:flex;\n",
              "      flex-wrap:wrap;\n",
              "      gap: 12px;\n",
              "    }\n",
              "\n",
              "    .colab-df-convert {\n",
              "      background-color: #E8F0FE;\n",
              "      border: none;\n",
              "      border-radius: 50%;\n",
              "      cursor: pointer;\n",
              "      display: none;\n",
              "      fill: #1967D2;\n",
              "      height: 32px;\n",
              "      padding: 0 0 0 0;\n",
              "      width: 32px;\n",
              "    }\n",
              "\n",
              "    .colab-df-convert:hover {\n",
              "      background-color: #E2EBFA;\n",
              "      box-shadow: 0px 1px 2px rgba(60, 64, 67, 0.3), 0px 1px 3px 1px rgba(60, 64, 67, 0.15);\n",
              "      fill: #174EA6;\n",
              "    }\n",
              "\n",
              "    [theme=dark] .colab-df-convert {\n",
              "      background-color: #3B4455;\n",
              "      fill: #D2E3FC;\n",
              "    }\n",
              "\n",
              "    [theme=dark] .colab-df-convert:hover {\n",
              "      background-color: #434B5C;\n",
              "      box-shadow: 0px 1px 3px 1px rgba(0, 0, 0, 0.15);\n",
              "      filter: drop-shadow(0px 1px 2px rgba(0, 0, 0, 0.3));\n",
              "      fill: #FFFFFF;\n",
              "    }\n",
              "  </style>\n",
              "\n",
              "      <script>\n",
              "        const buttonEl =\n",
              "          document.querySelector('#df-85fa0c72-54c6-41cd-a13e-31a3c7de62df button.colab-df-convert');\n",
              "        buttonEl.style.display =\n",
              "          google.colab.kernel.accessAllowed ? 'block' : 'none';\n",
              "\n",
              "        async function convertToInteractive(key) {\n",
              "          const element = document.querySelector('#df-85fa0c72-54c6-41cd-a13e-31a3c7de62df');\n",
              "          const dataTable =\n",
              "            await google.colab.kernel.invokeFunction('convertToInteractive',\n",
              "                                                     [key], {});\n",
              "          if (!dataTable) return;\n",
              "\n",
              "          const docLinkHtml = 'Like what you see? Visit the ' +\n",
              "            '<a target=\"_blank\" href=https://colab.research.google.com/notebooks/data_table.ipynb>data table notebook</a>'\n",
              "            + ' to learn more about interactive tables.';\n",
              "          element.innerHTML = '';\n",
              "          dataTable['output_type'] = 'display_data';\n",
              "          await google.colab.output.renderOutput(dataTable, element);\n",
              "          const docLink = document.createElement('div');\n",
              "          docLink.innerHTML = docLinkHtml;\n",
              "          element.appendChild(docLink);\n",
              "        }\n",
              "      </script>\n",
              "    </div>\n",
              "  </div>\n",
              "  "
            ]
          },
          "metadata": {},
          "execution_count": 49
        }
      ]
    },
    {
      "cell_type": "markdown",
      "source": [
        "# *Consistencia de datos categoricos*"
      ],
      "metadata": {
        "id": "MBho3Pf26lhd"
      }
    },
    {
      "cell_type": "code",
      "source": [
        "df_extranjeros_C[\"Nacionalidad\"].value_counts()"
      ],
      "metadata": {
        "colab": {
          "base_uri": "https://localhost:8080/"
        },
        "id": "3uvS6pB58l-p",
        "outputId": "57788dfe-20cd-43b3-dea2-bf99948a3498"
      },
      "execution_count": 50,
      "outputs": [
        {
          "output_type": "execute_result",
          "data": {
            "text/plain": [
              "Venezuela                                                   2601\n",
              "España                                                      2259\n",
              "Ecuador                                                     2239\n",
              "Estados Unidos de America                                   2208\n",
              "Francia                                                     2136\n",
              "                                                            ... \n",
              "Islas Pitcairn/Territorio Britanico de Ultramar                1\n",
              "Polinesia Francesa/Colectividad de Ultramar Francesa           1\n",
              "Islas Midway/Territorio no incorporado de Estados Unidos       1\n",
              "Papua Occidental                                               1\n",
              "San Martín (Países Bajos)                                      1\n",
              "Name: Nacionalidad, Length: 300, dtype: int64"
            ]
          },
          "metadata": {},
          "execution_count": 50
        }
      ]
    },
    {
      "cell_type": "code",
      "source": [
        "df_extranjeros_C[\"Año\"].value_counts()"
      ],
      "metadata": {
        "colab": {
          "base_uri": "https://localhost:8080/"
        },
        "id": "MWfDQCZS8Ifd",
        "outputId": "2765764f-e026-4b0c-a59b-d0b3ea44072c"
      },
      "execution_count": 51,
      "outputs": [
        {
          "output_type": "execute_result",
          "data": {
            "text/plain": [
              "2019    13553\n",
              "2018    13443\n",
              "2017    13133\n",
              "2016    12228\n",
              "2015    12216\n",
              "2014    11668\n",
              "2013    11221\n",
              "2012    11052\n",
              "2021     8345\n",
              "2020     5434\n",
              "Name: Año, dtype: int64"
            ]
          },
          "metadata": {},
          "execution_count": 51
        }
      ]
    },
    {
      "cell_type": "code",
      "source": [
        "df_extranjeros_C[\"Mes\"].value_counts()"
      ],
      "metadata": {
        "colab": {
          "base_uri": "https://localhost:8080/"
        },
        "id": "AlXHRtMO8Z52",
        "outputId": "4d3dff08-bb13-455b-bfde-9eff0a81c5e2"
      },
      "execution_count": 55,
      "outputs": [
        {
          "output_type": "execute_result",
          "data": {
            "text/plain": [
              "Diciembre     10242\n",
              "Enero         10149\n",
              "Febrero        9808\n",
              "Noviembre      9789\n",
              "Marzo          9671\n",
              "Octubre        9263\n",
              "Julio          9246\n",
              "Agosto         9059\n",
              "Septiembre     8943\n",
              "Abril          8734\n",
              "Junio          8734\n",
              "Mayo           8655\n",
              "Name: Mes, dtype: int64"
            ]
          },
          "metadata": {},
          "execution_count": 55
        }
      ]
    },
    {
      "cell_type": "code",
      "source": [
        "df_extranjeros_C[\"Continente\"].value_counts()"
      ],
      "metadata": {
        "colab": {
          "base_uri": "https://localhost:8080/"
        },
        "id": "LvMhL7f07XSi",
        "outputId": "5fe646f1-b9d1-4f6d-ab81-9b617a54ae0a"
      },
      "execution_count": 53,
      "outputs": [
        {
          "output_type": "execute_result",
          "data": {
            "text/plain": [
              "EUROPA               42504\n",
              "América del Sur      17957\n",
              "América Central      16576\n",
              "ASIA                 16418\n",
              "América del Norte     8179\n",
              "AFRICA                6970\n",
              "OCEANIA               3028\n",
              "Desconocido            538\n",
              "Refugiado               68\n",
              "Antartida               55\n",
              "Name: Continente, dtype: int64"
            ]
          },
          "metadata": {},
          "execution_count": 53
        }
      ]
    },
    {
      "cell_type": "code",
      "source": [
        "df_extranjeros_C[\"Ciudad\"].value_counts()"
      ],
      "metadata": {
        "colab": {
          "base_uri": "https://localhost:8080/"
        },
        "id": "q4ug7x1f7s94",
        "outputId": "b2eb46b0-5f75-45de-d2d5-54b6f4d97823"
      },
      "execution_count": 56,
      "outputs": [
        {
          "output_type": "execute_result",
          "data": {
            "text/plain": [
              "Bogotá               17369\n",
              "Cartagena            16627\n",
              "Medellin             11006\n",
              "Cali                  9055\n",
              "Pasto                 8588\n",
              "Soledad               6998\n",
              "Cúcuta                5759\n",
              "San Andres            5370\n",
              "Leticia               5096\n",
              "Pereira               4197\n",
              "Maicao                3593\n",
              "Lebrija               3334\n",
              "Acandí                2899\n",
              "Santa Marta           2479\n",
              "Armenia               1835\n",
              "San Cayetano          1662\n",
              "Barranquilla          1309\n",
              "Buenaventura           952\n",
              "Puerto Santander       876\n",
              "Tumaco                 718\n",
              "Coveñas                613\n",
              "Puerto Carreño         591\n",
              "Inírida                228\n",
              "Riohacha               210\n",
              "Bahía Solano           193\n",
              "Apartadó               162\n",
              "Cumbal                 144\n",
              "Jurado                 144\n",
              "Putumayo               112\n",
              "Rionegro                55\n",
              "Valledupar              49\n",
              "Uribia                  38\n",
              "NoAplica,NoAplica       14\n",
              "Villavicencio            7\n",
              "Nilo                     7\n",
              "Chachagüí                2\n",
              "Neiva                    2\n",
              "Name: Ciudad, dtype: int64"
            ]
          },
          "metadata": {},
          "execution_count": 56
        }
      ]
    },
    {
      "cell_type": "markdown",
      "source": [
        "### *Consistencia de datos cuantitativos"
      ],
      "metadata": {
        "id": "mADiugis92ax"
      }
    },
    {
      "cell_type": "code",
      "source": [
        "df_extranjeros_C[\"Femenino\"].describe()"
      ],
      "metadata": {
        "colab": {
          "base_uri": "https://localhost:8080/"
        },
        "id": "CTIyR2Ze-fJt",
        "outputId": "41f36477-db73-4d00-b01d-37e2d440b83a"
      },
      "execution_count": 57,
      "outputs": [
        {
          "output_type": "execute_result",
          "data": {
            "text/plain": [
              "count    112293.000000\n",
              "mean         91.231493\n",
              "std         685.712820\n",
              "min           0.000000\n",
              "25%           0.000000\n",
              "50%           2.000000\n",
              "75%           9.000000\n",
              "max       39500.000000\n",
              "Name: Femenino, dtype: float64"
            ]
          },
          "metadata": {},
          "execution_count": 57
        }
      ]
    },
    {
      "cell_type": "code",
      "source": [
        "df_extranjeros_C[df_extranjeros_C['Femenino'] == 39500]"
      ],
      "metadata": {
        "colab": {
          "base_uri": "https://localhost:8080/",
          "height": 81
        },
        "id": "l6pHc72X_QpG",
        "outputId": "ccbc2e8e-82bf-4cdb-dee2-1a85420728fa"
      },
      "execution_count": 58,
      "outputs": [
        {
          "output_type": "execute_result",
          "data": {
            "text/plain": [
              "        Año     Mes Nacionalidad  Codigo Iso 3166  Femenino  Masculino  Total  \\\n",
              "93990  2019  Agosto    Venezuela              862     39500      29907  69408   \n",
              "\n",
              "       Ciudad       Continente   Latitud    Longitud      Fecha  \n",
              "93990  Cúcuta  América del Sur  7.818934  -72.453226 2019-08-01  "
            ],
            "text/html": [
              "\n",
              "  <div id=\"df-433deb11-ce44-4c0a-9fbd-5bdbf76152d2\">\n",
              "    <div class=\"colab-df-container\">\n",
              "      <div>\n",
              "<style scoped>\n",
              "    .dataframe tbody tr th:only-of-type {\n",
              "        vertical-align: middle;\n",
              "    }\n",
              "\n",
              "    .dataframe tbody tr th {\n",
              "        vertical-align: top;\n",
              "    }\n",
              "\n",
              "    .dataframe thead th {\n",
              "        text-align: right;\n",
              "    }\n",
              "</style>\n",
              "<table border=\"1\" class=\"dataframe\">\n",
              "  <thead>\n",
              "    <tr style=\"text-align: right;\">\n",
              "      <th></th>\n",
              "      <th>Año</th>\n",
              "      <th>Mes</th>\n",
              "      <th>Nacionalidad</th>\n",
              "      <th>Codigo Iso 3166</th>\n",
              "      <th>Femenino</th>\n",
              "      <th>Masculino</th>\n",
              "      <th>Total</th>\n",
              "      <th>Ciudad</th>\n",
              "      <th>Continente</th>\n",
              "      <th>Latitud</th>\n",
              "      <th>Longitud</th>\n",
              "      <th>Fecha</th>\n",
              "    </tr>\n",
              "  </thead>\n",
              "  <tbody>\n",
              "    <tr>\n",
              "      <th>93990</th>\n",
              "      <td>2019</td>\n",
              "      <td>Agosto</td>\n",
              "      <td>Venezuela</td>\n",
              "      <td>862</td>\n",
              "      <td>39500</td>\n",
              "      <td>29907</td>\n",
              "      <td>69408</td>\n",
              "      <td>Cúcuta</td>\n",
              "      <td>América del Sur</td>\n",
              "      <td>7.818934</td>\n",
              "      <td>-72.453226</td>\n",
              "      <td>2019-08-01</td>\n",
              "    </tr>\n",
              "  </tbody>\n",
              "</table>\n",
              "</div>\n",
              "      <button class=\"colab-df-convert\" onclick=\"convertToInteractive('df-433deb11-ce44-4c0a-9fbd-5bdbf76152d2')\"\n",
              "              title=\"Convert this dataframe to an interactive table.\"\n",
              "              style=\"display:none;\">\n",
              "        \n",
              "  <svg xmlns=\"http://www.w3.org/2000/svg\" height=\"24px\"viewBox=\"0 0 24 24\"\n",
              "       width=\"24px\">\n",
              "    <path d=\"M0 0h24v24H0V0z\" fill=\"none\"/>\n",
              "    <path d=\"M18.56 5.44l.94 2.06.94-2.06 2.06-.94-2.06-.94-.94-2.06-.94 2.06-2.06.94zm-11 1L8.5 8.5l.94-2.06 2.06-.94-2.06-.94L8.5 2.5l-.94 2.06-2.06.94zm10 10l.94 2.06.94-2.06 2.06-.94-2.06-.94-.94-2.06-.94 2.06-2.06.94z\"/><path d=\"M17.41 7.96l-1.37-1.37c-.4-.4-.92-.59-1.43-.59-.52 0-1.04.2-1.43.59L10.3 9.45l-7.72 7.72c-.78.78-.78 2.05 0 2.83L4 21.41c.39.39.9.59 1.41.59.51 0 1.02-.2 1.41-.59l7.78-7.78 2.81-2.81c.8-.78.8-2.07 0-2.86zM5.41 20L4 18.59l7.72-7.72 1.47 1.35L5.41 20z\"/>\n",
              "  </svg>\n",
              "      </button>\n",
              "      \n",
              "  <style>\n",
              "    .colab-df-container {\n",
              "      display:flex;\n",
              "      flex-wrap:wrap;\n",
              "      gap: 12px;\n",
              "    }\n",
              "\n",
              "    .colab-df-convert {\n",
              "      background-color: #E8F0FE;\n",
              "      border: none;\n",
              "      border-radius: 50%;\n",
              "      cursor: pointer;\n",
              "      display: none;\n",
              "      fill: #1967D2;\n",
              "      height: 32px;\n",
              "      padding: 0 0 0 0;\n",
              "      width: 32px;\n",
              "    }\n",
              "\n",
              "    .colab-df-convert:hover {\n",
              "      background-color: #E2EBFA;\n",
              "      box-shadow: 0px 1px 2px rgba(60, 64, 67, 0.3), 0px 1px 3px 1px rgba(60, 64, 67, 0.15);\n",
              "      fill: #174EA6;\n",
              "    }\n",
              "\n",
              "    [theme=dark] .colab-df-convert {\n",
              "      background-color: #3B4455;\n",
              "      fill: #D2E3FC;\n",
              "    }\n",
              "\n",
              "    [theme=dark] .colab-df-convert:hover {\n",
              "      background-color: #434B5C;\n",
              "      box-shadow: 0px 1px 3px 1px rgba(0, 0, 0, 0.15);\n",
              "      filter: drop-shadow(0px 1px 2px rgba(0, 0, 0, 0.3));\n",
              "      fill: #FFFFFF;\n",
              "    }\n",
              "  </style>\n",
              "\n",
              "      <script>\n",
              "        const buttonEl =\n",
              "          document.querySelector('#df-433deb11-ce44-4c0a-9fbd-5bdbf76152d2 button.colab-df-convert');\n",
              "        buttonEl.style.display =\n",
              "          google.colab.kernel.accessAllowed ? 'block' : 'none';\n",
              "\n",
              "        async function convertToInteractive(key) {\n",
              "          const element = document.querySelector('#df-433deb11-ce44-4c0a-9fbd-5bdbf76152d2');\n",
              "          const dataTable =\n",
              "            await google.colab.kernel.invokeFunction('convertToInteractive',\n",
              "                                                     [key], {});\n",
              "          if (!dataTable) return;\n",
              "\n",
              "          const docLinkHtml = 'Like what you see? Visit the ' +\n",
              "            '<a target=\"_blank\" href=https://colab.research.google.com/notebooks/data_table.ipynb>data table notebook</a>'\n",
              "            + ' to learn more about interactive tables.';\n",
              "          element.innerHTML = '';\n",
              "          dataTable['output_type'] = 'display_data';\n",
              "          await google.colab.output.renderOutput(dataTable, element);\n",
              "          const docLink = document.createElement('div');\n",
              "          docLink.innerHTML = docLinkHtml;\n",
              "          element.appendChild(docLink);\n",
              "        }\n",
              "      </script>\n",
              "    </div>\n",
              "  </div>\n",
              "  "
            ]
          },
          "metadata": {},
          "execution_count": 58
        }
      ]
    },
    {
      "cell_type": "code",
      "source": [
        "df_extranjeros_C[\"Masculino\"].describe()"
      ],
      "metadata": {
        "colab": {
          "base_uri": "https://localhost:8080/"
        },
        "id": "vHZs3ssj8HI5",
        "outputId": "ca0df306-11df-4366-c799-96cfb197f9cf"
      },
      "execution_count": 59,
      "outputs": [
        {
          "output_type": "execute_result",
          "data": {
            "text/plain": [
              "count    112293.000000\n",
              "mean        128.504261\n",
              "std         866.120109\n",
              "min           0.000000\n",
              "25%           1.000000\n",
              "50%           3.000000\n",
              "75%          17.000000\n",
              "max       48041.000000\n",
              "Name: Masculino, dtype: float64"
            ]
          },
          "metadata": {},
          "execution_count": 59
        }
      ]
    },
    {
      "cell_type": "code",
      "source": [
        "df_extranjeros_C[df_extranjeros_C['Masculino'] == 48041]\n"
      ],
      "metadata": {
        "colab": {
          "base_uri": "https://localhost:8080/",
          "height": 81
        },
        "id": "s9KQlCs5ANfQ",
        "outputId": "f5cb433b-545f-4bdc-c0be-b777be416c6c"
      },
      "execution_count": 60,
      "outputs": [
        {
          "output_type": "execute_result",
          "data": {
            "text/plain": [
              "        Año      Mes Nacionalidad  Codigo Iso 3166  Femenino  Masculino  \\\n",
              "73778  2018  Febrero    Venezuela              862     34568      48041   \n",
              "\n",
              "       Total  Ciudad       Continente   Latitud    Longitud      Fecha  \n",
              "73778  82609  Cúcuta  América del Sur  7.818934  -72.453226 2018-02-01  "
            ],
            "text/html": [
              "\n",
              "  <div id=\"df-4902f048-58e7-43a2-aeee-24f6a104ad7b\">\n",
              "    <div class=\"colab-df-container\">\n",
              "      <div>\n",
              "<style scoped>\n",
              "    .dataframe tbody tr th:only-of-type {\n",
              "        vertical-align: middle;\n",
              "    }\n",
              "\n",
              "    .dataframe tbody tr th {\n",
              "        vertical-align: top;\n",
              "    }\n",
              "\n",
              "    .dataframe thead th {\n",
              "        text-align: right;\n",
              "    }\n",
              "</style>\n",
              "<table border=\"1\" class=\"dataframe\">\n",
              "  <thead>\n",
              "    <tr style=\"text-align: right;\">\n",
              "      <th></th>\n",
              "      <th>Año</th>\n",
              "      <th>Mes</th>\n",
              "      <th>Nacionalidad</th>\n",
              "      <th>Codigo Iso 3166</th>\n",
              "      <th>Femenino</th>\n",
              "      <th>Masculino</th>\n",
              "      <th>Total</th>\n",
              "      <th>Ciudad</th>\n",
              "      <th>Continente</th>\n",
              "      <th>Latitud</th>\n",
              "      <th>Longitud</th>\n",
              "      <th>Fecha</th>\n",
              "    </tr>\n",
              "  </thead>\n",
              "  <tbody>\n",
              "    <tr>\n",
              "      <th>73778</th>\n",
              "      <td>2018</td>\n",
              "      <td>Febrero</td>\n",
              "      <td>Venezuela</td>\n",
              "      <td>862</td>\n",
              "      <td>34568</td>\n",
              "      <td>48041</td>\n",
              "      <td>82609</td>\n",
              "      <td>Cúcuta</td>\n",
              "      <td>América del Sur</td>\n",
              "      <td>7.818934</td>\n",
              "      <td>-72.453226</td>\n",
              "      <td>2018-02-01</td>\n",
              "    </tr>\n",
              "  </tbody>\n",
              "</table>\n",
              "</div>\n",
              "      <button class=\"colab-df-convert\" onclick=\"convertToInteractive('df-4902f048-58e7-43a2-aeee-24f6a104ad7b')\"\n",
              "              title=\"Convert this dataframe to an interactive table.\"\n",
              "              style=\"display:none;\">\n",
              "        \n",
              "  <svg xmlns=\"http://www.w3.org/2000/svg\" height=\"24px\"viewBox=\"0 0 24 24\"\n",
              "       width=\"24px\">\n",
              "    <path d=\"M0 0h24v24H0V0z\" fill=\"none\"/>\n",
              "    <path d=\"M18.56 5.44l.94 2.06.94-2.06 2.06-.94-2.06-.94-.94-2.06-.94 2.06-2.06.94zm-11 1L8.5 8.5l.94-2.06 2.06-.94-2.06-.94L8.5 2.5l-.94 2.06-2.06.94zm10 10l.94 2.06.94-2.06 2.06-.94-2.06-.94-.94-2.06-.94 2.06-2.06.94z\"/><path d=\"M17.41 7.96l-1.37-1.37c-.4-.4-.92-.59-1.43-.59-.52 0-1.04.2-1.43.59L10.3 9.45l-7.72 7.72c-.78.78-.78 2.05 0 2.83L4 21.41c.39.39.9.59 1.41.59.51 0 1.02-.2 1.41-.59l7.78-7.78 2.81-2.81c.8-.78.8-2.07 0-2.86zM5.41 20L4 18.59l7.72-7.72 1.47 1.35L5.41 20z\"/>\n",
              "  </svg>\n",
              "      </button>\n",
              "      \n",
              "  <style>\n",
              "    .colab-df-container {\n",
              "      display:flex;\n",
              "      flex-wrap:wrap;\n",
              "      gap: 12px;\n",
              "    }\n",
              "\n",
              "    .colab-df-convert {\n",
              "      background-color: #E8F0FE;\n",
              "      border: none;\n",
              "      border-radius: 50%;\n",
              "      cursor: pointer;\n",
              "      display: none;\n",
              "      fill: #1967D2;\n",
              "      height: 32px;\n",
              "      padding: 0 0 0 0;\n",
              "      width: 32px;\n",
              "    }\n",
              "\n",
              "    .colab-df-convert:hover {\n",
              "      background-color: #E2EBFA;\n",
              "      box-shadow: 0px 1px 2px rgba(60, 64, 67, 0.3), 0px 1px 3px 1px rgba(60, 64, 67, 0.15);\n",
              "      fill: #174EA6;\n",
              "    }\n",
              "\n",
              "    [theme=dark] .colab-df-convert {\n",
              "      background-color: #3B4455;\n",
              "      fill: #D2E3FC;\n",
              "    }\n",
              "\n",
              "    [theme=dark] .colab-df-convert:hover {\n",
              "      background-color: #434B5C;\n",
              "      box-shadow: 0px 1px 3px 1px rgba(0, 0, 0, 0.15);\n",
              "      filter: drop-shadow(0px 1px 2px rgba(0, 0, 0, 0.3));\n",
              "      fill: #FFFFFF;\n",
              "    }\n",
              "  </style>\n",
              "\n",
              "      <script>\n",
              "        const buttonEl =\n",
              "          document.querySelector('#df-4902f048-58e7-43a2-aeee-24f6a104ad7b button.colab-df-convert');\n",
              "        buttonEl.style.display =\n",
              "          google.colab.kernel.accessAllowed ? 'block' : 'none';\n",
              "\n",
              "        async function convertToInteractive(key) {\n",
              "          const element = document.querySelector('#df-4902f048-58e7-43a2-aeee-24f6a104ad7b');\n",
              "          const dataTable =\n",
              "            await google.colab.kernel.invokeFunction('convertToInteractive',\n",
              "                                                     [key], {});\n",
              "          if (!dataTable) return;\n",
              "\n",
              "          const docLinkHtml = 'Like what you see? Visit the ' +\n",
              "            '<a target=\"_blank\" href=https://colab.research.google.com/notebooks/data_table.ipynb>data table notebook</a>'\n",
              "            + ' to learn more about interactive tables.';\n",
              "          element.innerHTML = '';\n",
              "          dataTable['output_type'] = 'display_data';\n",
              "          await google.colab.output.renderOutput(dataTable, element);\n",
              "          const docLink = document.createElement('div');\n",
              "          docLink.innerHTML = docLinkHtml;\n",
              "          element.appendChild(docLink);\n",
              "        }\n",
              "      </script>\n",
              "    </div>\n",
              "  </div>\n",
              "  "
            ]
          },
          "metadata": {},
          "execution_count": 60
        }
      ]
    },
    {
      "cell_type": "code",
      "source": [
        "df_extranjeros_C[\"Total\"].describe()"
      ],
      "metadata": {
        "colab": {
          "base_uri": "https://localhost:8080/"
        },
        "id": "Xc-q_qxb-XLa",
        "outputId": "66253e8a-7eed-4f98-f6eb-357a4c630055"
      },
      "execution_count": 61,
      "outputs": [
        {
          "output_type": "execute_result",
          "data": {
            "text/plain": [
              "count    112293.000000\n",
              "mean        219.743056\n",
              "std        1536.304890\n",
              "min           1.000000\n",
              "25%           2.000000\n",
              "50%           5.000000\n",
              "75%          26.000000\n",
              "max       82609.000000\n",
              "Name: Total, dtype: float64"
            ]
          },
          "metadata": {},
          "execution_count": 61
        }
      ]
    },
    {
      "cell_type": "code",
      "source": [
        "df_extranjeros_C[df_extranjeros_C['Total'] == 82609]"
      ],
      "metadata": {
        "colab": {
          "base_uri": "https://localhost:8080/",
          "height": 81
        },
        "id": "zFReA4_JAdz4",
        "outputId": "ba24d2f8-ec7b-4957-c96f-ac388ad5125e"
      },
      "execution_count": 62,
      "outputs": [
        {
          "output_type": "execute_result",
          "data": {
            "text/plain": [
              "        Año      Mes Nacionalidad  Codigo Iso 3166  Femenino  Masculino  \\\n",
              "73778  2018  Febrero    Venezuela              862     34568      48041   \n",
              "\n",
              "       Total  Ciudad       Continente   Latitud    Longitud      Fecha  \n",
              "73778  82609  Cúcuta  América del Sur  7.818934  -72.453226 2018-02-01  "
            ],
            "text/html": [
              "\n",
              "  <div id=\"df-422d3663-680f-474f-a09f-7cc7c9bd48b2\">\n",
              "    <div class=\"colab-df-container\">\n",
              "      <div>\n",
              "<style scoped>\n",
              "    .dataframe tbody tr th:only-of-type {\n",
              "        vertical-align: middle;\n",
              "    }\n",
              "\n",
              "    .dataframe tbody tr th {\n",
              "        vertical-align: top;\n",
              "    }\n",
              "\n",
              "    .dataframe thead th {\n",
              "        text-align: right;\n",
              "    }\n",
              "</style>\n",
              "<table border=\"1\" class=\"dataframe\">\n",
              "  <thead>\n",
              "    <tr style=\"text-align: right;\">\n",
              "      <th></th>\n",
              "      <th>Año</th>\n",
              "      <th>Mes</th>\n",
              "      <th>Nacionalidad</th>\n",
              "      <th>Codigo Iso 3166</th>\n",
              "      <th>Femenino</th>\n",
              "      <th>Masculino</th>\n",
              "      <th>Total</th>\n",
              "      <th>Ciudad</th>\n",
              "      <th>Continente</th>\n",
              "      <th>Latitud</th>\n",
              "      <th>Longitud</th>\n",
              "      <th>Fecha</th>\n",
              "    </tr>\n",
              "  </thead>\n",
              "  <tbody>\n",
              "    <tr>\n",
              "      <th>73778</th>\n",
              "      <td>2018</td>\n",
              "      <td>Febrero</td>\n",
              "      <td>Venezuela</td>\n",
              "      <td>862</td>\n",
              "      <td>34568</td>\n",
              "      <td>48041</td>\n",
              "      <td>82609</td>\n",
              "      <td>Cúcuta</td>\n",
              "      <td>América del Sur</td>\n",
              "      <td>7.818934</td>\n",
              "      <td>-72.453226</td>\n",
              "      <td>2018-02-01</td>\n",
              "    </tr>\n",
              "  </tbody>\n",
              "</table>\n",
              "</div>\n",
              "      <button class=\"colab-df-convert\" onclick=\"convertToInteractive('df-422d3663-680f-474f-a09f-7cc7c9bd48b2')\"\n",
              "              title=\"Convert this dataframe to an interactive table.\"\n",
              "              style=\"display:none;\">\n",
              "        \n",
              "  <svg xmlns=\"http://www.w3.org/2000/svg\" height=\"24px\"viewBox=\"0 0 24 24\"\n",
              "       width=\"24px\">\n",
              "    <path d=\"M0 0h24v24H0V0z\" fill=\"none\"/>\n",
              "    <path d=\"M18.56 5.44l.94 2.06.94-2.06 2.06-.94-2.06-.94-.94-2.06-.94 2.06-2.06.94zm-11 1L8.5 8.5l.94-2.06 2.06-.94-2.06-.94L8.5 2.5l-.94 2.06-2.06.94zm10 10l.94 2.06.94-2.06 2.06-.94-2.06-.94-.94-2.06-.94 2.06-2.06.94z\"/><path d=\"M17.41 7.96l-1.37-1.37c-.4-.4-.92-.59-1.43-.59-.52 0-1.04.2-1.43.59L10.3 9.45l-7.72 7.72c-.78.78-.78 2.05 0 2.83L4 21.41c.39.39.9.59 1.41.59.51 0 1.02-.2 1.41-.59l7.78-7.78 2.81-2.81c.8-.78.8-2.07 0-2.86zM5.41 20L4 18.59l7.72-7.72 1.47 1.35L5.41 20z\"/>\n",
              "  </svg>\n",
              "      </button>\n",
              "      \n",
              "  <style>\n",
              "    .colab-df-container {\n",
              "      display:flex;\n",
              "      flex-wrap:wrap;\n",
              "      gap: 12px;\n",
              "    }\n",
              "\n",
              "    .colab-df-convert {\n",
              "      background-color: #E8F0FE;\n",
              "      border: none;\n",
              "      border-radius: 50%;\n",
              "      cursor: pointer;\n",
              "      display: none;\n",
              "      fill: #1967D2;\n",
              "      height: 32px;\n",
              "      padding: 0 0 0 0;\n",
              "      width: 32px;\n",
              "    }\n",
              "\n",
              "    .colab-df-convert:hover {\n",
              "      background-color: #E2EBFA;\n",
              "      box-shadow: 0px 1px 2px rgba(60, 64, 67, 0.3), 0px 1px 3px 1px rgba(60, 64, 67, 0.15);\n",
              "      fill: #174EA6;\n",
              "    }\n",
              "\n",
              "    [theme=dark] .colab-df-convert {\n",
              "      background-color: #3B4455;\n",
              "      fill: #D2E3FC;\n",
              "    }\n",
              "\n",
              "    [theme=dark] .colab-df-convert:hover {\n",
              "      background-color: #434B5C;\n",
              "      box-shadow: 0px 1px 3px 1px rgba(0, 0, 0, 0.15);\n",
              "      filter: drop-shadow(0px 1px 2px rgba(0, 0, 0, 0.3));\n",
              "      fill: #FFFFFF;\n",
              "    }\n",
              "  </style>\n",
              "\n",
              "      <script>\n",
              "        const buttonEl =\n",
              "          document.querySelector('#df-422d3663-680f-474f-a09f-7cc7c9bd48b2 button.colab-df-convert');\n",
              "        buttonEl.style.display =\n",
              "          google.colab.kernel.accessAllowed ? 'block' : 'none';\n",
              "\n",
              "        async function convertToInteractive(key) {\n",
              "          const element = document.querySelector('#df-422d3663-680f-474f-a09f-7cc7c9bd48b2');\n",
              "          const dataTable =\n",
              "            await google.colab.kernel.invokeFunction('convertToInteractive',\n",
              "                                                     [key], {});\n",
              "          if (!dataTable) return;\n",
              "\n",
              "          const docLinkHtml = 'Like what you see? Visit the ' +\n",
              "            '<a target=\"_blank\" href=https://colab.research.google.com/notebooks/data_table.ipynb>data table notebook</a>'\n",
              "            + ' to learn more about interactive tables.';\n",
              "          element.innerHTML = '';\n",
              "          dataTable['output_type'] = 'display_data';\n",
              "          await google.colab.output.renderOutput(dataTable, element);\n",
              "          const docLink = document.createElement('div');\n",
              "          docLink.innerHTML = docLinkHtml;\n",
              "          element.appendChild(docLink);\n",
              "        }\n",
              "      </script>\n",
              "    </div>\n",
              "  </div>\n",
              "  "
            ]
          },
          "metadata": {},
          "execution_count": 62
        }
      ]
    },
    {
      "cell_type": "markdown",
      "source": [
        "#Finalmente exportamos la base final"
      ],
      "metadata": {
        "id": "9nPJSC06ftmX"
      }
    },
    {
      "cell_type": "code",
      "source": [
        "df_extranjeros_C.to_csv(\"df_extranjeros_2.csv\")"
      ],
      "metadata": {
        "id": "Zmnn3y2LfwI9"
      },
      "execution_count": null,
      "outputs": []
    }
  ]
}