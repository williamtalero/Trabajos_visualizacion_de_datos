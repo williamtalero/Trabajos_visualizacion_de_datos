{
  "nbformat": 4,
  "nbformat_minor": 0,
  "metadata": {
    "colab": {
      "name": "Proyecto_visualizacion_E1.ipynb",
      "provenance": [],
      "collapsed_sections": []
    },
    "kernelspec": {
      "name": "python3",
      "display_name": "Python 3"
    },
    "language_info": {
      "name": "python"
    }
  },
  "cells": [
    {
      "cell_type": "markdown",
      "source": [
        "#Entradas de extranjeros a Colombia\n",
        "William Andres Talero Bermudez\n",
        "Juan Sebastian Velasquez Castañda"
      ],
      "metadata": {
        "id": "4hmqJJ7CUNMZ"
      }
    },
    {
      "cell_type": "markdown",
      "source": [
        "#Cargar base"
      ],
      "metadata": {
        "id": "-J0x1gKSUmj1"
      }
    },
    {
      "cell_type": "markdown",
      "source": [
        ""
      ],
      "metadata": {
        "id": "lvj898NzUkHt"
      }
    },
    {
      "cell_type": "code",
      "source": [
        "from google.colab import files \n",
        "  \n",
        "  \n",
        "uploaded = files.upload()"
      ],
      "metadata": {
        "colab": {
          "resources": {
            "http://localhost:8080/nbextensions/google.colab/files.js": {
              "data": "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",
              "ok": true,
              "headers": [
                [
                  "content-type",
                  "application/javascript"
                ]
              ],
              "status": 200,
              "status_text": ""
            }
          },
          "base_uri": "https://localhost:8080/",
          "height": 73
        },
        "id": "lzPjDOdqcoMB",
        "outputId": "501a9dea-6ce9-4b7a-b175-41bb309284a9"
      },
      "execution_count": null,
      "outputs": [
        {
          "output_type": "display_data",
          "data": {
            "text/html": [
              "\n",
              "     <input type=\"file\" id=\"files-2d2ee733-37b0-4996-981d-f17ee648d1c2\" name=\"files[]\" multiple disabled\n",
              "        style=\"border:none\" />\n",
              "     <output id=\"result-2d2ee733-37b0-4996-981d-f17ee648d1c2\">\n",
              "      Upload widget is only available when the cell has been executed in the\n",
              "      current browser session. Please rerun this cell to enable.\n",
              "      </output>\n",
              "      <script src=\"/nbextensions/google.colab/files.js\"></script> "
            ],
            "text/plain": [
              "<IPython.core.display.HTML object>"
            ]
          },
          "metadata": {}
        },
        {
          "output_type": "stream",
          "name": "stdout",
          "text": [
            "Saving Entradas_de_extranjeros_a_Colombia.csv to Entradas_de_extranjeros_a_Colombia.csv\n"
          ]
        }
      ]
    },
    {
      "cell_type": "code",
      "source": [
        "import pandas as pd \n",
        "import io \n",
        "  \n",
        "df = pd.read_csv(io.BytesIO(uploaded['Entradas_de_extranjeros_a_Colombia.csv'])) \n",
        "print(df)"
      ],
      "metadata": {
        "colab": {
          "base_uri": "https://localhost:8080/"
        },
        "id": "pv-G3B9Lcr7N",
        "outputId": "33ed8460-07f2-4c77-f4dc-3abd996c1805"
      },
      "execution_count": null,
      "outputs": [
        {
          "output_type": "stream",
          "name": "stdout",
          "text": [
            "         Año        Mes                                       Nacionalidad  \\\n",
            "0       2012      Enero                            Islas Alboran y Perejil   \n",
            "1       2012      Enero                                            Albania   \n",
            "2       2012      Enero                                           Alemania   \n",
            "3       2012      Enero                                           Alemania   \n",
            "4       2012      Enero                                           Alemania   \n",
            "...      ...        ...                                                ...   \n",
            "112288  2021  Diciembre           Anguila/Territorio Británico de Ultramar   \n",
            "112289  2021  Diciembre           Anguila/Territorio Británico de Ultramar   \n",
            "112290  2021  Diciembre  Islas Turcas y Caicos/Territorio Británico de ...   \n",
            "112291  2021  Diciembre                                        Desconocido   \n",
            "112292  2021  Diciembre                                        Desconocido   \n",
            "\n",
            "       Codigo Iso 3166 Femenino Masculino  Indefinido Total  \\\n",
            "0               99,999        1         0         NaN     1   \n",
            "1                    8        1         2         NaN     3   \n",
            "2                  276       11        16         NaN    27   \n",
            "3                  276        1         1         NaN     2   \n",
            "4                  276       63       102         NaN   165   \n",
            "...                ...      ...       ...         ...   ...   \n",
            "112288             660        0         1         NaN     1   \n",
            "112289             660        1         1         NaN     2   \n",
            "112290             796        0         2         NaN     2   \n",
            "112291          99,999       31        41         NaN    72   \n",
            "112292          99,999        0         2         NaN     2   \n",
            "\n",
            "            Latitud - Longitud  \n",
            "0        (4.697144,-74.140516)  \n",
            "1        (4.697144,-74.140516)  \n",
            "2       (-4.197703,-69.941278)  \n",
            "3         (0.25129,-76.875963)  \n",
            "4        (0.814836,-77.662532)  \n",
            "...                        ...  \n",
            "112288   (3.541112,-76.384584)  \n",
            "112289   (4.697144,-74.140516)  \n",
            "112290  (10.445761,-75.516429)  \n",
            "112291   (4.697144,-74.140516)  \n",
            "112292   (7.818934,-72.453226)  \n",
            "\n",
            "[112293 rows x 9 columns]\n"
          ]
        }
      ]
    },
    {
      "cell_type": "code",
      "source": [
        "sns.set(rc={'figure.figsize':(12,8)})\n",
        "pd.set_option('display.float_format', lambda x: '%.3f' % x)"
      ],
      "metadata": {
        "id": "NjX6B2NlbKpD"
      },
      "execution_count": null,
      "outputs": []
    },
    {
      "cell_type": "markdown",
      "source": [
        "## Entrada de extranjeros a lo largo del año 2021\n",
        "Para esta entrega solo visualizaremos entradas de extranjeros a Colombia durante el año 2021"
      ],
      "metadata": {
        "id": "63FcqE31UxMk"
      }
    },
    {
      "cell_type": "code",
      "source": [
        "df2021=df [df['Año'] == 2021];df2021"
      ],
      "metadata": {
        "colab": {
          "base_uri": "https://localhost:8080/",
          "height": 424
        },
        "id": "ND4GFphIdBR9",
        "outputId": "269dc9f7-2fc8-4155-c1a0-ab4073734948"
      },
      "execution_count": null,
      "outputs": [
        {
          "output_type": "execute_result",
          "data": {
            "text/html": [
              "\n",
              "  <div id=\"df-2459540f-f6c8-4bac-939e-69e68edad449\">\n",
              "    <div class=\"colab-df-container\">\n",
              "      <div>\n",
              "<style scoped>\n",
              "    .dataframe tbody tr th:only-of-type {\n",
              "        vertical-align: middle;\n",
              "    }\n",
              "\n",
              "    .dataframe tbody tr th {\n",
              "        vertical-align: top;\n",
              "    }\n",
              "\n",
              "    .dataframe thead th {\n",
              "        text-align: right;\n",
              "    }\n",
              "</style>\n",
              "<table border=\"1\" class=\"dataframe\">\n",
              "  <thead>\n",
              "    <tr style=\"text-align: right;\">\n",
              "      <th></th>\n",
              "      <th>Año</th>\n",
              "      <th>Mes</th>\n",
              "      <th>Nacionalidad</th>\n",
              "      <th>Codigo Iso 3166</th>\n",
              "      <th>Femenino</th>\n",
              "      <th>Masculino</th>\n",
              "      <th>Indefinido</th>\n",
              "      <th>Total</th>\n",
              "      <th>Latitud - Longitud</th>\n",
              "    </tr>\n",
              "  </thead>\n",
              "  <tbody>\n",
              "    <tr>\n",
              "      <th>103948</th>\n",
              "      <td>2021</td>\n",
              "      <td>Enero</td>\n",
              "      <td>Afganistán</td>\n",
              "      <td>4</td>\n",
              "      <td>0</td>\n",
              "      <td>1</td>\n",
              "      <td>NaN</td>\n",
              "      <td>1</td>\n",
              "      <td>(4.697144,-74.140516)</td>\n",
              "    </tr>\n",
              "    <tr>\n",
              "      <th>103949</th>\n",
              "      <td>2021</td>\n",
              "      <td>Enero</td>\n",
              "      <td>Albania</td>\n",
              "      <td>8</td>\n",
              "      <td>0</td>\n",
              "      <td>1</td>\n",
              "      <td>NaN</td>\n",
              "      <td>1</td>\n",
              "      <td>(10.445761,-75.516429)</td>\n",
              "    </tr>\n",
              "    <tr>\n",
              "      <th>103950</th>\n",
              "      <td>2021</td>\n",
              "      <td>Enero</td>\n",
              "      <td>Albania</td>\n",
              "      <td>8</td>\n",
              "      <td>1</td>\n",
              "      <td>15</td>\n",
              "      <td>NaN</td>\n",
              "      <td>16</td>\n",
              "      <td>(4.697144,-74.140516)</td>\n",
              "    </tr>\n",
              "    <tr>\n",
              "      <th>103951</th>\n",
              "      <td>2021</td>\n",
              "      <td>Enero</td>\n",
              "      <td>Albania</td>\n",
              "      <td>8</td>\n",
              "      <td>0</td>\n",
              "      <td>1</td>\n",
              "      <td>NaN</td>\n",
              "      <td>1</td>\n",
              "      <td>(6.171601,-75.427454)</td>\n",
              "    </tr>\n",
              "    <tr>\n",
              "      <th>103952</th>\n",
              "      <td>2021</td>\n",
              "      <td>Enero</td>\n",
              "      <td>Alemania</td>\n",
              "      <td>276</td>\n",
              "      <td>3</td>\n",
              "      <td>3</td>\n",
              "      <td>NaN</td>\n",
              "      <td>6</td>\n",
              "      <td>(10.408582,-75.538003)</td>\n",
              "    </tr>\n",
              "    <tr>\n",
              "      <th>...</th>\n",
              "      <td>...</td>\n",
              "      <td>...</td>\n",
              "      <td>...</td>\n",
              "      <td>...</td>\n",
              "      <td>...</td>\n",
              "      <td>...</td>\n",
              "      <td>...</td>\n",
              "      <td>...</td>\n",
              "      <td>...</td>\n",
              "    </tr>\n",
              "    <tr>\n",
              "      <th>112288</th>\n",
              "      <td>2021</td>\n",
              "      <td>Diciembre</td>\n",
              "      <td>Anguila/Territorio Británico de Ultramar</td>\n",
              "      <td>660</td>\n",
              "      <td>0</td>\n",
              "      <td>1</td>\n",
              "      <td>NaN</td>\n",
              "      <td>1</td>\n",
              "      <td>(3.541112,-76.384584)</td>\n",
              "    </tr>\n",
              "    <tr>\n",
              "      <th>112289</th>\n",
              "      <td>2021</td>\n",
              "      <td>Diciembre</td>\n",
              "      <td>Anguila/Territorio Británico de Ultramar</td>\n",
              "      <td>660</td>\n",
              "      <td>1</td>\n",
              "      <td>1</td>\n",
              "      <td>NaN</td>\n",
              "      <td>2</td>\n",
              "      <td>(4.697144,-74.140516)</td>\n",
              "    </tr>\n",
              "    <tr>\n",
              "      <th>112290</th>\n",
              "      <td>2021</td>\n",
              "      <td>Diciembre</td>\n",
              "      <td>Islas Turcas y Caicos/Territorio Británico de ...</td>\n",
              "      <td>796</td>\n",
              "      <td>0</td>\n",
              "      <td>2</td>\n",
              "      <td>NaN</td>\n",
              "      <td>2</td>\n",
              "      <td>(10.445761,-75.516429)</td>\n",
              "    </tr>\n",
              "    <tr>\n",
              "      <th>112291</th>\n",
              "      <td>2021</td>\n",
              "      <td>Diciembre</td>\n",
              "      <td>Desconocido</td>\n",
              "      <td>99,999</td>\n",
              "      <td>31</td>\n",
              "      <td>41</td>\n",
              "      <td>NaN</td>\n",
              "      <td>72</td>\n",
              "      <td>(4.697144,-74.140516)</td>\n",
              "    </tr>\n",
              "    <tr>\n",
              "      <th>112292</th>\n",
              "      <td>2021</td>\n",
              "      <td>Diciembre</td>\n",
              "      <td>Desconocido</td>\n",
              "      <td>99,999</td>\n",
              "      <td>0</td>\n",
              "      <td>2</td>\n",
              "      <td>NaN</td>\n",
              "      <td>2</td>\n",
              "      <td>(7.818934,-72.453226)</td>\n",
              "    </tr>\n",
              "  </tbody>\n",
              "</table>\n",
              "<p>8345 rows × 9 columns</p>\n",
              "</div>\n",
              "      <button class=\"colab-df-convert\" onclick=\"convertToInteractive('df-2459540f-f6c8-4bac-939e-69e68edad449')\"\n",
              "              title=\"Convert this dataframe to an interactive table.\"\n",
              "              style=\"display:none;\">\n",
              "        \n",
              "  <svg xmlns=\"http://www.w3.org/2000/svg\" height=\"24px\"viewBox=\"0 0 24 24\"\n",
              "       width=\"24px\">\n",
              "    <path d=\"M0 0h24v24H0V0z\" fill=\"none\"/>\n",
              "    <path d=\"M18.56 5.44l.94 2.06.94-2.06 2.06-.94-2.06-.94-.94-2.06-.94 2.06-2.06.94zm-11 1L8.5 8.5l.94-2.06 2.06-.94-2.06-.94L8.5 2.5l-.94 2.06-2.06.94zm10 10l.94 2.06.94-2.06 2.06-.94-2.06-.94-.94-2.06-.94 2.06-2.06.94z\"/><path d=\"M17.41 7.96l-1.37-1.37c-.4-.4-.92-.59-1.43-.59-.52 0-1.04.2-1.43.59L10.3 9.45l-7.72 7.72c-.78.78-.78 2.05 0 2.83L4 21.41c.39.39.9.59 1.41.59.51 0 1.02-.2 1.41-.59l7.78-7.78 2.81-2.81c.8-.78.8-2.07 0-2.86zM5.41 20L4 18.59l7.72-7.72 1.47 1.35L5.41 20z\"/>\n",
              "  </svg>\n",
              "      </button>\n",
              "      \n",
              "  <style>\n",
              "    .colab-df-container {\n",
              "      display:flex;\n",
              "      flex-wrap:wrap;\n",
              "      gap: 12px;\n",
              "    }\n",
              "\n",
              "    .colab-df-convert {\n",
              "      background-color: #E8F0FE;\n",
              "      border: none;\n",
              "      border-radius: 50%;\n",
              "      cursor: pointer;\n",
              "      display: none;\n",
              "      fill: #1967D2;\n",
              "      height: 32px;\n",
              "      padding: 0 0 0 0;\n",
              "      width: 32px;\n",
              "    }\n",
              "\n",
              "    .colab-df-convert:hover {\n",
              "      background-color: #E2EBFA;\n",
              "      box-shadow: 0px 1px 2px rgba(60, 64, 67, 0.3), 0px 1px 3px 1px rgba(60, 64, 67, 0.15);\n",
              "      fill: #174EA6;\n",
              "    }\n",
              "\n",
              "    [theme=dark] .colab-df-convert {\n",
              "      background-color: #3B4455;\n",
              "      fill: #D2E3FC;\n",
              "    }\n",
              "\n",
              "    [theme=dark] .colab-df-convert:hover {\n",
              "      background-color: #434B5C;\n",
              "      box-shadow: 0px 1px 3px 1px rgba(0, 0, 0, 0.15);\n",
              "      filter: drop-shadow(0px 1px 2px rgba(0, 0, 0, 0.3));\n",
              "      fill: #FFFFFF;\n",
              "    }\n",
              "  </style>\n",
              "\n",
              "      <script>\n",
              "        const buttonEl =\n",
              "          document.querySelector('#df-2459540f-f6c8-4bac-939e-69e68edad449 button.colab-df-convert');\n",
              "        buttonEl.style.display =\n",
              "          google.colab.kernel.accessAllowed ? 'block' : 'none';\n",
              "\n",
              "        async function convertToInteractive(key) {\n",
              "          const element = document.querySelector('#df-2459540f-f6c8-4bac-939e-69e68edad449');\n",
              "          const dataTable =\n",
              "            await google.colab.kernel.invokeFunction('convertToInteractive',\n",
              "                                                     [key], {});\n",
              "          if (!dataTable) return;\n",
              "\n",
              "          const docLinkHtml = 'Like what you see? Visit the ' +\n",
              "            '<a target=\"_blank\" href=https://colab.research.google.com/notebooks/data_table.ipynb>data table notebook</a>'\n",
              "            + ' to learn more about interactive tables.';\n",
              "          element.innerHTML = '';\n",
              "          dataTable['output_type'] = 'display_data';\n",
              "          await google.colab.output.renderOutput(dataTable, element);\n",
              "          const docLink = document.createElement('div');\n",
              "          docLink.innerHTML = docLinkHtml;\n",
              "          element.appendChild(docLink);\n",
              "        }\n",
              "      </script>\n",
              "    </div>\n",
              "  </div>\n",
              "  "
            ],
            "text/plain": [
              "         Año        Mes                                       Nacionalidad  \\\n",
              "103948  2021      Enero                                         Afganistán   \n",
              "103949  2021      Enero                                            Albania   \n",
              "103950  2021      Enero                                            Albania   \n",
              "103951  2021      Enero                                            Albania   \n",
              "103952  2021      Enero                                           Alemania   \n",
              "...      ...        ...                                                ...   \n",
              "112288  2021  Diciembre           Anguila/Territorio Británico de Ultramar   \n",
              "112289  2021  Diciembre           Anguila/Territorio Británico de Ultramar   \n",
              "112290  2021  Diciembre  Islas Turcas y Caicos/Territorio Británico de ...   \n",
              "112291  2021  Diciembre                                        Desconocido   \n",
              "112292  2021  Diciembre                                        Desconocido   \n",
              "\n",
              "       Codigo Iso 3166 Femenino Masculino  Indefinido Total  \\\n",
              "103948               4        0         1         NaN     1   \n",
              "103949               8        0         1         NaN     1   \n",
              "103950               8        1        15         NaN    16   \n",
              "103951               8        0         1         NaN     1   \n",
              "103952             276        3         3         NaN     6   \n",
              "...                ...      ...       ...         ...   ...   \n",
              "112288             660        0         1         NaN     1   \n",
              "112289             660        1         1         NaN     2   \n",
              "112290             796        0         2         NaN     2   \n",
              "112291          99,999       31        41         NaN    72   \n",
              "112292          99,999        0         2         NaN     2   \n",
              "\n",
              "            Latitud - Longitud  \n",
              "103948   (4.697144,-74.140516)  \n",
              "103949  (10.445761,-75.516429)  \n",
              "103950   (4.697144,-74.140516)  \n",
              "103951   (6.171601,-75.427454)  \n",
              "103952  (10.408582,-75.538003)  \n",
              "...                        ...  \n",
              "112288   (3.541112,-76.384584)  \n",
              "112289   (4.697144,-74.140516)  \n",
              "112290  (10.445761,-75.516429)  \n",
              "112291   (4.697144,-74.140516)  \n",
              "112292   (7.818934,-72.453226)  \n",
              "\n",
              "[8345 rows x 9 columns]"
            ]
          },
          "metadata": {},
          "execution_count": 4
        }
      ]
    },
    {
      "cell_type": "markdown",
      "source": [
        "#Cambiar tipo de variable Object a Int64\n",
        "Para realizar las visualizaciones primro tuvimos que cambiar el tipo de variables."
      ],
      "metadata": {
        "id": "EPRzOg_dVBOh"
      }
    },
    {
      "cell_type": "code",
      "source": [
        "df2021['Total'] = pd.to_numeric(df2021['Total'].str.replace(r'[,.%]',''))"
      ],
      "metadata": {
        "colab": {
          "base_uri": "https://localhost:8080/"
        },
        "id": "lr2zhlpxHiPT",
        "outputId": "0b542336-ab09-430a-f3e8-a152b45a2340"
      },
      "execution_count": null,
      "outputs": [
        {
          "output_type": "stream",
          "name": "stderr",
          "text": [
            "/usr/local/lib/python3.7/dist-packages/ipykernel_launcher.py:1: FutureWarning: The default value of regex will change from True to False in a future version.\n",
            "  \"\"\"Entry point for launching an IPython kernel.\n",
            "/usr/local/lib/python3.7/dist-packages/ipykernel_launcher.py:1: SettingWithCopyWarning: \n",
            "A value is trying to be set on a copy of a slice from a DataFrame.\n",
            "Try using .loc[row_indexer,col_indexer] = value instead\n",
            "\n",
            "See the caveats in the documentation: https://pandas.pydata.org/pandas-docs/stable/user_guide/indexing.html#returning-a-view-versus-a-copy\n",
            "  \"\"\"Entry point for launching an IPython kernel.\n"
          ]
        }
      ]
    },
    {
      "cell_type": "code",
      "source": [
        "df2021['Masculino'] = pd.to_numeric(df2021['Masculino'].str.replace(r'[,.%]',''))\n",
        "df2021['Femenino'] = pd.to_numeric(df2021['Femenino'].str.replace(r'[,.%]',''))"
      ],
      "metadata": {
        "colab": {
          "base_uri": "https://localhost:8080/"
        },
        "id": "BYPMONOxxgVv",
        "outputId": "f14cb06d-5923-44ca-c106-1ee980e41204"
      },
      "execution_count": null,
      "outputs": [
        {
          "output_type": "stream",
          "name": "stderr",
          "text": [
            "/usr/local/lib/python3.7/dist-packages/ipykernel_launcher.py:1: FutureWarning: The default value of regex will change from True to False in a future version.\n",
            "  \"\"\"Entry point for launching an IPython kernel.\n",
            "/usr/local/lib/python3.7/dist-packages/ipykernel_launcher.py:1: SettingWithCopyWarning: \n",
            "A value is trying to be set on a copy of a slice from a DataFrame.\n",
            "Try using .loc[row_indexer,col_indexer] = value instead\n",
            "\n",
            "See the caveats in the documentation: https://pandas.pydata.org/pandas-docs/stable/user_guide/indexing.html#returning-a-view-versus-a-copy\n",
            "  \"\"\"Entry point for launching an IPython kernel.\n"
          ]
        }
      ]
    },
    {
      "cell_type": "code",
      "source": [
        "df2021.dtypes"
      ],
      "metadata": {
        "colab": {
          "base_uri": "https://localhost:8080/"
        },
        "id": "OryITy50HouN",
        "outputId": "6a3a1e8a-751c-4801-dde3-9fd221ee1471"
      },
      "execution_count": null,
      "outputs": [
        {
          "output_type": "execute_result",
          "data": {
            "text/plain": [
              "Año                     int64\n",
              "Mes                    object\n",
              "Nacionalidad           object\n",
              "Codigo Iso 3166        object\n",
              "Femenino                int64\n",
              "Masculino               int64\n",
              "Indefinido            float64\n",
              "Total                   int64\n",
              "Latitud - Longitud     object\n",
              "dtype: object"
            ]
          },
          "metadata": {},
          "execution_count": 18
        }
      ]
    },
    {
      "cell_type": "markdown",
      "source": [
        "## Funcion Replace\n",
        "\n",
        "Se aplico la funcion replace para agrupar los niveles de la variable Nacionalidad."
      ],
      "metadata": {
        "id": "yKRj-ZS7VWK7"
      }
    },
    {
      "cell_type": "code",
      "source": [
        "df2021['Nacionalidad']=df2021['Nacionalidad'].replace([ \"Angola\",\"Argelia\",\"Benín\",\"Botsuana\",\"Burkina Faso\",\"Burundi\",\"Cabo Verde\",\"Camerún\",\"Chad\",\"Comoras\",\"República Del Congo\"\n",
        ",\"República Democrática del Congo\",\"Costa de Marfil\",\"Egipto\",\"Eritrea\",\"Etiopia\",\"Gabón\",\"Gambia\",\"Ghana\",\"Guinea\",\"Guinea Ecuatorial\",\"Guinea Bissau\",\"Santa Elena, Ascensión y Tristán de Acuña\",\n",
        "\"Kenia\",\"Lesoto\",\"Liberia\",\"Libia\",\"Madagascar\",\"Malaui\",\"Malí\",\"Marruecos\",\"Mauricio\",\"Mauritania\",\"Mayotte\",\"Mozambique\",\"Namibia\", \"Níger\",\"Nigeria\",\"República Centroafricana\",\"Reunión\",\"Rwanda\"\n",
        ",\"Santo Tomé y Príncipe\",\"Senegal\",\"Seychelles\",\"Sierra Leona\",\"Somalia\",\"Sudáfrica\",\"Sudán\",\"Sudán del Sur\",\"Suazilandia\",\"Tanzania\",\"Togo\",\"Túnez\",\"Uganda\"\n",
        ",\"Yibuti\",\"Zambia\",\"Zimbabue\",\"Malawi\"],[\"AFRICA\",\"AFRICA\",\"AFRICA\",\"AFRICA\",\"AFRICA\",\"AFRICA\",\"AFRICA\",\"AFRICA\",\"AFRICA\",\"AFRICA\",\"AFRICA\",\"AFRICA\",\"AFRICA\",\"AFRICA\",\"AFRICA\",\"AFRICA\",\"AFRICA\",\"AFRICA\",\"AFRICA\",\"AFRICA\",\"AFRICA\",\"AFRICA\",\"AFRICA\",\"AFRICA\",\"AFRICA\",\"AFRICA\",\"AFRICA\",\"AFRICA\",\"AFRICA\",\"AFRICA\",\"AFRICA\",\"AFRICA\",\"AFRICA\",\"AFRICA\",\"AFRICA\",\"AFRICA\",\"AFRICA\",\"AFRICA\",\"AFRICA\",\"AFRICA\",\"AFRICA\",\"AFRICA\",\"AFRICA\",\"AFRICA\",\"AFRICA\",\"AFRICA\",\"AFRICA\",\"AFRICA\",\"AFRICA\",\"AFRICA\",\"AFRICA\",\"AFRICA\",\"AFRICA\",\"AFRICA\",\"AFRICA\",\"AFRICA\",\"AFRICA\",\"AFRICA\"])"
      ],
      "metadata": {
        "colab": {
          "base_uri": "https://localhost:8080/"
        },
        "id": "7pMwc6c7i5MS",
        "outputId": "25c3f9a9-12f6-4321-86c7-db70af7f1274"
      },
      "execution_count": null,
      "outputs": [
        {
          "output_type": "stream",
          "name": "stderr",
          "text": [
            "/usr/local/lib/python3.7/dist-packages/ipykernel_launcher.py:5: SettingWithCopyWarning: \n",
            "A value is trying to be set on a copy of a slice from a DataFrame.\n",
            "Try using .loc[row_indexer,col_indexer] = value instead\n",
            "\n",
            "See the caveats in the documentation: https://pandas.pydata.org/pandas-docs/stable/user_guide/indexing.html#returning-a-view-versus-a-copy\n",
            "  \"\"\"\n"
          ]
        }
      ]
    },
    {
      "cell_type": "code",
      "source": [
        "df2021['Nacionalidad']=df2021['Nacionalidad'].replace([\"Estados Unidos de América\",\"México\",\"Aruba\",\"Bahamas\",\"Canadá\",\"Dominica\",\"Islas Turcas y Caicos/Territorio Británico de Ultramar\",\"Islas Vírgenes Británicas/Territorio Británico de Ultramar\",\"Jamaica\",\"Puerto Rico/Territorio de Estados Unidos\",\"República Dominicana\",\"San  Vicente y las Granadinas\",\"San Cristóbal y Nevis\",\"San Martín (Países Bajos)\",\"Santa Lucia\",\"Anguila/Territorio Británico de Ultramar\",\"Bermudas/Territorio Británico de Ultramar\"],[\"NORTE AMERICA\",\"NORTE AMERICA\",\"NORTE AMERICA\",\"NORTE AMERICA\",\"NORTE AMERICA\",\"NORTE AMERICA\",\"NORTE AMERICA\",\"NORTE AMERICA\",\"NORTE AMERICA\",\"NORTE AMERICA\",\"NORTE AMERICA\",\"NORTE AMERICA\",\"NORTE AMERICA\",\"NORTE AMERICA\",\"NORTE AMERICA\",\"NORTE AMERICA\",\"NORTE AMERICA\"])"
      ],
      "metadata": {
        "colab": {
          "base_uri": "https://localhost:8080/"
        },
        "id": "veXpYQdLnMQA",
        "outputId": "298cef03-0ddd-477c-c2d6-5bb757f610f3"
      },
      "execution_count": null,
      "outputs": [
        {
          "output_type": "stream",
          "name": "stderr",
          "text": [
            "/usr/local/lib/python3.7/dist-packages/ipykernel_launcher.py:1: SettingWithCopyWarning: \n",
            "A value is trying to be set on a copy of a slice from a DataFrame.\n",
            "Try using .loc[row_indexer,col_indexer] = value instead\n",
            "\n",
            "See the caveats in the documentation: https://pandas.pydata.org/pandas-docs/stable/user_guide/indexing.html#returning-a-view-versus-a-copy\n",
            "  \"\"\"Entry point for launching an IPython kernel.\n"
          ]
        }
      ]
    },
    {
      "cell_type": "code",
      "source": [
        "df2021['Nacionalidad']=df2021['Nacionalidad'].replace([\"Belice\",\"Costa Rica\",\"El Salvador\",\"Guatemala\",\"Honduras\",\"Nicaragua\",\"Panamá\",\"Barbados\",\"Cuba\",\"Curazao\",\"Antigua y Barbuda\",\"Islas Caimán/Territorio Británico de Ultramar\"],[\"LATINO AMERICA\",\"LATINO AMERICA\",\"LATINO AMERICA\",\"LATINO AMERICA\",\"LATINO AMERICA\",\"LATINO AMERICA\",\"LATINO AMERICA\",\"LATINO AMERICA\",\"LATINO AMERICA\",\"LATINO AMERICA\",\"LATINO AMERICA\",\"LATINO AMERICA\"])"
      ],
      "metadata": {
        "colab": {
          "base_uri": "https://localhost:8080/"
        },
        "id": "K4Fb0PEStmTF",
        "outputId": "f1dd33ab-47c5-44b5-82bc-e406892a9ab4"
      },
      "execution_count": null,
      "outputs": [
        {
          "output_type": "stream",
          "name": "stderr",
          "text": [
            "/usr/local/lib/python3.7/dist-packages/ipykernel_launcher.py:1: SettingWithCopyWarning: \n",
            "A value is trying to be set on a copy of a slice from a DataFrame.\n",
            "Try using .loc[row_indexer,col_indexer] = value instead\n",
            "\n",
            "See the caveats in the documentation: https://pandas.pydata.org/pandas-docs/stable/user_guide/indexing.html#returning-a-view-versus-a-copy\n",
            "  \"\"\"Entry point for launching an IPython kernel.\n"
          ]
        }
      ]
    },
    {
      "cell_type": "code",
      "source": [
        "df2021['Nacionalidad']=df2021['Nacionalidad'].replace([\"Argentina\",\"Bolivia\",\"Brasil\",\"Chile\",\"Colombia\",\"Ecuador\",\"Guyana\",\"Paraguay\",\"Perú\",\"Surinam\",\"Uruguay\",\"Venezuela\",\"Haití\",\"Granada\",\"Trinidad y Tobago\"],[\"LATINO AMERICA\",\"LATINO AMERICA\",\"LATINO AMERICA\",\"LATINO AMERICA\",\"LATINO AMERICA\",\"LATINO AMERICA\",\"LATINO AMERICA\",\"LATINO AMERICA\",\"LATINO AMERICA\",\"LATINO AMERICA\",\"LATINO AMERICA\",\"LATINO AMERICA\",\"LATINO AMERICA\",\"LATINO AMERICA\",\"LATINO AMERICA\"])"
      ],
      "metadata": {
        "colab": {
          "base_uri": "https://localhost:8080/"
        },
        "id": "APnSQjW7uxq7",
        "outputId": "1f44e325-30a5-4151-eee9-14e73128f09d"
      },
      "execution_count": null,
      "outputs": [
        {
          "output_type": "stream",
          "name": "stderr",
          "text": [
            "/usr/local/lib/python3.7/dist-packages/ipykernel_launcher.py:1: SettingWithCopyWarning: \n",
            "A value is trying to be set on a copy of a slice from a DataFrame.\n",
            "Try using .loc[row_indexer,col_indexer] = value instead\n",
            "\n",
            "See the caveats in the documentation: https://pandas.pydata.org/pandas-docs/stable/user_guide/indexing.html#returning-a-view-versus-a-copy\n",
            "  \"\"\"Entry point for launching an IPython kernel.\n"
          ]
        }
      ]
    },
    {
      "cell_type": "code",
      "source": [
        "df2021['Nacionalidad']=df2021['Nacionalidad'].replace([\"República Democrática Popular  Lao\",\"Afganistán\",\"Arabia Saudita\",\"República de Armenia\",\"Azerbaiyán\",\"Bangladesh\",\"Bahréin\",\"Myanmar\",\"Bután\",\n",
        "                                                       \"Brunei Darussalam\",\"Camboya\",\"Qatar\",\"China\",\"Corea del Norte\",\"República de Corea\",\"Emiratos Árabes\",\n",
        "                                                       \"Filipinas\",\"Hong Kong\",\"India\",\"Indonesia\",\"Iraq\",\"Irán\",\"Israel\",\"Japón\",\"Jordania\",\n",
        "                                                       \"Kazajistán\",\"Kirguistán\",\"Kuwait\",\"República Democrática Popular Lao\",\"Líbano\",\"Macao\",\"Malasia\",\"Maldivas\",\"Mongolia\",\"Nepal\",\n",
        "                                                       \"Omán\",\"Pakistán\",\"Palestina\",\"República de China\",\"Singapur\",\"República Árabe Siria\",\"Sri Lanka\",\"Tailandia\",\n",
        "                                                       \"República de Tayikistán\",\"Turkmenistán\",\"Turquía\",\"Uzbekistán\",\"Vietnam\",\"República Árabe de Yemen\",\"Taiwán\"],[\"ASIA\",\"ASIA\",\"ASIA\",\"ASIA\",\"ASIA\",\"ASIA\",\"ASIA\",\"ASIA\",\"ASIA\",\"ASIA\",\"ASIA\",\"ASIA\",\"ASIA\",\"ASIA\",\"ASIA\",\"ASIA\",\"ASIA\",\"ASIA\",\"ASIA\",\"ASIA\",\"ASIA\",\"ASIA\",\"ASIA\",\"ASIA\",\"ASIA\",\"ASIA\",\"ASIA\",\"ASIA\",\"ASIA\",\"ASIA\",\"ASIA\",\"ASIA\",\"ASIA\",\"ASIA\",\"ASIA\",\"ASIA\",\"ASIA\",\"ASIA\",\"ASIA\",\"ASIA\",\"ASIA\",\"ASIA\",\"ASIA\",\"ASIA\",\"ASIA\",\"ASIA\",\"ASIA\",\"ASIA\",\"ASIA\",\"ASIA\"])"
      ],
      "metadata": {
        "colab": {
          "base_uri": "https://localhost:8080/"
        },
        "id": "eqJYPA_q_tS7",
        "outputId": "fbc4f8be-a930-4210-9ea5-904da98cea14"
      },
      "execution_count": null,
      "outputs": [
        {
          "output_type": "stream",
          "name": "stderr",
          "text": [
            "/usr/local/lib/python3.7/dist-packages/ipykernel_launcher.py:6: SettingWithCopyWarning: \n",
            "A value is trying to be set on a copy of a slice from a DataFrame.\n",
            "Try using .loc[row_indexer,col_indexer] = value instead\n",
            "\n",
            "See the caveats in the documentation: https://pandas.pydata.org/pandas-docs/stable/user_guide/indexing.html#returning-a-view-versus-a-copy\n",
            "  \n"
          ]
        }
      ]
    },
    {
      "cell_type": "code",
      "source": [
        "df2021['Nacionalidad']=df2021['Nacionalidad'].replace([\"Acrotiri y Dhekelia\",\"Åland\",\"Albania\",\"Alemania\",\"Andorra\",\"Austria\",\"Bélgica\",\"República de Belarús\",\n",
        "                                                       \"Bosnia y Herzegovina\",\"Bulgaria\",\"Santa Sede/Ciudad del Vaticano\",\"Chipre\",\"Croacia\",\"Dinamarca\",\n",
        "                                                       \"Eslovaquia\",\"Eslovenia\",\"España\",\"Estonia\",\"Finlandia\",\"Francia\",\"Georgia\",\"Gibraltar\",\"Grecia\",\n",
        "                                                       \"Guernsey\",\"Hungría\",\"Irlanda\",\"Islandia\",\"Isla de Man\",\"Italia\",\"Jersey\",\"República de Kosovo\",\"Letonia\",\"Liechtenstein\",\"Lituania\",\n",
        "                                                       \"Luxemburgo\",\"Macedonia\",\"Malta\",\"República de Moldavia\",\"Mónaco\",\"Noruega\",\"Países Bajos\",\"Polonia\",\"Portugal\",\"Escocia\",\"Gales\",\n",
        "                                                       \"Inglaterra\",\"República de Irlanda\",\"República Checa\",\"Rumania\",\"Federación de Rusia\",\"San Marino\",\"Serbia\",\"Suecia\",\"Suiza\",\"Ucrania\",\"Montenegro\",\"Reino Unido de Gran Bretaña e Irlanda del Norte\"],[\"EUROPA\",\"EUROPA\",\"EUROPA\",\"EUROPA\",\"EUROPA\",\"EUROPA\",\"EUROPA\",\"EUROPA\",\"EUROPA\",\"EUROPA\",\"EUROPA\",\"EUROPA\",\"EUROPA\",\"EUROPA\",\"EUROPA\",\"EUROPA\",\"EUROPA\",\"EUROPA\",\"EUROPA\",\"EUROPA\",\"EUROPA\",\"EUROPA\",\"EUROPA\",\"EUROPA\",\"EUROPA\",\"EUROPA\",\"EUROPA\",\"EUROPA\",\"EUROPA\",\"EUROPA\",\"EUROPA\",\"EUROPA\",\"EUROPA\",\"EUROPA\",\"EUROPA\",\"EUROPA\",\"EUROPA\",\"EUROPA\",\"EUROPA\",\"EUROPA\",\"EUROPA\",\"EUROPA\",\"EUROPA\",\"EUROPA\",\"EUROPA\",\"EUROPA\",\"EUROPA\",\"EUROPA\",\"EUROPA\",\"EUROPA\",\"EUROPA\",\"EUROPA\",\"EUROPA\",\"EUROPA\",\"EUROPA\",\"EUROPA\",\"EUROPA\"])"
      ],
      "metadata": {
        "colab": {
          "base_uri": "https://localhost:8080/"
        },
        "id": "DvLSLAr5BruY",
        "outputId": "779dfb65-b970-4c48-c37f-325055c6bf89"
      },
      "execution_count": null,
      "outputs": [
        {
          "output_type": "stream",
          "name": "stderr",
          "text": [
            "/usr/local/lib/python3.7/dist-packages/ipykernel_launcher.py:6: SettingWithCopyWarning: \n",
            "A value is trying to be set on a copy of a slice from a DataFrame.\n",
            "Try using .loc[row_indexer,col_indexer] = value instead\n",
            "\n",
            "See the caveats in the documentation: https://pandas.pydata.org/pandas-docs/stable/user_guide/indexing.html#returning-a-view-versus-a-copy\n",
            "  \n"
          ]
        }
      ]
    },
    {
      "cell_type": "code",
      "source": [
        "df2021['Nacionalidad']=df2021['Nacionalidad'].replace([\"Australia\",\"Islas Fiji\",\"Guam\",\"Islas Cook\",\"Isla de Navidad\",\"Islas Marshall\",\"Islas Pitcairn\",\"Islas Salomón\",\"Micronesia\",\n",
        "                                                       \"Kiribati\",\"Nauru\",\"Niue\",\"Norfolk\",\"Nueva Zelanda\",\"Palaos\",\"Papúa Nueva Guinea\",\"Polinesia Francesa\",\n",
        "                                                       \"Rapa Nui\",\"Samoa Americana\",\"Samoa\",\"Tonga\",\"Tuvalu\",\"Islas Heard Y Mcdonald\",\"Vanuatu\",\"Wallis y Futuna\",\"Palau\"],[\"OCEANIA\",\"OCEANIA\",\"OCEANIA\",\"OCEANIA\",\"OCEANIA\",\"OCEANIA\",\"OCEANIA\",\"OCEANIA\",\"OCEANIA\",\"OCEANIA\",\"OCEANIA\",\"OCEANIA\",\"OCEANIA\",\"OCEANIA\",\"OCEANIA\",\"OCEANIA\",\"OCEANIA\",\"OCEANIA\",\"OCEANIA\",\"OCEANIA\",\"OCEANIA\",\"OCEANIA\",\"OCEANIA\",\"OCEANIA\",\"OCEANIA\",\"OCEANIA\"])"
      ],
      "metadata": {
        "colab": {
          "base_uri": "https://localhost:8080/"
        },
        "id": "GBJSSnGIDWLp",
        "outputId": "5be2264c-b1b1-4dc6-9e13-d4368b27a1cb"
      },
      "execution_count": null,
      "outputs": [
        {
          "output_type": "stream",
          "name": "stderr",
          "text": [
            "/usr/local/lib/python3.7/dist-packages/ipykernel_launcher.py:3: SettingWithCopyWarning: \n",
            "A value is trying to be set on a copy of a slice from a DataFrame.\n",
            "Try using .loc[row_indexer,col_indexer] = value instead\n",
            "\n",
            "See the caveats in the documentation: https://pandas.pydata.org/pandas-docs/stable/user_guide/indexing.html#returning-a-view-versus-a-copy\n",
            "  This is separate from the ipykernel package so we can avoid doing imports until\n"
          ]
        }
      ]
    },
    {
      "cell_type": "code",
      "source": [
        "df2021[\"Nacionalidad\"]=df2021[\"Nacionalidad\"].replace([\"Territorio Antártico Británico/Territorio Británico de Ultramar\"],[\"Desconocido\"])"
      ],
      "metadata": {
        "colab": {
          "base_uri": "https://localhost:8080/"
        },
        "id": "SF9Akdha2ek3",
        "outputId": "5db6d8e0-bf2d-46fd-abd2-21a70229feff"
      },
      "execution_count": null,
      "outputs": [
        {
          "output_type": "stream",
          "name": "stderr",
          "text": [
            "/usr/local/lib/python3.7/dist-packages/ipykernel_launcher.py:1: SettingWithCopyWarning: \n",
            "A value is trying to be set on a copy of a slice from a DataFrame.\n",
            "Try using .loc[row_indexer,col_indexer] = value instead\n",
            "\n",
            "See the caveats in the documentation: https://pandas.pydata.org/pandas-docs/stable/user_guide/indexing.html#returning-a-view-versus-a-copy\n",
            "  \"\"\"Entry point for launching an IPython kernel.\n"
          ]
        }
      ]
    },
    {
      "cell_type": "code",
      "source": [
        "(df2021 \n",
        "  .groupby(\"Nacionalidad\")\n",
        "  .agg(frequency=(\"Nacionalidad\", \"count\")))"
      ],
      "metadata": {
        "colab": {
          "base_uri": "https://localhost:8080/",
          "height": 300
        },
        "id": "vm5aReFuwOew",
        "outputId": "73ed0941-6417-4125-bd64-364e3d45ddd5"
      },
      "execution_count": null,
      "outputs": [
        {
          "output_type": "execute_result",
          "data": {
            "text/html": [
              "\n",
              "  <div id=\"df-272c8199-4cd8-4090-8db5-79ae1e0d4f61\">\n",
              "    <div class=\"colab-df-container\">\n",
              "      <div>\n",
              "<style scoped>\n",
              "    .dataframe tbody tr th:only-of-type {\n",
              "        vertical-align: middle;\n",
              "    }\n",
              "\n",
              "    .dataframe tbody tr th {\n",
              "        vertical-align: top;\n",
              "    }\n",
              "\n",
              "    .dataframe thead th {\n",
              "        text-align: right;\n",
              "    }\n",
              "</style>\n",
              "<table border=\"1\" class=\"dataframe\">\n",
              "  <thead>\n",
              "    <tr style=\"text-align: right;\">\n",
              "      <th></th>\n",
              "      <th>frequency</th>\n",
              "    </tr>\n",
              "    <tr>\n",
              "      <th>Nacionalidad</th>\n",
              "      <th></th>\n",
              "    </tr>\n",
              "  </thead>\n",
              "  <tbody>\n",
              "    <tr>\n",
              "      <th>AFRICA</th>\n",
              "      <td>464</td>\n",
              "    </tr>\n",
              "    <tr>\n",
              "      <th>ASIA</th>\n",
              "      <td>1322</td>\n",
              "    </tr>\n",
              "    <tr>\n",
              "      <th>Desconocido</th>\n",
              "      <td>38</td>\n",
              "    </tr>\n",
              "    <tr>\n",
              "      <th>EUROPA</th>\n",
              "      <td>3001</td>\n",
              "    </tr>\n",
              "    <tr>\n",
              "      <th>LATINO AMERICA</th>\n",
              "      <td>2445</td>\n",
              "    </tr>\n",
              "    <tr>\n",
              "      <th>NORTE AMERICA</th>\n",
              "      <td>916</td>\n",
              "    </tr>\n",
              "    <tr>\n",
              "      <th>OCEANIA</th>\n",
              "      <td>159</td>\n",
              "    </tr>\n",
              "  </tbody>\n",
              "</table>\n",
              "</div>\n",
              "      <button class=\"colab-df-convert\" onclick=\"convertToInteractive('df-272c8199-4cd8-4090-8db5-79ae1e0d4f61')\"\n",
              "              title=\"Convert this dataframe to an interactive table.\"\n",
              "              style=\"display:none;\">\n",
              "        \n",
              "  <svg xmlns=\"http://www.w3.org/2000/svg\" height=\"24px\"viewBox=\"0 0 24 24\"\n",
              "       width=\"24px\">\n",
              "    <path d=\"M0 0h24v24H0V0z\" fill=\"none\"/>\n",
              "    <path d=\"M18.56 5.44l.94 2.06.94-2.06 2.06-.94-2.06-.94-.94-2.06-.94 2.06-2.06.94zm-11 1L8.5 8.5l.94-2.06 2.06-.94-2.06-.94L8.5 2.5l-.94 2.06-2.06.94zm10 10l.94 2.06.94-2.06 2.06-.94-2.06-.94-.94-2.06-.94 2.06-2.06.94z\"/><path d=\"M17.41 7.96l-1.37-1.37c-.4-.4-.92-.59-1.43-.59-.52 0-1.04.2-1.43.59L10.3 9.45l-7.72 7.72c-.78.78-.78 2.05 0 2.83L4 21.41c.39.39.9.59 1.41.59.51 0 1.02-.2 1.41-.59l7.78-7.78 2.81-2.81c.8-.78.8-2.07 0-2.86zM5.41 20L4 18.59l7.72-7.72 1.47 1.35L5.41 20z\"/>\n",
              "  </svg>\n",
              "      </button>\n",
              "      \n",
              "  <style>\n",
              "    .colab-df-container {\n",
              "      display:flex;\n",
              "      flex-wrap:wrap;\n",
              "      gap: 12px;\n",
              "    }\n",
              "\n",
              "    .colab-df-convert {\n",
              "      background-color: #E8F0FE;\n",
              "      border: none;\n",
              "      border-radius: 50%;\n",
              "      cursor: pointer;\n",
              "      display: none;\n",
              "      fill: #1967D2;\n",
              "      height: 32px;\n",
              "      padding: 0 0 0 0;\n",
              "      width: 32px;\n",
              "    }\n",
              "\n",
              "    .colab-df-convert:hover {\n",
              "      background-color: #E2EBFA;\n",
              "      box-shadow: 0px 1px 2px rgba(60, 64, 67, 0.3), 0px 1px 3px 1px rgba(60, 64, 67, 0.15);\n",
              "      fill: #174EA6;\n",
              "    }\n",
              "\n",
              "    [theme=dark] .colab-df-convert {\n",
              "      background-color: #3B4455;\n",
              "      fill: #D2E3FC;\n",
              "    }\n",
              "\n",
              "    [theme=dark] .colab-df-convert:hover {\n",
              "      background-color: #434B5C;\n",
              "      box-shadow: 0px 1px 3px 1px rgba(0, 0, 0, 0.15);\n",
              "      filter: drop-shadow(0px 1px 2px rgba(0, 0, 0, 0.3));\n",
              "      fill: #FFFFFF;\n",
              "    }\n",
              "  </style>\n",
              "\n",
              "      <script>\n",
              "        const buttonEl =\n",
              "          document.querySelector('#df-272c8199-4cd8-4090-8db5-79ae1e0d4f61 button.colab-df-convert');\n",
              "        buttonEl.style.display =\n",
              "          google.colab.kernel.accessAllowed ? 'block' : 'none';\n",
              "\n",
              "        async function convertToInteractive(key) {\n",
              "          const element = document.querySelector('#df-272c8199-4cd8-4090-8db5-79ae1e0d4f61');\n",
              "          const dataTable =\n",
              "            await google.colab.kernel.invokeFunction('convertToInteractive',\n",
              "                                                     [key], {});\n",
              "          if (!dataTable) return;\n",
              "\n",
              "          const docLinkHtml = 'Like what you see? Visit the ' +\n",
              "            '<a target=\"_blank\" href=https://colab.research.google.com/notebooks/data_table.ipynb>data table notebook</a>'\n",
              "            + ' to learn more about interactive tables.';\n",
              "          element.innerHTML = '';\n",
              "          dataTable['output_type'] = 'display_data';\n",
              "          await google.colab.output.renderOutput(dataTable, element);\n",
              "          const docLink = document.createElement('div');\n",
              "          docLink.innerHTML = docLinkHtml;\n",
              "          element.appendChild(docLink);\n",
              "        }\n",
              "      </script>\n",
              "    </div>\n",
              "  </div>\n",
              "  "
            ],
            "text/plain": [
              "                frequency\n",
              "Nacionalidad             \n",
              "AFRICA                464\n",
              "ASIA                 1322\n",
              "Desconocido            38\n",
              "EUROPA               3001\n",
              "LATINO AMERICA       2445\n",
              "NORTE AMERICA         916\n",
              "OCEANIA               159"
            ]
          },
          "metadata": {},
          "execution_count": 27
        }
      ]
    },
    {
      "cell_type": "code",
      "source": [
        "df2021['Ciudad']=df2021[\"Latitud - Longitud\"];df2021"
      ],
      "metadata": {
        "colab": {
          "base_uri": "https://localhost:8080/",
          "height": 528
        },
        "id": "F6KGbSOWxgBy",
        "outputId": "e58d3558-8d29-410e-bd5e-6eb8c46d6849"
      },
      "execution_count": null,
      "outputs": [
        {
          "output_type": "stream",
          "name": "stderr",
          "text": [
            "/usr/local/lib/python3.7/dist-packages/ipykernel_launcher.py:1: SettingWithCopyWarning: \n",
            "A value is trying to be set on a copy of a slice from a DataFrame.\n",
            "Try using .loc[row_indexer,col_indexer] = value instead\n",
            "\n",
            "See the caveats in the documentation: https://pandas.pydata.org/pandas-docs/stable/user_guide/indexing.html#returning-a-view-versus-a-copy\n",
            "  \"\"\"Entry point for launching an IPython kernel.\n"
          ]
        },
        {
          "output_type": "execute_result",
          "data": {
            "text/html": [
              "\n",
              "  <div id=\"df-dab8d28f-6228-4b50-ada5-23e31e97b598\">\n",
              "    <div class=\"colab-df-container\">\n",
              "      <div>\n",
              "<style scoped>\n",
              "    .dataframe tbody tr th:only-of-type {\n",
              "        vertical-align: middle;\n",
              "    }\n",
              "\n",
              "    .dataframe tbody tr th {\n",
              "        vertical-align: top;\n",
              "    }\n",
              "\n",
              "    .dataframe thead th {\n",
              "        text-align: right;\n",
              "    }\n",
              "</style>\n",
              "<table border=\"1\" class=\"dataframe\">\n",
              "  <thead>\n",
              "    <tr style=\"text-align: right;\">\n",
              "      <th></th>\n",
              "      <th>Año</th>\n",
              "      <th>Mes</th>\n",
              "      <th>Nacionalidad</th>\n",
              "      <th>Codigo Iso 3166</th>\n",
              "      <th>Femenino</th>\n",
              "      <th>Masculino</th>\n",
              "      <th>Indefinido</th>\n",
              "      <th>Total</th>\n",
              "      <th>Latitud - Longitud</th>\n",
              "      <th>Ciudad</th>\n",
              "    </tr>\n",
              "  </thead>\n",
              "  <tbody>\n",
              "    <tr>\n",
              "      <th>103948</th>\n",
              "      <td>2021</td>\n",
              "      <td>Enero</td>\n",
              "      <td>ASIA</td>\n",
              "      <td>4</td>\n",
              "      <td>0</td>\n",
              "      <td>1</td>\n",
              "      <td>NaN</td>\n",
              "      <td>1</td>\n",
              "      <td>(4.697144,-74.140516)</td>\n",
              "      <td>(4.697144,-74.140516)</td>\n",
              "    </tr>\n",
              "    <tr>\n",
              "      <th>103949</th>\n",
              "      <td>2021</td>\n",
              "      <td>Enero</td>\n",
              "      <td>EUROPA</td>\n",
              "      <td>8</td>\n",
              "      <td>0</td>\n",
              "      <td>1</td>\n",
              "      <td>NaN</td>\n",
              "      <td>1</td>\n",
              "      <td>(10.445761,-75.516429)</td>\n",
              "      <td>(10.445761,-75.516429)</td>\n",
              "    </tr>\n",
              "    <tr>\n",
              "      <th>103950</th>\n",
              "      <td>2021</td>\n",
              "      <td>Enero</td>\n",
              "      <td>EUROPA</td>\n",
              "      <td>8</td>\n",
              "      <td>1</td>\n",
              "      <td>15</td>\n",
              "      <td>NaN</td>\n",
              "      <td>16</td>\n",
              "      <td>(4.697144,-74.140516)</td>\n",
              "      <td>(4.697144,-74.140516)</td>\n",
              "    </tr>\n",
              "    <tr>\n",
              "      <th>103951</th>\n",
              "      <td>2021</td>\n",
              "      <td>Enero</td>\n",
              "      <td>EUROPA</td>\n",
              "      <td>8</td>\n",
              "      <td>0</td>\n",
              "      <td>1</td>\n",
              "      <td>NaN</td>\n",
              "      <td>1</td>\n",
              "      <td>(6.171601,-75.427454)</td>\n",
              "      <td>(6.171601,-75.427454)</td>\n",
              "    </tr>\n",
              "    <tr>\n",
              "      <th>103952</th>\n",
              "      <td>2021</td>\n",
              "      <td>Enero</td>\n",
              "      <td>EUROPA</td>\n",
              "      <td>276</td>\n",
              "      <td>3</td>\n",
              "      <td>3</td>\n",
              "      <td>NaN</td>\n",
              "      <td>6</td>\n",
              "      <td>(10.408582,-75.538003)</td>\n",
              "      <td>(10.408582,-75.538003)</td>\n",
              "    </tr>\n",
              "    <tr>\n",
              "      <th>...</th>\n",
              "      <td>...</td>\n",
              "      <td>...</td>\n",
              "      <td>...</td>\n",
              "      <td>...</td>\n",
              "      <td>...</td>\n",
              "      <td>...</td>\n",
              "      <td>...</td>\n",
              "      <td>...</td>\n",
              "      <td>...</td>\n",
              "      <td>...</td>\n",
              "    </tr>\n",
              "    <tr>\n",
              "      <th>112288</th>\n",
              "      <td>2021</td>\n",
              "      <td>Diciembre</td>\n",
              "      <td>NORTE AMERICA</td>\n",
              "      <td>660</td>\n",
              "      <td>0</td>\n",
              "      <td>1</td>\n",
              "      <td>NaN</td>\n",
              "      <td>1</td>\n",
              "      <td>(3.541112,-76.384584)</td>\n",
              "      <td>(3.541112,-76.384584)</td>\n",
              "    </tr>\n",
              "    <tr>\n",
              "      <th>112289</th>\n",
              "      <td>2021</td>\n",
              "      <td>Diciembre</td>\n",
              "      <td>NORTE AMERICA</td>\n",
              "      <td>660</td>\n",
              "      <td>1</td>\n",
              "      <td>1</td>\n",
              "      <td>NaN</td>\n",
              "      <td>2</td>\n",
              "      <td>(4.697144,-74.140516)</td>\n",
              "      <td>(4.697144,-74.140516)</td>\n",
              "    </tr>\n",
              "    <tr>\n",
              "      <th>112290</th>\n",
              "      <td>2021</td>\n",
              "      <td>Diciembre</td>\n",
              "      <td>NORTE AMERICA</td>\n",
              "      <td>796</td>\n",
              "      <td>0</td>\n",
              "      <td>2</td>\n",
              "      <td>NaN</td>\n",
              "      <td>2</td>\n",
              "      <td>(10.445761,-75.516429)</td>\n",
              "      <td>(10.445761,-75.516429)</td>\n",
              "    </tr>\n",
              "    <tr>\n",
              "      <th>112291</th>\n",
              "      <td>2021</td>\n",
              "      <td>Diciembre</td>\n",
              "      <td>Desconocido</td>\n",
              "      <td>99,999</td>\n",
              "      <td>31</td>\n",
              "      <td>41</td>\n",
              "      <td>NaN</td>\n",
              "      <td>72</td>\n",
              "      <td>(4.697144,-74.140516)</td>\n",
              "      <td>(4.697144,-74.140516)</td>\n",
              "    </tr>\n",
              "    <tr>\n",
              "      <th>112292</th>\n",
              "      <td>2021</td>\n",
              "      <td>Diciembre</td>\n",
              "      <td>Desconocido</td>\n",
              "      <td>99,999</td>\n",
              "      <td>0</td>\n",
              "      <td>2</td>\n",
              "      <td>NaN</td>\n",
              "      <td>2</td>\n",
              "      <td>(7.818934,-72.453226)</td>\n",
              "      <td>(7.818934,-72.453226)</td>\n",
              "    </tr>\n",
              "  </tbody>\n",
              "</table>\n",
              "<p>8345 rows × 10 columns</p>\n",
              "</div>\n",
              "      <button class=\"colab-df-convert\" onclick=\"convertToInteractive('df-dab8d28f-6228-4b50-ada5-23e31e97b598')\"\n",
              "              title=\"Convert this dataframe to an interactive table.\"\n",
              "              style=\"display:none;\">\n",
              "        \n",
              "  <svg xmlns=\"http://www.w3.org/2000/svg\" height=\"24px\"viewBox=\"0 0 24 24\"\n",
              "       width=\"24px\">\n",
              "    <path d=\"M0 0h24v24H0V0z\" fill=\"none\"/>\n",
              "    <path d=\"M18.56 5.44l.94 2.06.94-2.06 2.06-.94-2.06-.94-.94-2.06-.94 2.06-2.06.94zm-11 1L8.5 8.5l.94-2.06 2.06-.94-2.06-.94L8.5 2.5l-.94 2.06-2.06.94zm10 10l.94 2.06.94-2.06 2.06-.94-2.06-.94-.94-2.06-.94 2.06-2.06.94z\"/><path d=\"M17.41 7.96l-1.37-1.37c-.4-.4-.92-.59-1.43-.59-.52 0-1.04.2-1.43.59L10.3 9.45l-7.72 7.72c-.78.78-.78 2.05 0 2.83L4 21.41c.39.39.9.59 1.41.59.51 0 1.02-.2 1.41-.59l7.78-7.78 2.81-2.81c.8-.78.8-2.07 0-2.86zM5.41 20L4 18.59l7.72-7.72 1.47 1.35L5.41 20z\"/>\n",
              "  </svg>\n",
              "      </button>\n",
              "      \n",
              "  <style>\n",
              "    .colab-df-container {\n",
              "      display:flex;\n",
              "      flex-wrap:wrap;\n",
              "      gap: 12px;\n",
              "    }\n",
              "\n",
              "    .colab-df-convert {\n",
              "      background-color: #E8F0FE;\n",
              "      border: none;\n",
              "      border-radius: 50%;\n",
              "      cursor: pointer;\n",
              "      display: none;\n",
              "      fill: #1967D2;\n",
              "      height: 32px;\n",
              "      padding: 0 0 0 0;\n",
              "      width: 32px;\n",
              "    }\n",
              "\n",
              "    .colab-df-convert:hover {\n",
              "      background-color: #E2EBFA;\n",
              "      box-shadow: 0px 1px 2px rgba(60, 64, 67, 0.3), 0px 1px 3px 1px rgba(60, 64, 67, 0.15);\n",
              "      fill: #174EA6;\n",
              "    }\n",
              "\n",
              "    [theme=dark] .colab-df-convert {\n",
              "      background-color: #3B4455;\n",
              "      fill: #D2E3FC;\n",
              "    }\n",
              "\n",
              "    [theme=dark] .colab-df-convert:hover {\n",
              "      background-color: #434B5C;\n",
              "      box-shadow: 0px 1px 3px 1px rgba(0, 0, 0, 0.15);\n",
              "      filter: drop-shadow(0px 1px 2px rgba(0, 0, 0, 0.3));\n",
              "      fill: #FFFFFF;\n",
              "    }\n",
              "  </style>\n",
              "\n",
              "      <script>\n",
              "        const buttonEl =\n",
              "          document.querySelector('#df-dab8d28f-6228-4b50-ada5-23e31e97b598 button.colab-df-convert');\n",
              "        buttonEl.style.display =\n",
              "          google.colab.kernel.accessAllowed ? 'block' : 'none';\n",
              "\n",
              "        async function convertToInteractive(key) {\n",
              "          const element = document.querySelector('#df-dab8d28f-6228-4b50-ada5-23e31e97b598');\n",
              "          const dataTable =\n",
              "            await google.colab.kernel.invokeFunction('convertToInteractive',\n",
              "                                                     [key], {});\n",
              "          if (!dataTable) return;\n",
              "\n",
              "          const docLinkHtml = 'Like what you see? Visit the ' +\n",
              "            '<a target=\"_blank\" href=https://colab.research.google.com/notebooks/data_table.ipynb>data table notebook</a>'\n",
              "            + ' to learn more about interactive tables.';\n",
              "          element.innerHTML = '';\n",
              "          dataTable['output_type'] = 'display_data';\n",
              "          await google.colab.output.renderOutput(dataTable, element);\n",
              "          const docLink = document.createElement('div');\n",
              "          docLink.innerHTML = docLinkHtml;\n",
              "          element.appendChild(docLink);\n",
              "        }\n",
              "      </script>\n",
              "    </div>\n",
              "  </div>\n",
              "  "
            ],
            "text/plain": [
              "         Año        Mes   Nacionalidad Codigo Iso 3166  Femenino  Masculino  \\\n",
              "103948  2021      Enero           ASIA               4         0          1   \n",
              "103949  2021      Enero         EUROPA               8         0          1   \n",
              "103950  2021      Enero         EUROPA               8         1         15   \n",
              "103951  2021      Enero         EUROPA               8         0          1   \n",
              "103952  2021      Enero         EUROPA             276         3          3   \n",
              "...      ...        ...            ...             ...       ...        ...   \n",
              "112288  2021  Diciembre  NORTE AMERICA             660         0          1   \n",
              "112289  2021  Diciembre  NORTE AMERICA             660         1          1   \n",
              "112290  2021  Diciembre  NORTE AMERICA             796         0          2   \n",
              "112291  2021  Diciembre    Desconocido          99,999        31         41   \n",
              "112292  2021  Diciembre    Desconocido          99,999         0          2   \n",
              "\n",
              "        Indefinido  Total      Latitud - Longitud                  Ciudad  \n",
              "103948         NaN      1   (4.697144,-74.140516)   (4.697144,-74.140516)  \n",
              "103949         NaN      1  (10.445761,-75.516429)  (10.445761,-75.516429)  \n",
              "103950         NaN     16   (4.697144,-74.140516)   (4.697144,-74.140516)  \n",
              "103951         NaN      1   (6.171601,-75.427454)   (6.171601,-75.427454)  \n",
              "103952         NaN      6  (10.408582,-75.538003)  (10.408582,-75.538003)  \n",
              "...            ...    ...                     ...                     ...  \n",
              "112288         NaN      1   (3.541112,-76.384584)   (3.541112,-76.384584)  \n",
              "112289         NaN      2   (4.697144,-74.140516)   (4.697144,-74.140516)  \n",
              "112290         NaN      2  (10.445761,-75.516429)  (10.445761,-75.516429)  \n",
              "112291         NaN     72   (4.697144,-74.140516)   (4.697144,-74.140516)  \n",
              "112292         NaN      2   (7.818934,-72.453226)   (7.818934,-72.453226)  \n",
              "\n",
              "[8345 rows x 10 columns]"
            ]
          },
          "metadata": {},
          "execution_count": 28
        }
      ]
    },
    {
      "cell_type": "code",
      "source": [
        "df2021['Ciudad']=df2021[\"Ciudad\"].replace([\"(10.445761,-75.516429)\",\"(6.171601,-75.427454)\",\"(4.697144,-74.140516)\",\"(3.541112,-76.384584)\",\"(10.886611,-74.776708)\",\"(4.815061,-75.736532)\"],[\"CARTAGENA\",\"ANTIOQUIA\",\"BOGOTA\",\"CALI\",\"SOLEDAD\",\"PEREIRA\"])"
      ],
      "metadata": {
        "colab": {
          "base_uri": "https://localhost:8080/"
        },
        "id": "6rV4892nxt6S",
        "outputId": "c8fda6f1-abcb-45a0-e877-9504f6fd9de4"
      },
      "execution_count": null,
      "outputs": [
        {
          "output_type": "stream",
          "name": "stderr",
          "text": [
            "/usr/local/lib/python3.7/dist-packages/ipykernel_launcher.py:1: SettingWithCopyWarning: \n",
            "A value is trying to be set on a copy of a slice from a DataFrame.\n",
            "Try using .loc[row_indexer,col_indexer] = value instead\n",
            "\n",
            "See the caveats in the documentation: https://pandas.pydata.org/pandas-docs/stable/user_guide/indexing.html#returning-a-view-versus-a-copy\n",
            "  \"\"\"Entry point for launching an IPython kernel.\n"
          ]
        }
      ]
    },
    {
      "cell_type": "code",
      "source": [
        "df2021['Ciudad']=df2021[\"Ciudad\"].replace([\"(6.185799,-67.483929)\",\"(-0.193180,-74.784874)\",\"(-4.197703,-69.941278)\",\"(-4.223468,-69.945098)\",\"(0.25129,-76.875963)\",\"(0.814836,-77.662532)\",\"(1.813928,-78.763924)\",\n",
        "                                           \"(10.408582,-75.538003)\",\"(10.433609,-73.247863)\",\"(10.971302,-74.765397)\",\"(11.117806,-74.232622)\",\"(11.247723,-74.213989)\",\"(11.360009,-72.129330)\",\n",
        "                                           \"(11.528919,-72.919681)\",\"(12.165168,-71.983761)\",\"(12.5744111,-81.703935)\",\"(12.586067,-81.702563)\",\"(13.3387613,-81.372937)\",\"(3.866713,-67.927521)\",\n",
        "                                           \"(3.893038,-77.067921)\",\"(4.253669,-74.642361)\",\"(4.452882,-75.766298)\",\"(6.17134,-75.427194)\",\"(6.228046,-77.404104)\",\"(7.088729,-70.740253)\",\n",
        "                                           \"(7.102626,-77.762647)\",\"(7.128456,-73.183637)\",\"(7.818934,-72.453226)\",\"(7.916725,-72.462544)\",\"(7.927209,-72.507910)\",\"(8.066966,-76.735404)\",\"(8.36068,-72.409396)\",\n",
        "                                           \"(8.635765,-77.346578)\",\"(9.402978,-75.681599)\"],[\"RESTO\",\"RESTO\",\"RESTO\",\"RESTO\",\"RESTO\",\"RESTO\",\"RESTO\",\"RESTO\",\"RESTO\",\"RESTO\",\"RESTO\",\"RESTO\",\"RESTO\",\"RESTO\",\"RESTO\",\"RESTO\",\"RESTO\",\"RESTO\",\"RESTO\",\"RESTO\",\"RESTO\",\"RESTO\",\"RESTO\",\"RESTO\",\"RESTO\",\"RESTO\",\"RESTO\",\"RESTO\",\"RESTO\",\"RESTO\",\"RESTO\",\"RESTO\",\"RESTO\",\"RESTO\"])"
      ],
      "metadata": {
        "colab": {
          "base_uri": "https://localhost:8080/"
        },
        "id": "rKsxGM393mn9",
        "outputId": "a2d9cf2a-8bb1-4993-bb9d-4aad13fedab8"
      },
      "execution_count": null,
      "outputs": [
        {
          "output_type": "stream",
          "name": "stderr",
          "text": [
            "/usr/local/lib/python3.7/dist-packages/ipykernel_launcher.py:6: SettingWithCopyWarning: \n",
            "A value is trying to be set on a copy of a slice from a DataFrame.\n",
            "Try using .loc[row_indexer,col_indexer] = value instead\n",
            "\n",
            "See the caveats in the documentation: https://pandas.pydata.org/pandas-docs/stable/user_guide/indexing.html#returning-a-view-versus-a-copy\n",
            "  \n"
          ]
        }
      ]
    },
    {
      "cell_type": "code",
      "source": [
        "(df2021 \n",
        "  .groupby(\"Ciudad\")\n",
        "  .agg(frequency=(\"Ciudad\", \"count\")))"
      ],
      "metadata": {
        "colab": {
          "base_uri": "https://localhost:8080/",
          "height": 300
        },
        "id": "bPsIkW0Hx_C_",
        "outputId": "642e089d-bcf5-4efa-cfb6-82bd7b156236"
      },
      "execution_count": null,
      "outputs": [
        {
          "output_type": "execute_result",
          "data": {
            "text/html": [
              "\n",
              "  <div id=\"df-fc8f0d50-0e53-4e24-b479-283252abe20b\">\n",
              "    <div class=\"colab-df-container\">\n",
              "      <div>\n",
              "<style scoped>\n",
              "    .dataframe tbody tr th:only-of-type {\n",
              "        vertical-align: middle;\n",
              "    }\n",
              "\n",
              "    .dataframe tbody tr th {\n",
              "        vertical-align: top;\n",
              "    }\n",
              "\n",
              "    .dataframe thead th {\n",
              "        text-align: right;\n",
              "    }\n",
              "</style>\n",
              "<table border=\"1\" class=\"dataframe\">\n",
              "  <thead>\n",
              "    <tr style=\"text-align: right;\">\n",
              "      <th></th>\n",
              "      <th>frequency</th>\n",
              "    </tr>\n",
              "    <tr>\n",
              "      <th>Ciudad</th>\n",
              "      <th></th>\n",
              "    </tr>\n",
              "  </thead>\n",
              "  <tbody>\n",
              "    <tr>\n",
              "      <th>ANTIOQUIA</th>\n",
              "      <td>1111</td>\n",
              "    </tr>\n",
              "    <tr>\n",
              "      <th>BOGOTA</th>\n",
              "      <td>1597</td>\n",
              "    </tr>\n",
              "    <tr>\n",
              "      <th>CALI</th>\n",
              "      <td>835</td>\n",
              "    </tr>\n",
              "    <tr>\n",
              "      <th>CARTAGENA</th>\n",
              "      <td>1013</td>\n",
              "    </tr>\n",
              "    <tr>\n",
              "      <th>PEREIRA</th>\n",
              "      <td>404</td>\n",
              "    </tr>\n",
              "    <tr>\n",
              "      <th>RESTO</th>\n",
              "      <td>2721</td>\n",
              "    </tr>\n",
              "    <tr>\n",
              "      <th>SOLEDAD</th>\n",
              "      <td>664</td>\n",
              "    </tr>\n",
              "  </tbody>\n",
              "</table>\n",
              "</div>\n",
              "      <button class=\"colab-df-convert\" onclick=\"convertToInteractive('df-fc8f0d50-0e53-4e24-b479-283252abe20b')\"\n",
              "              title=\"Convert this dataframe to an interactive table.\"\n",
              "              style=\"display:none;\">\n",
              "        \n",
              "  <svg xmlns=\"http://www.w3.org/2000/svg\" height=\"24px\"viewBox=\"0 0 24 24\"\n",
              "       width=\"24px\">\n",
              "    <path d=\"M0 0h24v24H0V0z\" fill=\"none\"/>\n",
              "    <path d=\"M18.56 5.44l.94 2.06.94-2.06 2.06-.94-2.06-.94-.94-2.06-.94 2.06-2.06.94zm-11 1L8.5 8.5l.94-2.06 2.06-.94-2.06-.94L8.5 2.5l-.94 2.06-2.06.94zm10 10l.94 2.06.94-2.06 2.06-.94-2.06-.94-.94-2.06-.94 2.06-2.06.94z\"/><path d=\"M17.41 7.96l-1.37-1.37c-.4-.4-.92-.59-1.43-.59-.52 0-1.04.2-1.43.59L10.3 9.45l-7.72 7.72c-.78.78-.78 2.05 0 2.83L4 21.41c.39.39.9.59 1.41.59.51 0 1.02-.2 1.41-.59l7.78-7.78 2.81-2.81c.8-.78.8-2.07 0-2.86zM5.41 20L4 18.59l7.72-7.72 1.47 1.35L5.41 20z\"/>\n",
              "  </svg>\n",
              "      </button>\n",
              "      \n",
              "  <style>\n",
              "    .colab-df-container {\n",
              "      display:flex;\n",
              "      flex-wrap:wrap;\n",
              "      gap: 12px;\n",
              "    }\n",
              "\n",
              "    .colab-df-convert {\n",
              "      background-color: #E8F0FE;\n",
              "      border: none;\n",
              "      border-radius: 50%;\n",
              "      cursor: pointer;\n",
              "      display: none;\n",
              "      fill: #1967D2;\n",
              "      height: 32px;\n",
              "      padding: 0 0 0 0;\n",
              "      width: 32px;\n",
              "    }\n",
              "\n",
              "    .colab-df-convert:hover {\n",
              "      background-color: #E2EBFA;\n",
              "      box-shadow: 0px 1px 2px rgba(60, 64, 67, 0.3), 0px 1px 3px 1px rgba(60, 64, 67, 0.15);\n",
              "      fill: #174EA6;\n",
              "    }\n",
              "\n",
              "    [theme=dark] .colab-df-convert {\n",
              "      background-color: #3B4455;\n",
              "      fill: #D2E3FC;\n",
              "    }\n",
              "\n",
              "    [theme=dark] .colab-df-convert:hover {\n",
              "      background-color: #434B5C;\n",
              "      box-shadow: 0px 1px 3px 1px rgba(0, 0, 0, 0.15);\n",
              "      filter: drop-shadow(0px 1px 2px rgba(0, 0, 0, 0.3));\n",
              "      fill: #FFFFFF;\n",
              "    }\n",
              "  </style>\n",
              "\n",
              "      <script>\n",
              "        const buttonEl =\n",
              "          document.querySelector('#df-fc8f0d50-0e53-4e24-b479-283252abe20b button.colab-df-convert');\n",
              "        buttonEl.style.display =\n",
              "          google.colab.kernel.accessAllowed ? 'block' : 'none';\n",
              "\n",
              "        async function convertToInteractive(key) {\n",
              "          const element = document.querySelector('#df-fc8f0d50-0e53-4e24-b479-283252abe20b');\n",
              "          const dataTable =\n",
              "            await google.colab.kernel.invokeFunction('convertToInteractive',\n",
              "                                                     [key], {});\n",
              "          if (!dataTable) return;\n",
              "\n",
              "          const docLinkHtml = 'Like what you see? Visit the ' +\n",
              "            '<a target=\"_blank\" href=https://colab.research.google.com/notebooks/data_table.ipynb>data table notebook</a>'\n",
              "            + ' to learn more about interactive tables.';\n",
              "          element.innerHTML = '';\n",
              "          dataTable['output_type'] = 'display_data';\n",
              "          await google.colab.output.renderOutput(dataTable, element);\n",
              "          const docLink = document.createElement('div');\n",
              "          docLink.innerHTML = docLinkHtml;\n",
              "          element.appendChild(docLink);\n",
              "        }\n",
              "      </script>\n",
              "    </div>\n",
              "  </div>\n",
              "  "
            ],
            "text/plain": [
              "           frequency\n",
              "Ciudad              \n",
              "ANTIOQUIA       1111\n",
              "BOGOTA          1597\n",
              "CALI             835\n",
              "CARTAGENA       1013\n",
              "PEREIRA          404\n",
              "RESTO           2721\n",
              "SOLEDAD          664"
            ]
          },
          "metadata": {},
          "execution_count": 31
        }
      ]
    },
    {
      "cell_type": "code",
      "source": [
        "df2021.head"
      ],
      "metadata": {
        "colab": {
          "base_uri": "https://localhost:8080/"
        },
        "id": "-YOFTcu70OjD",
        "outputId": "01b31432-5cae-418b-b6fc-a7c371fa0b3a"
      },
      "execution_count": null,
      "outputs": [
        {
          "output_type": "execute_result",
          "data": {
            "text/plain": [
              "<bound method NDFrame.head of          Año        Mes   Nacionalidad Codigo Iso 3166  Femenino  Masculino  \\\n",
              "103948  2021      Enero           ASIA               4         0          1   \n",
              "103949  2021      Enero         EUROPA               8         0          1   \n",
              "103950  2021      Enero         EUROPA               8         1         15   \n",
              "103951  2021      Enero         EUROPA               8         0          1   \n",
              "103952  2021      Enero         EUROPA             276         3          3   \n",
              "...      ...        ...            ...             ...       ...        ...   \n",
              "112288  2021  Diciembre  NORTE AMERICA             660         0          1   \n",
              "112289  2021  Diciembre  NORTE AMERICA             660         1          1   \n",
              "112290  2021  Diciembre  NORTE AMERICA             796         0          2   \n",
              "112291  2021  Diciembre    Desconocido          99,999        31         41   \n",
              "112292  2021  Diciembre    Desconocido          99,999         0          2   \n",
              "\n",
              "        Indefinido  Total      Latitud - Longitud     Ciudad  \n",
              "103948         NaN      1   (4.697144,-74.140516)     BOGOTA  \n",
              "103949         NaN      1  (10.445761,-75.516429)  CARTAGENA  \n",
              "103950         NaN     16   (4.697144,-74.140516)     BOGOTA  \n",
              "103951         NaN      1   (6.171601,-75.427454)  ANTIOQUIA  \n",
              "103952         NaN      6  (10.408582,-75.538003)      RESTO  \n",
              "...            ...    ...                     ...        ...  \n",
              "112288         NaN      1   (3.541112,-76.384584)       CALI  \n",
              "112289         NaN      2   (4.697144,-74.140516)     BOGOTA  \n",
              "112290         NaN      2  (10.445761,-75.516429)  CARTAGENA  \n",
              "112291         NaN     72   (4.697144,-74.140516)     BOGOTA  \n",
              "112292         NaN      2   (7.818934,-72.453226)      RESTO  \n",
              "\n",
              "[8345 rows x 10 columns]>"
            ]
          },
          "metadata": {},
          "execution_count": 32
        }
      ]
    },
    {
      "cell_type": "code",
      "source": [
        "import pandas as pd\n",
        "import numpy as np\n",
        "import seaborn as sns\n",
        "import matplotlib as plt\n",
        "import matplotlib.pyplot as plt\n",
        "import altair as alt\n",
        "from vega_datasets import data"
      ],
      "metadata": {
        "id": "zYEm8rcJ7BAa"
      },
      "execution_count": null,
      "outputs": []
    },
    {
      "cell_type": "code",
      "source": [
        "df2021.dtypes"
      ],
      "metadata": {
        "colab": {
          "base_uri": "https://localhost:8080/"
        },
        "id": "6zxMEBJ97qK5",
        "outputId": "e677b660-befa-49d1-9807-fb5335056e57"
      },
      "execution_count": null,
      "outputs": [
        {
          "output_type": "execute_result",
          "data": {
            "text/plain": [
              "Año                     int64\n",
              "Mes                    object\n",
              "Nacionalidad           object\n",
              "Codigo Iso 3166        object\n",
              "Femenino                int64\n",
              "Masculino               int64\n",
              "Indefinido            float64\n",
              "Total                   int64\n",
              "Latitud - Longitud     object\n",
              "Ciudad                 object\n",
              "dtype: object"
            ]
          },
          "metadata": {},
          "execution_count": 35
        }
      ]
    },
    {
      "cell_type": "markdown",
      "source": [
        "#**¿Que? Abstracción de datos**"
      ],
      "metadata": {
        "id": "W_CO7iF8Ysri"
      }
    },
    {
      "cell_type": "markdown",
      "source": [
        "**¿Qué datos ve el usuario?** El usuario observa la cantidad de extranjeros que llegan a ciudades de colombia desagregados por Nacionalidad.\n",
        "\n",
        "**¿Qué datos se proporcionan?** A partir de las siguientes visualizaciones observaremos la cantidad de extranjeros que llegan por mes a Colombia, así mismo en las demás visualizaciones nos permitirán determinar qué ciudad recibe más extranjeros durante el año 2021 y finalmente se visualizará de que continente provienen los extranjeros"
      ],
      "metadata": {
        "id": "4TVhaQNBYh7Y"
      }
    },
    {
      "cell_type": "markdown",
      "source": [
        "#**¿Por qué? ¿Que tipo de tarea requiere el usuario?** "
      ],
      "metadata": {
        "id": "wf0mEbmvYmPL"
      }
    },
    {
      "cell_type": "markdown",
      "source": [
        "La tarea que requiere el usuario es visualizar los flujos de inmigracion a colombia, posteriormente se pueden desarrollar visualizaciones discriminadas por género y por ciudad de destino. Esto para identificar tendencias, que nos permitirían descubrir cuál es el destino turístico de preferencia de los norteamericanos, latino americanos y europeos, que visitan Colombia"
      ],
      "metadata": {
        "id": "tX71sM3_Yjcu"
      }
    },
    {
      "cell_type": "markdown",
      "source": [
        "#Diagrama de barras"
      ],
      "metadata": {
        "id": "D_Qhg_ooV11T"
      }
    },
    {
      "cell_type": "markdown",
      "source": [
        "**Marcas** : Lineas.\n",
        "\n",
        "**Canales** : posición -horizontal."
      ],
      "metadata": {
        "id": "61gOcha6W7KF"
      }
    },
    {
      "cell_type": "code",
      "source": [
        "sns.barplot(data = df2021,\n",
        "            estimator = sum,\n",
        "            x = \"Total\", \n",
        "            y = \"Mes\",\n",
        "            ci = None)"
      ],
      "metadata": {
        "colab": {
          "base_uri": "https://localhost:8080/",
          "height": 519
        },
        "id": "xKBYReg_7Tyy",
        "outputId": "ea08dd6c-55a3-4811-f5ee-150821258e8a"
      },
      "execution_count": null,
      "outputs": [
        {
          "output_type": "execute_result",
          "data": {
            "text/plain": [
              "<matplotlib.axes._subplots.AxesSubplot at 0x7fd5f159ebd0>"
            ]
          },
          "metadata": {},
          "execution_count": 36
        },
        {
          "output_type": "display_data",
          "data": {
            "image/png": "[encoded data removed]",
            "text/plain": [
              "<Figure size 864x576 with 1 Axes>"
            ]
          },
          "metadata": {}
        }
      ]
    },
    {
      "cell_type": "code",
      "source": [
        "df2021.groupby('Ciudad').sum()[\"Total\"].plot(kind='bar')"
      ],
      "metadata": {
        "colab": {
          "base_uri": "https://localhost:8080/",
          "height": 576
        },
        "id": "bVXe0CEX4bsc",
        "outputId": "c8071921-cb71-43cb-a360-e9173794f306"
      },
      "execution_count": null,
      "outputs": [
        {
          "output_type": "execute_result",
          "data": {
            "text/plain": [
              "<matplotlib.axes._subplots.AxesSubplot at 0x7fd5f10314d0>"
            ]
          },
          "metadata": {},
          "execution_count": 37
        },
        {
          "output_type": "display_data",
          "data": {
            "image/png": "[encoded data removed]",
            "text/plain": [
              "<Figure size 864x576 with 1 Axes>"
            ]
          },
          "metadata": {}
        }
      ]
    },
    {
      "cell_type": "code",
      "source": [
        "df2021.groupby('Nacionalidad').sum()[\"Total\"].plot(kind='bar')"
      ],
      "metadata": {
        "colab": {
          "base_uri": "https://localhost:8080/",
          "height": 603
        },
        "id": "zfUeol364gmQ",
        "outputId": "8be0006a-5176-45b4-d580-cce9c75d82a4"
      },
      "execution_count": null,
      "outputs": [
        {
          "output_type": "execute_result",
          "data": {
            "text/plain": [
              "<matplotlib.axes._subplots.AxesSubplot at 0x7fd5f0fadfd0>"
            ]
          },
          "metadata": {},
          "execution_count": 38
        },
        {
          "output_type": "display_data",
          "data": {
            "image/png": "[encoded data removed]",
            "text/plain": [
              "<Figure size 864x576 with 1 Axes>"
            ]
          },
          "metadata": {}
        }
      ]
    },
    {
      "cell_type": "markdown",
      "source": [
        "#Donut-chart"
      ],
      "metadata": {
        "id": "d6SeIGJo41YC"
      }
    },
    {
      "cell_type": "markdown",
      "source": [
        "**Marcas** : Area.\n",
        "\n",
        "**Canales** :size: longitud, color"
      ],
      "metadata": {
        "id": "6sgiqkZXXB1c"
      }
    },
    {
      "cell_type": "code",
      "source": [
        "tab1 = df2021.groupby('Ciudad').sum()[\"Total\"].values\n",
        "tab1"
      ],
      "metadata": {
        "colab": {
          "base_uri": "https://localhost:8080/"
        },
        "id": "jKL9HlZ6S0zQ",
        "outputId": "e3fd62b3-e150-47a9-85e0-640337779f0b"
      },
      "execution_count": null,
      "outputs": [
        {
          "output_type": "execute_result",
          "data": {
            "text/plain": [
              "array([268081, 800345,  84824, 146570,  12738, 167844,  41724])"
            ]
          },
          "metadata": {},
          "execution_count": 39
        }
      ]
    },
    {
      "cell_type": "code",
      "source": [
        "import matplotlib.pyplot as plt\n",
        "  \n",
        "  \n",
        "\n",
        "# valores\n",
        "sizes = [268081, 800345,  84824, 146570,  12738, 167844,  41724]\n",
        "  \n",
        "# etiqueta\n",
        "labels = ['Antioquia', 'Bogota', 'Cali', 'Cartagena', 'Pereira',\"Resto\",\"Soledad\"]\n",
        "  \n",
        "# color\n",
        "colors = ['#FF0000', '#0000FF', '#FFFF00', '#ADFF2F', '#FFA500','#5F9EA0','#A52A2A']\n",
        "  \n",
        "explode = (0.05, 0.05, 0.05, 0.05, 0.05,0.05,0.05)\n",
        "  \n",
        "# Grafico\n",
        "plt.pie(sizes, colors=colors, labels=labels,\n",
        "        autopct='%1.1f%%', pctdistance=2, \n",
        "        explode=explode)\n",
        "  \n",
        "\n",
        "centre_circle = plt.Circle((0, 0), 0.7, fc='white')\n",
        "fig = plt.gcf()\n",
        "  \n",
        "# Titulo\n",
        "fig.gca().add_artist(centre_circle)\n",
        "  \n",
        "plt.title('Cantidad de extranjeros por ciudad')\n",
        "  \n",
        "\n",
        "plt.show()"
      ],
      "metadata": {
        "colab": {
          "base_uri": "https://localhost:8080/",
          "height": 625
        },
        "id": "qNiYIbO8mqz2",
        "outputId": "b5a15772-c812-48a9-9568-3888b2c9d33b"
      },
      "execution_count": null,
      "outputs": [
        {
          "output_type": "display_data",
          "data": {
            "image/png": "[encoded data removed]",
            "text/plain": [
              "<Figure size 864x576 with 1 Axes>"
            ]
          },
          "metadata": {}
        }
      ]
    },
    {
      "cell_type": "code",
      "source": [
        "df2021.groupby('Nacionalidad').sum()[\"Total\"].values"
      ],
      "metadata": {
        "colab": {
          "base_uri": "https://localhost:8080/"
        },
        "id": "yR715Y6monFK",
        "outputId": "97a9ff69-46c7-4811-a996-4c275565fa85"
      },
      "execution_count": null,
      "outputs": [
        {
          "output_type": "execute_result",
          "data": {
            "text/plain": [
              "array([  1747,  28154,    760, 210232, 623798, 654866,   2569])"
            ]
          },
          "metadata": {},
          "execution_count": 41
        }
      ]
    },
    {
      "cell_type": "code",
      "source": [
        "import matplotlib.pyplot as plt\n",
        "  \n",
        "  \n",
        "\n",
        "# Valores\n",
        "sizes = [  1747,  28154,    760, 210232, 623798, 654866,   2569]\n",
        "  \n",
        "# Etiquetas\n",
        "labels = [\"Africa\",\"Asia\",\"Desconocido\",\"Europa\",\"Latino America\",\"Norte America\",\"Oceania\"]\n",
        "  \n",
        "# color\n",
        "colors = ['#FF0000', '#0000FF', '#FFFF00', '#ADFF2F', '#FFA500','#5F9EA0','#A52A2A']\n",
        "\n",
        "explode = (0.05, 0.05, 0.05, 0.05, 0.05,0.05,0.05)\n",
        "  \n",
        "# Grafico\n",
        "plt.pie(sizes, colors=colors, labels=labels,\n",
        "        autopct='%1.1f%%', pctdistance=2, \n",
        "        explode=explode)\n",
        "  \n",
        "\n",
        "centre_circle = plt.Circle((0, 0), 0.7, fc='white')\n",
        "fig = plt.gcf()\n",
        "  \n",
        "fig.gca().add_artist(centre_circle)\n",
        "  \n",
        "# titulo\n",
        "plt.title('Cantidad de extranjeros por continente')\n",
        "  \n",
        "\n",
        "plt.show()"
      ],
      "metadata": {
        "colab": {
          "base_uri": "https://localhost:8080/",
          "height": 663
        },
        "id": "nWs_q1HNob0O",
        "outputId": "2932e7d3-6ff5-443a-eeb3-ea7b42a228a8"
      },
      "execution_count": null,
      "outputs": [
        {
          "output_type": "display_data",
          "data": {
            "image/png": "[encoded data removed]",
            "text/plain": [
              "<Figure size 864x576 with 1 Axes>"
            ]
          },
          "metadata": {}
        }
      ]
    },
    {
      "cell_type": "markdown",
      "source": [
        "#Diagrama de torta"
      ],
      "metadata": {
        "id": "1KuWGE-kyDJU"
      }
    },
    {
      "cell_type": "markdown",
      "source": [
        "**Marcas** : Area.\n",
        "\n",
        "**Canales** :size: Area, color"
      ],
      "metadata": {
        "id": "1UOgFiJSXPr9"
      }
    },
    {
      "cell_type": "code",
      "source": [
        "df2021.groupby('Nacionalidad').sum()[\"Femenino\"].values"
      ],
      "metadata": {
        "colab": {
          "base_uri": "https://localhost:8080/"
        },
        "id": "dikGqwLVyuf1",
        "outputId": "7a4f6054-3a08-4f7a-f015-4b98245acecc"
      },
      "execution_count": null,
      "outputs": [
        {
          "output_type": "execute_result",
          "data": {
            "text/plain": [
              "array([   441,   7861,    308,  73576, 293804, 231485,    684])"
            ]
          },
          "metadata": {},
          "execution_count": 46
        }
      ]
    },
    {
      "cell_type": "code",
      "source": [
        "import matplotlib.pyplot as plt\n",
        "\n",
        "manzanas = [441,7861,308,73576,293804,231485,684]\n",
        "nombres = [\"Africa\",\"Asia\",\"Desconocido\",\"Europa\",\"Latino America\",\"Norte America\",\"Oceania\"]\n",
        "colores = ['#FF0000', '#0000FF', '#FFFF00', '#ADFF2F', '#FFA500','#5F9EA0','#A52A2A']\n",
        "desfase = (0.2, 1.5, 0.1, 0,0,0,0)\n",
        "plt.pie(manzanas, labels=nombres, autopct=\"%0.1f %%\", colors=colores, explode=desfase)\n",
        "plt.axis(\"equal\")\n",
        "plt.show()"
      ],
      "metadata": {
        "colab": {
          "base_uri": "https://localhost:8080/",
          "height": 466
        },
        "id": "cZ34-cq9yIbU",
        "outputId": "5d21cb5d-3d09-4c5a-e224-695732e8a869"
      },
      "execution_count": null,
      "outputs": [
        {
          "output_type": "display_data",
          "data": {
            "image/png": "[encoded data removed]",
            "text/plain": [
              "<Figure size 864x576 with 1 Axes>"
            ]
          },
          "metadata": {}
        }
      ]
    },
    {
      "cell_type": "code",
      "source": [
        "df2021.groupby('Nacionalidad').sum()[\"Masculino\"].values"
      ],
      "metadata": {
        "colab": {
          "base_uri": "https://localhost:8080/"
        },
        "id": "vF0c-npaz4dN",
        "outputId": "dc4f416b-76dd-4748-8f51-9694c744702d"
      },
      "execution_count": null,
      "outputs": [
        {
          "output_type": "execute_result",
          "data": {
            "text/plain": [
              "array([  1306,  20284,    451, 136627, 329954, 423311,   1885])"
            ]
          },
          "metadata": {},
          "execution_count": 55
        }
      ]
    },
    {
      "cell_type": "code",
      "source": [
        "import matplotlib.pyplot as plt\n",
        "\n",
        "manzanas = [  1306,  20284,    451, 136627, 329954, 423311,   1885]\n",
        "nombres = [\"Africa\",\"Asia\",\"Desconocido\",\"Europa\",\"Latino America\",\"Norte America\",\"Oceania\"]\n",
        "colores = ['#FF0000', '#0000FF', '#FFFF00', '#ADFF2F', '#FFA500','#5F9EA0','#A52A2A']\n",
        "desfase = (0.2, 1.5, 0.1, 0,0,0,0)\n",
        "plt.pie(manzanas, labels=nombres, autopct=\"%0.1f %%\", colors=colores, explode=desfase)\n",
        "plt.axis(\"equal\")\n",
        "plt.show()"
      ],
      "metadata": {
        "colab": {
          "base_uri": "https://localhost:8080/",
          "height": 466
        },
        "id": "SM49xUEGz8hP",
        "outputId": "8db1bf1c-8b53-42aa-8fe1-ceba0cb68467"
      },
      "execution_count": null,
      "outputs": [
        {
          "output_type": "display_data",
          "data": {
            "image/png": "[encoded data removed]",
            "text/plain": [
              "<Figure size 864x576 with 1 Axes>"
            ]
          },
          "metadata": {}
        }
      ]
    },
    {
      "cell_type": "markdown",
      "source": [
        "#MAPA DE CALOR"
      ],
      "metadata": {
        "id": "xs42zr2sSyCG"
      }
    },
    {
      "cell_type": "markdown",
      "source": [
        "**Marcas** : Areas.\n",
        "\n",
        "**Canales** :size: Area, color"
      ],
      "metadata": {
        "id": "nI8V531_XVOL"
      }
    },
    {
      "cell_type": "code",
      "source": [
        "mp2021=pd.pivot_table(df2021,columns=\"Nacionalidad\",index=\"Ciudad\",values=\"Total\",aggfunc= 'sum')\n",
        "mp2021"
      ],
      "metadata": {
        "colab": {
          "base_uri": "https://localhost:8080/",
          "height": 300
        },
        "id": "2hoVS7UhstU0",
        "outputId": "e5911aa6-2c13-403d-ea54-61d3c1b7ef1d"
      },
      "execution_count": null,
      "outputs": [
        {
          "output_type": "execute_result",
          "data": {
            "text/html": [
              "\n",
              "  <div id=\"df-a560564b-c077-4e67-b56e-32eea60b0493\">\n",
              "    <div class=\"colab-df-container\">\n",
              "      <div>\n",
              "<style scoped>\n",
              "    .dataframe tbody tr th:only-of-type {\n",
              "        vertical-align: middle;\n",
              "    }\n",
              "\n",
              "    .dataframe tbody tr th {\n",
              "        vertical-align: top;\n",
              "    }\n",
              "\n",
              "    .dataframe thead th {\n",
              "        text-align: right;\n",
              "    }\n",
              "</style>\n",
              "<table border=\"1\" class=\"dataframe\">\n",
              "  <thead>\n",
              "    <tr style=\"text-align: right;\">\n",
              "      <th>Nacionalidad</th>\n",
              "      <th>AFRICA</th>\n",
              "      <th>ASIA</th>\n",
              "      <th>Desconocido</th>\n",
              "      <th>EUROPA</th>\n",
              "      <th>LATINO AMERICA</th>\n",
              "      <th>NORTE AMERICA</th>\n",
              "      <th>OCEANIA</th>\n",
              "    </tr>\n",
              "    <tr>\n",
              "      <th>Ciudad</th>\n",
              "      <th></th>\n",
              "      <th></th>\n",
              "      <th></th>\n",
              "      <th></th>\n",
              "      <th></th>\n",
              "      <th></th>\n",
              "      <th></th>\n",
              "    </tr>\n",
              "  </thead>\n",
              "  <tbody>\n",
              "    <tr>\n",
              "      <th>ANTIOQUIA</th>\n",
              "      <td>148.000</td>\n",
              "      <td>3227.000</td>\n",
              "      <td>21.000</td>\n",
              "      <td>20908.000</td>\n",
              "      <td>66431.000</td>\n",
              "      <td>176783.000</td>\n",
              "      <td>563.000</td>\n",
              "    </tr>\n",
              "    <tr>\n",
              "      <th>BOGOTA</th>\n",
              "      <td>1340.000</td>\n",
              "      <td>20091.000</td>\n",
              "      <td>707.000</td>\n",
              "      <td>161000.000</td>\n",
              "      <td>343371.000</td>\n",
              "      <td>272256.000</td>\n",
              "      <td>1580.000</td>\n",
              "    </tr>\n",
              "    <tr>\n",
              "      <th>CALI</th>\n",
              "      <td>48.000</td>\n",
              "      <td>566.000</td>\n",
              "      <td>6.000</td>\n",
              "      <td>6550.000</td>\n",
              "      <td>23286.000</td>\n",
              "      <td>54288.000</td>\n",
              "      <td>80.000</td>\n",
              "    </tr>\n",
              "    <tr>\n",
              "      <th>CARTAGENA</th>\n",
              "      <td>138.000</td>\n",
              "      <td>1854.000</td>\n",
              "      <td>14.000</td>\n",
              "      <td>12387.000</td>\n",
              "      <td>26695.000</td>\n",
              "      <td>105342.000</td>\n",
              "      <td>140.000</td>\n",
              "    </tr>\n",
              "    <tr>\n",
              "      <th>PEREIRA</th>\n",
              "      <td>5.000</td>\n",
              "      <td>46.000</td>\n",
              "      <td>NaN</td>\n",
              "      <td>513.000</td>\n",
              "      <td>2541.000</td>\n",
              "      <td>9629.000</td>\n",
              "      <td>4.000</td>\n",
              "    </tr>\n",
              "    <tr>\n",
              "      <th>RESTO</th>\n",
              "      <td>42.000</td>\n",
              "      <td>1905.000</td>\n",
              "      <td>9.000</td>\n",
              "      <td>6080.000</td>\n",
              "      <td>149844.000</td>\n",
              "      <td>9878.000</td>\n",
              "      <td>86.000</td>\n",
              "    </tr>\n",
              "    <tr>\n",
              "      <th>SOLEDAD</th>\n",
              "      <td>26.000</td>\n",
              "      <td>465.000</td>\n",
              "      <td>3.000</td>\n",
              "      <td>2794.000</td>\n",
              "      <td>11630.000</td>\n",
              "      <td>26690.000</td>\n",
              "      <td>116.000</td>\n",
              "    </tr>\n",
              "  </tbody>\n",
              "</table>\n",
              "</div>\n",
              "      <button class=\"colab-df-convert\" onclick=\"convertToInteractive('df-a560564b-c077-4e67-b56e-32eea60b0493')\"\n",
              "              title=\"Convert this dataframe to an interactive table.\"\n",
              "              style=\"display:none;\">\n",
              "        \n",
              "  <svg xmlns=\"http://www.w3.org/2000/svg\" height=\"24px\"viewBox=\"0 0 24 24\"\n",
              "       width=\"24px\">\n",
              "    <path d=\"M0 0h24v24H0V0z\" fill=\"none\"/>\n",
              "    <path d=\"M18.56 5.44l.94 2.06.94-2.06 2.06-.94-2.06-.94-.94-2.06-.94 2.06-2.06.94zm-11 1L8.5 8.5l.94-2.06 2.06-.94-2.06-.94L8.5 2.5l-.94 2.06-2.06.94zm10 10l.94 2.06.94-2.06 2.06-.94-2.06-.94-.94-2.06-.94 2.06-2.06.94z\"/><path d=\"M17.41 7.96l-1.37-1.37c-.4-.4-.92-.59-1.43-.59-.52 0-1.04.2-1.43.59L10.3 9.45l-7.72 7.72c-.78.78-.78 2.05 0 2.83L4 21.41c.39.39.9.59 1.41.59.51 0 1.02-.2 1.41-.59l7.78-7.78 2.81-2.81c.8-.78.8-2.07 0-2.86zM5.41 20L4 18.59l7.72-7.72 1.47 1.35L5.41 20z\"/>\n",
              "  </svg>\n",
              "      </button>\n",
              "      \n",
              "  <style>\n",
              "    .colab-df-container {\n",
              "      display:flex;\n",
              "      flex-wrap:wrap;\n",
              "      gap: 12px;\n",
              "    }\n",
              "\n",
              "    .colab-df-convert {\n",
              "      background-color: #E8F0FE;\n",
              "      border: none;\n",
              "      border-radius: 50%;\n",
              "      cursor: pointer;\n",
              "      display: none;\n",
              "      fill: #1967D2;\n",
              "      height: 32px;\n",
              "      padding: 0 0 0 0;\n",
              "      width: 32px;\n",
              "    }\n",
              "\n",
              "    .colab-df-convert:hover {\n",
              "      background-color: #E2EBFA;\n",
              "      box-shadow: 0px 1px 2px rgba(60, 64, 67, 0.3), 0px 1px 3px 1px rgba(60, 64, 67, 0.15);\n",
              "      fill: #174EA6;\n",
              "    }\n",
              "\n",
              "    [theme=dark] .colab-df-convert {\n",
              "      background-color: #3B4455;\n",
              "      fill: #D2E3FC;\n",
              "    }\n",
              "\n",
              "    [theme=dark] .colab-df-convert:hover {\n",
              "      background-color: #434B5C;\n",
              "      box-shadow: 0px 1px 3px 1px rgba(0, 0, 0, 0.15);\n",
              "      filter: drop-shadow(0px 1px 2px rgba(0, 0, 0, 0.3));\n",
              "      fill: #FFFFFF;\n",
              "    }\n",
              "  </style>\n",
              "\n",
              "      <script>\n",
              "        const buttonEl =\n",
              "          document.querySelector('#df-a560564b-c077-4e67-b56e-32eea60b0493 button.colab-df-convert');\n",
              "        buttonEl.style.display =\n",
              "          google.colab.kernel.accessAllowed ? 'block' : 'none';\n",
              "\n",
              "        async function convertToInteractive(key) {\n",
              "          const element = document.querySelector('#df-a560564b-c077-4e67-b56e-32eea60b0493');\n",
              "          const dataTable =\n",
              "            await google.colab.kernel.invokeFunction('convertToInteractive',\n",
              "                                                     [key], {});\n",
              "          if (!dataTable) return;\n",
              "\n",
              "          const docLinkHtml = 'Like what you see? Visit the ' +\n",
              "            '<a target=\"_blank\" href=https://colab.research.google.com/notebooks/data_table.ipynb>data table notebook</a>'\n",
              "            + ' to learn more about interactive tables.';\n",
              "          element.innerHTML = '';\n",
              "          dataTable['output_type'] = 'display_data';\n",
              "          await google.colab.output.renderOutput(dataTable, element);\n",
              "          const docLink = document.createElement('div');\n",
              "          docLink.innerHTML = docLinkHtml;\n",
              "          element.appendChild(docLink);\n",
              "        }\n",
              "      </script>\n",
              "    </div>\n",
              "  </div>\n",
              "  "
            ],
            "text/plain": [
              "Nacionalidad   AFRICA      ASIA  Desconocido     EUROPA  LATINO AMERICA  \\\n",
              "Ciudad                                                                    \n",
              "ANTIOQUIA     148.000  3227.000       21.000  20908.000       66431.000   \n",
              "BOGOTA       1340.000 20091.000      707.000 161000.000      343371.000   \n",
              "CALI           48.000   566.000        6.000   6550.000       23286.000   \n",
              "CARTAGENA     138.000  1854.000       14.000  12387.000       26695.000   \n",
              "PEREIRA         5.000    46.000          NaN    513.000        2541.000   \n",
              "RESTO          42.000  1905.000        9.000   6080.000      149844.000   \n",
              "SOLEDAD        26.000   465.000        3.000   2794.000       11630.000   \n",
              "\n",
              "Nacionalidad  NORTE AMERICA  OCEANIA  \n",
              "Ciudad                                \n",
              "ANTIOQUIA        176783.000  563.000  \n",
              "BOGOTA           272256.000 1580.000  \n",
              "CALI              54288.000   80.000  \n",
              "CARTAGENA        105342.000  140.000  \n",
              "PEREIRA            9629.000    4.000  \n",
              "RESTO              9878.000   86.000  \n",
              "SOLEDAD           26690.000  116.000  "
            ]
          },
          "metadata": {},
          "execution_count": 43
        }
      ]
    },
    {
      "cell_type": "code",
      "source": [
        "import seaborn as ns\n",
        "ax=sns.heatmap(mp2021,center=200000,annot=False,linewidths=0.9,linecolor=\"white\",cmap=\"YlGnBu\");ax"
      ],
      "metadata": {
        "colab": {
          "base_uri": "https://localhost:8080/",
          "height": 603
        },
        "id": "RUeprFz5tiFt",
        "outputId": "0c42aafd-b348-4813-b0b5-7593a5e2404b"
      },
      "execution_count": null,
      "outputs": [
        {
          "output_type": "execute_result",
          "data": {
            "text/plain": [
              "<matplotlib.axes._subplots.AxesSubplot at 0x7fd5f0e29550>"
            ]
          },
          "metadata": {},
          "execution_count": 44
        },
        {
          "output_type": "display_data",
          "data": {
            "image/png": "[encoded data removed]",
            "text/plain": [
              "<Figure size 864x576 with 2 Axes>"
            ]
          },
          "metadata": {}
        }
      ]
    },
    {
      "cell_type": "code",
      "source": [
        "ax=sns.heatmap(mp2021,center=200000,annot=True,linewidths=0.9,linecolor=\"white\",cmap=\"YlGnBu\", fmt='g');ax"
      ],
      "metadata": {
        "colab": {
          "base_uri": "https://localhost:8080/",
          "height": 603
        },
        "id": "VSJ6rVXdt1lM",
        "outputId": "6f1f23f6-f521-4384-a5fc-025d8db76c35"
      },
      "execution_count": null,
      "outputs": [
        {
          "output_type": "execute_result",
          "data": {
            "text/plain": [
              "<matplotlib.axes._subplots.AxesSubplot at 0x7fd5f0f13750>"
            ]
          },
          "metadata": {},
          "execution_count": 45
        },
        {
          "output_type": "display_data",
          "data": {
            "image/png": "[encoded data removed]",
            "text/plain": [
              "<Figure size 864x576 with 2 Axes>"
            ]
          },
          "metadata": {}
        }
      ]
    },
    {
      "cell_type": "markdown",
      "source": [
        "#Barras apiladas"
      ],
      "metadata": {
        "id": "m5gmTMeU57Zm"
      }
    },
    {
      "cell_type": "code",
      "source": [
        "mp2021.plot(kind=\"bar\",stacked=\"TRUE\")"
      ],
      "metadata": {
        "colab": {
          "base_uri": "https://localhost:8080/",
          "height": 347
        },
        "id": "2jSkglx20w7t",
        "outputId": "d3f43473-f613-483f-b1c0-c5fd8c4250f6"
      },
      "execution_count": null,
      "outputs": [
        {
          "output_type": "execute_result",
          "data": {
            "text/plain": [
              "<matplotlib.axes._subplots.AxesSubplot at 0x7f1310f6d710>"
            ]
          },
          "metadata": {},
          "execution_count": 35
        },
        {
          "output_type": "display_data",
          "data": {
            "image/png": "[encoded data removed]",
            "text/plain": [
              "<Figure size 432x288 with 1 Axes>"
            ]
          },
          "metadata": {
            "needs_background": "light"
          }
        }
      ]
    }
  ]
}